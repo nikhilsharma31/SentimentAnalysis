{
  "cells": [
    {
      "cell_type": "markdown",
      "metadata": {
        "id": "Po9Zr7EvEUJ5"
      },
      "source": [
        "-------------------------------------------------------------------------------------------\n",
        "# CS616-Assignment 3\n",
        "-------------------------------------------------------------------------------------------\n",
        "The goal of this assignment is to implement the various emotion detection algorithms. I implemented and evaluated the following algorithms:\n",
        "1. Naive Bayes\n",
        "2. Support Vector Machine\n",
        "3. Long Short Term Memory (LSTM) based Neural Networks\n",
        "4. Transfer Learning using the BERT model.\n",
        "\n",
        "I implemented these algorithms on the hugging face tI et sentiment dataset, which had the following information:\n",
        "- TI ets: 18000 TI ets are there in the datset, and basic preprocessing has already been applied\n",
        "- Emotions: These 18000 tI ets I re classified into 6 emotions, which are: Anger, Sadness, Joy, Happiness, Surprise\n",
        "\n",
        "The dataset was already split a training set (16000 tI ets) and a test set (2000 tI ets)."
      ]
    },
    {
      "cell_type": "code",
      "execution_count": null,
      "metadata": {
        "id": "0-H0fAS1EQHw"
      },
      "outputs": [],
      "source": [
        "from datasets import load_dataset\n",
        "import pandas as pd\n",
        "import matplotlib.pyplot as plt\n",
        "from sklearn.metrics import f1_score\n",
        "from sklearn.metrics import accuracy_score\n",
        "import numpy as np"
      ]
    },
    {
      "cell_type": "code",
      "execution_count": null,
      "metadata": {
        "id": "FOAx4iksEQKW"
      },
      "outputs": [],
      "source": [
        "train_data, test_data = load_dataset('emotion',split=['train','test'])\n",
        "train_df = pd.DataFrame(train_data)\n",
        "test_df = pd.DataFrame(test_data)\n",
        "encoding  = {'anger':0,'fear':1, 'joy':2, 'love':3, 'sadness':4, 'surprise':5}\n",
        "decoding  = {0:'anger',1:'fear', 2:'joy', 3:'love', 4:'sadness', 5:'surprise'}"
      ]
    },
    {
      "cell_type": "markdown",
      "metadata": {
        "id": "83GXuwZ7ErVN"
      },
      "source": [
        "### Evaluation\n",
        "The evaluation of this task is obvious, since it is a I ll defined classifcation problem. I use two metrics for evaluation:\n",
        "1.  Accuracy: This is simply given by the fraction of correct predictions, i.e:\n",
        "$$ Accuracy = \\frac{|Correct_{}Predictions|}{2000} $$\n",
        "2. F1 Score: F1 Score for a simple binary classification task is given by:\n",
        "$$ F1_{}score = \\frac{2 \\times Precision \\times Recall}{Precision + Recall}$$\n",
        "This can be extended to the multiclass case by averaging the f1 score for each class. I chose the 'macro' average, which means simply taking the average of f1 scores for all classes"
      ]
    },
    {
      "cell_type": "code",
      "execution_count": null,
      "metadata": {
        "id": "6ku-NYBgEmmG"
      },
      "outputs": [],
      "source": [
        "def evaluate(y_true,y_pred):\n",
        "    accuracy = accuracy_score(y_true,y_pred)\n",
        "    print(\"Accuracy: \" + str(accuracy))\n",
        "    print(\"F1 Score: \" + str(f1_score(y_true,y_pred,average = 'macro')))\n"
      ]
    },
    {
      "cell_type": "markdown",
      "metadata": {
        "id": "Vnr94QSNcdsR"
      },
      "source": [
        "## Preprocessing\n",
        "First I perform some basic preprocessing, to remove noise from the data and convert it to a standardized format. I do the following:\n",
        "1. LoI r case all text\n",
        "2. Convert short forms to normal forms for uniformity, for example you're -> you are\n",
        "3. Remove emails and html tags\n",
        "4. Remove special characters\n",
        "5. Remove accented characters\n",
        "6. Convert verbs to a common form. E.g past tenses will be converted to present tense\n",
        "\n",
        "I use the text_hammer library for doing the above"
      ]
    },
    {
      "cell_type": "code",
      "execution_count": null,
      "metadata": {
        "id": "487F8UOxShhD"
      },
      "outputs": [],
      "source": [
        "import text_hammer as th\n",
        "def text_preprocessing(df,column):\n",
        "    df[column] = df[column].progress_apply(lambda x:str(x).loI r())\n",
        "    df[column] = df[column].progress_apply(lambda x: th.cont_exp(x)) #you're -> you are; i'm -> i am\n",
        "    df[column] = df[column].progress_apply(lambda x: th.remove_emails(x))\n",
        "    df[column] = df[column].progress_apply(lambda x: th.remove_html_tags(x))\n",
        "    df[column] = df[column].progress_apply(lambda x: th.remove_special_chars(x))\n",
        "    df[column] = df[column].progress_apply(lambda x: th.remove_accented_chars(x))\n",
        "    df[column] = df[column].progress_apply(lambda x: th.make_base(x)) #ran -> run,\n",
        "    return(df)"
      ]
    },
    {
      "cell_type": "code",
      "execution_count": null,
      "metadata": {
        "colab": {
          "base_uri": "https://localhost:8080/",
          "height": 465,
          "referenced_widgets": [
            "6269f782d59d4f57a0c9f4ad6d24abdc",
            "d61030df47614d079a5defdaacea9879",
            "357a65ebcb014893b71d1e63b91332b4",
            "7cfa38ceb6c64948ad886e3d69419639",
            "0f700101fc5b46169e3bb9b684a6b7ca",
            "ce87d755151c4ca0aa9900ee7243d9fb",
            "b2aca661010d457fa8e29b86af52cd6d",
            "c3ae4dc2128641a2b2ebef1912630073",
            "ca55c86a522745ffa3e1087d091e4cca",
            "1c54dd01dfce4629886a32952a63362e",
            "6c802967aa8945fb9eccf0eba62cbccb",
            "a35d21b46f7f4c0a918ba98182fd4714",
            "4698196261c34c109e723e2aef1dd36b",
            "5aa3055836234d1e938fc3b310ce9b70",
            "f816c1f220a94ae1aa4a3519d67fcbd8",
            "0a910af463f1432099c756bb9a1d087b",
            "c6428e33fc3a4b779b6bc7079032f86f",
            "89d11cb1d85948a9b4f4399aa7121e04",
            "9f9ca99e37364e9683c070c9eda11116",
            "8a28d49d06c44da78f398d96c5dc775d",
            "76230b4c76744159afe06478b744f6e9",
            "bd7cdc55e3274998ae4b3ef6df8c81fa",
            "fd46279acf08491e9b653c344576ebd1",
            "d229b9fd4ed240f081cecf0c074f18e8",
            "ef20e0404e8e46888b61d4f266090f64",
            "6f072cc307b147d4ae83899d0661a63a",
            "0ec6dfc0dce64d23b97f857c4a9fe11b",
            "8b455d0daf35469e8293c06f0f533d41",
            "35369c7b69b14373b8dcb7c4e9311499",
            "2c3fdd4c66fb41be90227d42e12ca5ad",
            "6de86c63e26248e49904ba97da1a8894",
            "08e964334a0f43b88ea2e23109082d90",
            "56e7c4d415af425b98564e22c7c89aa2",
            "d29f09d23a7241d6914aa1991ff16520",
            "3002cdcb86dd4062b9476f45b3726949",
            "ae18fd7e8856495dacc0320cb2c77941",
            "1ec547ceba2141f3b1fbef8de52c34a5",
            "cd0180546fbe4a9c9705aa745de85553",
            "2cbc020f43dc459eb7bf65db8b47a235",
            "80011eb7a1da4816affdd3a8006977d3",
            "2959dcce970e437dab3e5b69405b821d",
            "dff52cccd099409fa6e37d057fb473dc",
            "561b137327eb4516905174ed3dc37dc8",
            "c1367df4742246d6ae71ac914f7b8ef1",
            "d7c911972ade46b5b7b7d67176e9fcd2",
            "29dbb71d176b43e6a9a875ddd3e3cef9",
            "f962a759493a448e9557692b417aba65",
            "eef38944592c4ab4be723bcb2a5fd352",
            "2e970bd0ce604687a205d056ef110973",
            "49353b215f324188a6a13c3d52123b59",
            "f177943d364c40af9c63d32cc70de8fc",
            "dbedf5debd63405081a042a9ec6d4fec",
            "0d3d5db0c16a41f592adf2a9c07a44ff",
            "f834b55e59e0410ab4205f84c7d6517f",
            "95b9cc070d2a41b0a81cc43ba173c2a2",
            "f9cbcde1b6c04e35bfbd46bb5e3a56c8",
            "37c6dd723643441b9569ba57beda931e",
            "9bf7132843854aa28a6c6d74613ce011",
            "1a08474ac923408b987869058f1ec671",
            "898ece1204ab4877a672b1ff0877bf5c",
            "ada5c85494574a328be1bcc29fa4f5c1",
            "db2088ab38eb41ff8e3fbee0ae14df25",
            "e2b57c3557d7416eb522fb7db4f15ab2",
            "506c034ef3ff432087f8b9eaf48910bd",
            "294d877281934a14bf4a6cd50c7364fd",
            "ff5b0e6b28be450991b3ac27e8868277",
            "66d14d0dd9374a28bd98b3781c3419b6",
            "a996121d07704db0adfde456cacdef92",
            "51d9b530119a4019890d2dce2c865e35",
            "765574b58ca94e60afd3b724d9bdf781",
            "99148562dd01424cba1bf2f08b8f85bd",
            "b230d8d37aff431882ee4a2ef457e87f",
            "324cb422d22c4e37bdf9b311594df9c5",
            "fdef0596d0774bdd9d2953c4ec5fec22",
            "522a426e947649919e537b11475e0138",
            "2a2de304ff644c4f833acfea400d502c",
            "da357194b6774366bc896740d66ddf7d",
            "3973cbeb4fab4382873430982c6e53f8",
            "6e6dfb052b734cc9bfee186c827bf1cb",
            "c64fa5843f3545e79b32656fa5b16f91",
            "73486f34d2b4452db1b0c4f581fdba69",
            "c89c475de2cb4283bba3f67adc7daf9b",
            "92bfebe94f63409a841498ca94b17430",
            "3d4831635536470a9030388e5fa34be9",
            "3d68e6c8f1f1425784cf37b1a90fc299",
            "6c9a05bc7ec240f3a9fe31f32f1eaefb",
            "f3eafd920a7e449291b2f2640c79960a",
            "ebea4fdc273b453090d0512bac973a22",
            "7ea4989ec11c4c6492f51c65ea451b66",
            "2efbe05739b543ceae2198c5444c64c5",
            "c0830d23cf67495bb93dbe4e81f7ed29",
            "296593ca4a3d464ea52a1e2f84637e20",
            "29597f29dc0a469e98a640a8834b1dba",
            "22c9b9e1afad4f7c9172ad27072975cd",
            "0267506d019647e8bc67b9289297f42c",
            "42a1e663f86b49a1b6a63247a8ad80bd",
            "7bf091c38e0842bea5cc901b7c37cbe4",
            "da9850c9bf994032ae2791a31f1dc4be",
            "cb93fcf1a3b1475c9acd4138f21330a9",
            "196397d552eb47379e223a162b9d91ca",
            "a78bbafad8674baa9531db188e1b4ec0",
            "6d6ab17766db44879c9aef075d277796",
            "36ec6f596484432ba044fe675eab9157",
            "83ba6e7fd21149ce9ef5a4feead83e51",
            "0d3035780cfc488aae106b11ce18fc5e",
            "7f79967fa9224fbaa2cf763989ce607d",
            "380e6ade6a4c47fe8b4ae41e902c5ee0",
            "ef186a7692054dde8acaf69828b1b71e",
            "701f522a96f148cf90f9bff5f6b3d7e0",
            "e656d9b02a3f477da8946b0a538afcb7",
            "47235ba087c44a8d913108f500251552",
            "c3c1484be155436e8579fa27e7a084b4",
            "d4d75774d87f4212939309f0d87bacde",
            "55b4182af1d943adab54e83b6c1a52d6",
            "f29ffa02a7bc4559ad4977cb17e7489f",
            "44bb2166eade499b85d1c641f0147212",
            "0b6eeeb569aa48f1a2a7b416a0b2d184",
            "a24f3754eee540098d2617279e9ec502",
            "12ba5d18ee324931989a7dfa7480f403",
            "095bcad73a194c32a6b11dd9ace4bd42",
            "20c6c2db1a59458aaae943cb0ce56cc4",
            "e4a924d4746643859b1d58df5caf4c96",
            "f73a4bce0ea34aa186311c66d59ff61a",
            "f488b87ab18d4bd5b39d2227d67c391f",
            "029174dea78f4478a76fe4b0f03504af",
            "7620cbbea9b24047a1065ac38634897c",
            "6cb07c984f14426a89788bb043221bed",
            "86a9476b75ad4332bc87bf880c6fbf41",
            "e3cf7c0d5a4b4574b67ea84dc438af51",
            "4f146ad955814c0eb414eb0ef88af13b",
            "fd4b72cd8a3f4c36bcf06b9805591310",
            "209b2ddd03884ed7b08ed64b073416b2",
            "f27fc92552294e24b36bba4743366af7",
            "58dde1ccbd3a4d77a5cd8407d0171638",
            "7eb6e427a1c340c5bb3a3c97e0c085a7",
            "e53dc2fdd94c416aba3457978ad95b51",
            "049b7ef6afbf49f8b1d1d676567a6350",
            "068f48b756eb41c18af45923f7eea44d",
            "94484efc06a542b989db76e833f2f572",
            "c61a2b4ddb0048a7a31336269e325fdc",
            "dd62b8072ce54467b1c113f091f385dc",
            "30e70d9c922e4bff9d5bae7ba5348612",
            "407c6ed8a9804685ad869b33ac296c87",
            "72e28b1f5e154b788b3029d9e0b873f0",
            "3d5aef0a568741f7a72d7e489f24dbe5",
            "188bda18c29147c4831ffe3ac5ea6a29",
            "fa72875d5b2444ab81b8f50ec66be4dd",
            "e16f36f10d03485ca0167b1da162102e",
            "02ddabf870284c32a136adf762814b76",
            "e805c1adfed14bd39f19dde2ea3abaff",
            "df7345e186f04006bdc54073ae733d60",
            "89b610301f2444549472ba7369a4e631",
            "5f315ce92fe2493f8784fa4e1c2af5f5",
            "e28bb6574468419ca3405ba4ac3098d7"
          ]
        },
        "id": "WlDDU0TQbpww",
        "outputId": "620bbd1b-7578-419a-9d3f-9ee3d9ff62d5"
      },
      "outputs": [
        {
          "data": {
            "application/vnd.jupyter.widget-view+json": {
              "model_id": "6269f782d59d4f57a0c9f4ad6d24abdc",
              "version_major": 2,
              "version_minor": 0
            },
            "text/plain": [
              "  0%|          | 0/16000 [00:00<?, ?it/s]"
            ]
          },
          "metadata": {},
          "output_type": "display_data"
        },
        {
          "data": {
            "application/vnd.jupyter.widget-view+json": {
              "model_id": "a35d21b46f7f4c0a918ba98182fd4714",
              "version_major": 2,
              "version_minor": 0
            },
            "text/plain": [
              "  0%|          | 0/16000 [00:00<?, ?it/s]"
            ]
          },
          "metadata": {},
          "output_type": "display_data"
        },
        {
          "data": {
            "application/vnd.jupyter.widget-view+json": {
              "model_id": "fd46279acf08491e9b653c344576ebd1",
              "version_major": 2,
              "version_minor": 0
            },
            "text/plain": [
              "  0%|          | 0/16000 [00:00<?, ?it/s]"
            ]
          },
          "metadata": {},
          "output_type": "display_data"
        },
        {
          "data": {
            "application/vnd.jupyter.widget-view+json": {
              "model_id": "d29f09d23a7241d6914aa1991ff16520",
              "version_major": 2,
              "version_minor": 0
            },
            "text/plain": [
              "  0%|          | 0/16000 [00:00<?, ?it/s]"
            ]
          },
          "metadata": {},
          "output_type": "display_data"
        },
        {
          "data": {
            "application/vnd.jupyter.widget-view+json": {
              "model_id": "d7c911972ade46b5b7b7d67176e9fcd2",
              "version_major": 2,
              "version_minor": 0
            },
            "text/plain": [
              "  0%|          | 0/16000 [00:00<?, ?it/s]"
            ]
          },
          "metadata": {},
          "output_type": "display_data"
        },
        {
          "data": {
            "application/vnd.jupyter.widget-view+json": {
              "model_id": "f9cbcde1b6c04e35bfbd46bb5e3a56c8",
              "version_major": 2,
              "version_minor": 0
            },
            "text/plain": [
              "  0%|          | 0/16000 [00:00<?, ?it/s]"
            ]
          },
          "metadata": {},
          "output_type": "display_data"
        },
        {
          "data": {
            "application/vnd.jupyter.widget-view+json": {
              "model_id": "66d14d0dd9374a28bd98b3781c3419b6",
              "version_major": 2,
              "version_minor": 0
            },
            "text/plain": [
              "  0%|          | 0/16000 [00:00<?, ?it/s]"
            ]
          },
          "metadata": {},
          "output_type": "display_data"
        },
        {
          "data": {
            "application/vnd.jupyter.widget-view+json": {
              "model_id": "3973cbeb4fab4382873430982c6e53f8",
              "version_major": 2,
              "version_minor": 0
            },
            "text/plain": [
              "  0%|          | 0/2000 [00:00<?, ?it/s]"
            ]
          },
          "metadata": {},
          "output_type": "display_data"
        },
        {
          "data": {
            "application/vnd.jupyter.widget-view+json": {
              "model_id": "7ea4989ec11c4c6492f51c65ea451b66",
              "version_major": 2,
              "version_minor": 0
            },
            "text/plain": [
              "  0%|          | 0/2000 [00:00<?, ?it/s]"
            ]
          },
          "metadata": {},
          "output_type": "display_data"
        },
        {
          "data": {
            "application/vnd.jupyter.widget-view+json": {
              "model_id": "196397d552eb47379e223a162b9d91ca",
              "version_major": 2,
              "version_minor": 0
            },
            "text/plain": [
              "  0%|          | 0/2000 [00:00<?, ?it/s]"
            ]
          },
          "metadata": {},
          "output_type": "display_data"
        },
        {
          "data": {
            "application/vnd.jupyter.widget-view+json": {
              "model_id": "47235ba087c44a8d913108f500251552",
              "version_major": 2,
              "version_minor": 0
            },
            "text/plain": [
              "  0%|          | 0/2000 [00:00<?, ?it/s]"
            ]
          },
          "metadata": {},
          "output_type": "display_data"
        },
        {
          "data": {
            "application/vnd.jupyter.widget-view+json": {
              "model_id": "e4a924d4746643859b1d58df5caf4c96",
              "version_major": 2,
              "version_minor": 0
            },
            "text/plain": [
              "  0%|          | 0/2000 [00:00<?, ?it/s]"
            ]
          },
          "metadata": {},
          "output_type": "display_data"
        },
        {
          "data": {
            "application/vnd.jupyter.widget-view+json": {
              "model_id": "f27fc92552294e24b36bba4743366af7",
              "version_major": 2,
              "version_minor": 0
            },
            "text/plain": [
              "  0%|          | 0/2000 [00:00<?, ?it/s]"
            ]
          },
          "metadata": {},
          "output_type": "display_data"
        },
        {
          "data": {
            "application/vnd.jupyter.widget-view+json": {
              "model_id": "72e28b1f5e154b788b3029d9e0b873f0",
              "version_major": 2,
              "version_minor": 0
            },
            "text/plain": [
              "  0%|          | 0/2000 [00:00<?, ?it/s]"
            ]
          },
          "metadata": {},
          "output_type": "display_data"
        }
      ],
      "source": [
        "train_processed = text_preprocessing(train_df,'text')\n",
        "test_processed = text_preprocessing(test_df,'text')"
      ]
    },
    {
      "cell_type": "markdown",
      "metadata": {
        "id": "svA-UYaCdPa4"
      },
      "source": [
        "I also remove stopwords using the nltk library"
      ]
    },
    {
      "cell_type": "code",
      "execution_count": null,
      "metadata": {
        "colab": {
          "base_uri": "https://localhost:8080/"
        },
        "id": "s0ntV6M1dXop",
        "outputId": "a0c8f63d-e553-4e73-9bed-217506e50065"
      },
      "outputs": [
        {
          "name": "stderr",
          "output_type": "stream",
          "text": [
            "[nltk_data] Downloading package stopwords to /root/nltk_data...\n",
            "[nltk_data]   Package stopwords is already up-to-date!\n"
          ]
        }
      ],
      "source": [
        "import nltk\n",
        "nltk.download('stopwords')\n",
        "from nltk.corpus import stopwords\n",
        "def remove_stopwords(text):\n",
        "    words = text.split()\n",
        "    filtered_words = [word for word in words if word not in stopwords.words('english')]\n",
        "    return ' '.join(filtered_words)\n",
        "test_processed['text'] = test_processed['text'].apply(remove_stopwords)\n",
        "train_processed['text'] = train_processed['text'].apply(remove_stopwords)"
      ]
    },
    {
      "cell_type": "code",
      "execution_count": null,
      "metadata": {
        "colab": {
          "base_uri": "https://localhost:8080/",
          "height": 419
        },
        "id": "UBYbUoGleWiw",
        "outputId": "97e569c6-483c-4dc9-9924-9798b86db0c0"
      },
      "outputs": [
        {
          "data": {
            "text/html": [
              "\n",
              "  <div id=\"df-d25f697e-a05b-4e8a-a6da-5be284139561\" class=\"colab-df-container\">\n",
              "    <div>\n",
              "<style scoped>\n",
              "    .dataframe tbody tr th:only-of-type {\n",
              "        vertical-align: middle;\n",
              "    }\n",
              "\n",
              "    .dataframe tbody tr th {\n",
              "        vertical-align: top;\n",
              "    }\n",
              "\n",
              "    .dataframe thead th {\n",
              "        text-align: right;\n",
              "    }\n",
              "</style>\n",
              "<table border=\"1\" class=\"dataframe\">\n",
              "  <thead>\n",
              "    <tr style=\"text-align: right;\">\n",
              "      <th></th>\n",
              "      <th>text</th>\n",
              "      <th>label</th>\n",
              "    </tr>\n",
              "  </thead>\n",
              "  <tbody>\n",
              "    <tr>\n",
              "      <th>0</th>\n",
              "      <td>I feel humiliate</td>\n",
              "      <td>0</td>\n",
              "    </tr>\n",
              "    <tr>\n",
              "      <th>1</th>\n",
              "      <td>I go feel hopeless damned hopeful around someo...</td>\n",
              "      <td>0</td>\n",
              "    </tr>\n",
              "    <tr>\n",
              "      <th>2</th>\n",
              "      <td>I grab minute post I feel greedy wrong</td>\n",
              "      <td>3</td>\n",
              "    </tr>\n",
              "    <tr>\n",
              "      <th>3</th>\n",
              "      <td>I ever feel nostalgic fireplace I know still p...</td>\n",
              "      <td>2</td>\n",
              "    </tr>\n",
              "    <tr>\n",
              "      <th>4</th>\n",
              "      <td>I feel grouchy</td>\n",
              "      <td>3</td>\n",
              "    </tr>\n",
              "    <tr>\n",
              "      <th>...</th>\n",
              "      <td>...</td>\n",
              "      <td>...</td>\n",
              "    </tr>\n",
              "    <tr>\n",
              "      <th>15995</th>\n",
              "      <td>I brief time beanbag I say anna I feel like I ...</td>\n",
              "      <td>0</td>\n",
              "    </tr>\n",
              "    <tr>\n",
              "      <th>15996</th>\n",
              "      <td>I turn I feel pathetic I still wait table sub ...</td>\n",
              "      <td>0</td>\n",
              "    </tr>\n",
              "    <tr>\n",
              "      <th>15997</th>\n",
              "      <td>I feel strong good overall</td>\n",
              "      <td>1</td>\n",
              "    </tr>\n",
              "    <tr>\n",
              "      <th>15998</th>\n",
              "      <td>I feel like rude comment I glad</td>\n",
              "      <td>3</td>\n",
              "    </tr>\n",
              "    <tr>\n",
              "      <th>15999</th>\n",
              "      <td>I know lot I feel stupid I portray</td>\n",
              "      <td>0</td>\n",
              "    </tr>\n",
              "  </tbody>\n",
              "</table>\n",
              "<p>16000 rows × 2 columns</p>\n",
              "</div>\n",
              "    <div class=\"colab-df-buttons\">\n",
              "\n",
              "  <div class=\"colab-df-container\">\n",
              "    <button class=\"colab-df-convert\" onclick=\"convertToInteractive('df-d25f697e-a05b-4e8a-a6da-5be284139561')\"\n",
              "            title=\"Convert this dataframe to an interactive table.\"\n",
              "            style=\"display:none;\">\n",
              "\n",
              "  <svg xmlns=\"http://www.w3.org/2000/svg\" height=\"24px\" viewBox=\"0 -960 960 960\">\n",
              "    <path d=\"M120-120v-720h720v720H120Zm60-500h600v-160H180v160Zm220 220h160v-160H400v160Zm0 220h160v-160H400v160ZM180-400h160v-160H180v160Zm440 0h160v-160H620v160ZM180-180h160v-160H180v160Zm440 0h160v-160H620v160Z\"/>\n",
              "  </svg>\n",
              "    </button>\n",
              "\n",
              "  <style>\n",
              "    .colab-df-container {\n",
              "      display:flex;\n",
              "      gap: 12px;\n",
              "    }\n",
              "\n",
              "    .colab-df-convert {\n",
              "      background-color: #E8F0FE;\n",
              "      border: none;\n",
              "      border-radius: 50%;\n",
              "      cursor: pointer;\n",
              "      display: none;\n",
              "      fill: #1967D2;\n",
              "      height: 32px;\n",
              "      padding: 0 0 0 0;\n",
              "      width: 32px;\n",
              "    }\n",
              "\n",
              "    .colab-df-convert:hover {\n",
              "      background-color: #E2EBFA;\n",
              "      box-shadow: 0px 1px 2px rgba(60, 64, 67, 0.3), 0px 1px 3px 1px rgba(60, 64, 67, 0.15);\n",
              "      fill: #174EA6;\n",
              "    }\n",
              "\n",
              "    .colab-df-buttons div {\n",
              "      margin-bottom: 4px;\n",
              "    }\n",
              "\n",
              "    [theme=dark] .colab-df-convert {\n",
              "      background-color: #3B4455;\n",
              "      fill: #D2E3FC;\n",
              "    }\n",
              "\n",
              "    [theme=dark] .colab-df-convert:hover {\n",
              "      background-color: #434B5C;\n",
              "      box-shadow: 0px 1px 3px 1px rgba(0, 0, 0, 0.15);\n",
              "      filter: drop-shadow(0px 1px 2px rgba(0, 0, 0, 0.3));\n",
              "      fill: #FFFFFF;\n",
              "    }\n",
              "  </style>\n",
              "\n",
              "    <script>\n",
              "      const buttonEl =\n",
              "        document.querySelector('#df-d25f697e-a05b-4e8a-a6da-5be284139561 button.colab-df-convert');\n",
              "      buttonEl.style.display =\n",
              "        google.colab.kernel.accessAllowed ? 'block' : 'none';\n",
              "\n",
              "      async function convertToInteractive(key) {\n",
              "        const element = document.querySelector('#df-d25f697e-a05b-4e8a-a6da-5be284139561');\n",
              "        const dataTable =\n",
              "          await google.colab.kernel.invokeFunction('convertToInteractive',\n",
              "                                                    [key], {});\n",
              "        if (!dataTable) return;\n",
              "\n",
              "        const docLinkHtml = 'Like what you see? Visit the ' +\n",
              "          '<a target=\"_blank\" href=https://colab.research.google.com/notebooks/data_table.ipynb>data table notebook</a>'\n",
              "          + ' to learn more about interactive tables.';\n",
              "        element.innerHTML = '';\n",
              "        dataTable['output_type'] = 'display_data';\n",
              "        await google.colab.output.renderOutput(dataTable, element);\n",
              "        const docLink = document.createElement('div');\n",
              "        docLink.innerHTML = docLinkHtml;\n",
              "        element.appendChild(docLink);\n",
              "      }\n",
              "    </script>\n",
              "  </div>\n",
              "\n",
              "\n",
              "<div id=\"df-3510a8d5-79d2-4df0-80a1-740cf4130e4a\">\n",
              "  <button class=\"colab-df-quickchart\" onclick=\"quickchart('df-3510a8d5-79d2-4df0-80a1-740cf4130e4a')\"\n",
              "            title=\"Suggest charts.\"\n",
              "            style=\"display:none;\">\n",
              "\n",
              "<svg xmlns=\"http://www.w3.org/2000/svg\" height=\"24px\"viewBox=\"0 0 24 24\"\n",
              "     width=\"24px\">\n",
              "    <g>\n",
              "        <path d=\"M19 3H5c-1.1 0-2 .9-2 2v14c0 1.1.9 2 2 2h14c1.1 0 2-.9 2-2V5c0-1.1-.9-2-2-2zM9 17H7v-7h2v7zm4 0h-2V7h2v10zm4 0h-2v-4h2v4z\"/>\n",
              "    </g>\n",
              "</svg>\n",
              "  </button>\n",
              "\n",
              "<style>\n",
              "  .colab-df-quickchart {\n",
              "      --bg-color: #E8F0FE;\n",
              "      --fill-color: #1967D2;\n",
              "      --hover-bg-color: #E2EBFA;\n",
              "      --hover-fill-color: #174EA6;\n",
              "      --disabled-fill-color: #AAA;\n",
              "      --disabled-bg-color: #DDD;\n",
              "  }\n",
              "\n",
              "  [theme=dark] .colab-df-quickchart {\n",
              "      --bg-color: #3B4455;\n",
              "      --fill-color: #D2E3FC;\n",
              "      --hover-bg-color: #434B5C;\n",
              "      --hover-fill-color: #FFFFFF;\n",
              "      --disabled-bg-color: #3B4455;\n",
              "      --disabled-fill-color: #666;\n",
              "  }\n",
              "\n",
              "  .colab-df-quickchart {\n",
              "    background-color: var(--bg-color);\n",
              "    border: none;\n",
              "    border-radius: 50%;\n",
              "    cursor: pointer;\n",
              "    display: none;\n",
              "    fill: var(--fill-color);\n",
              "    height: 32px;\n",
              "    padding: 0;\n",
              "    width: 32px;\n",
              "  }\n",
              "\n",
              "  .colab-df-quickchart:hover {\n",
              "    background-color: var(--hover-bg-color);\n",
              "    box-shadow: 0 1px 2px rgba(60, 64, 67, 0.3), 0 1px 3px 1px rgba(60, 64, 67, 0.15);\n",
              "    fill: var(--button-hover-fill-color);\n",
              "  }\n",
              "\n",
              "  .colab-df-quickchart-complete:disabled,\n",
              "  .colab-df-quickchart-complete:disabled:hover {\n",
              "    background-color: var(--disabled-bg-color);\n",
              "    fill: var(--disabled-fill-color);\n",
              "    box-shadow: none;\n",
              "  }\n",
              "\n",
              "  .colab-df-spinner {\n",
              "    border: 2px solid var(--fill-color);\n",
              "    border-color: transparent;\n",
              "    border-bottom-color: var(--fill-color);\n",
              "    animation:\n",
              "      spin 1s steps(1) infinite;\n",
              "  }\n",
              "\n",
              "  @keyframes spin {\n",
              "    0% {\n",
              "      border-color: transparent;\n",
              "      border-bottom-color: var(--fill-color);\n",
              "      border-left-color: var(--fill-color);\n",
              "    }\n",
              "    20% {\n",
              "      border-color: transparent;\n",
              "      border-left-color: var(--fill-color);\n",
              "      border-top-color: var(--fill-color);\n",
              "    }\n",
              "    30% {\n",
              "      border-color: transparent;\n",
              "      border-left-color: var(--fill-color);\n",
              "      border-top-color: var(--fill-color);\n",
              "      border-right-color: var(--fill-color);\n",
              "    }\n",
              "    40% {\n",
              "      border-color: transparent;\n",
              "      border-right-color: var(--fill-color);\n",
              "      border-top-color: var(--fill-color);\n",
              "    }\n",
              "    60% {\n",
              "      border-color: transparent;\n",
              "      border-right-color: var(--fill-color);\n",
              "    }\n",
              "    80% {\n",
              "      border-color: transparent;\n",
              "      border-right-color: var(--fill-color);\n",
              "      border-bottom-color: var(--fill-color);\n",
              "    }\n",
              "    90% {\n",
              "      border-color: transparent;\n",
              "      border-bottom-color: var(--fill-color);\n",
              "    }\n",
              "  }\n",
              "</style>\n",
              "\n",
              "  <script>\n",
              "    async function quickchart(key) {\n",
              "      const quickchartButtonEl =\n",
              "        document.querySelector('#' + key + ' button');\n",
              "      quickchartButtonEl.disabled = true;  // To prevent multiple clicks.\n",
              "      quickchartButtonEl.classList.add('colab-df-spinner');\n",
              "      try {\n",
              "        const charts = await google.colab.kernel.invokeFunction(\n",
              "            'suggestCharts', [key], {});\n",
              "      } catch (error) {\n",
              "        console.error('Error during call to suggestCharts:', error);\n",
              "      }\n",
              "      quickchartButtonEl.classList.remove('colab-df-spinner');\n",
              "      quickchartButtonEl.classList.add('colab-df-quickchart-complete');\n",
              "    }\n",
              "    (() => {\n",
              "      let quickchartButtonEl =\n",
              "        document.querySelector('#df-3510a8d5-79d2-4df0-80a1-740cf4130e4a button');\n",
              "      quickchartButtonEl.style.display =\n",
              "        google.colab.kernel.accessAllowed ? 'block' : 'none';\n",
              "    })();\n",
              "  </script>\n",
              "</div>\n",
              "    </div>\n",
              "  </div>\n"
            ],
            "text/plain": [
              "                                                    text  label\n",
              "0                                       I feel humiliate      0\n",
              "1      I go feel hopeless damned hopeful around someo...      0\n",
              "2                 I grab minute post I feel greedy wrong      3\n",
              "3      I ever feel nostalgic fireplace I know still p...      2\n",
              "4                                         I feel grouchy      3\n",
              "...                                                  ...    ...\n",
              "15995  I brief time beanbag I say anna I feel like I ...      0\n",
              "15996  I turn I feel pathetic I still wait table sub ...      0\n",
              "15997                         I feel strong good overall      1\n",
              "15998                    I feel like rude comment I glad      3\n",
              "15999                 I know lot I feel stupid I portray      0\n",
              "\n",
              "[16000 rows x 2 columns]"
            ]
          },
          "execution_count": 10,
          "metadata": {},
          "output_type": "execute_result"
        }
      ],
      "source": [
        "train_processed"
      ]
    },
    {
      "cell_type": "markdown",
      "metadata": {
        "id": "lYSxgq6xEvyX"
      },
      "source": [
        "## Naive Bayes"
      ]
    },
    {
      "cell_type": "code",
      "execution_count": null,
      "metadata": {
        "id": "XElNNeruEmo5"
      },
      "outputs": [],
      "source": [
        "from sklearn.feature_extraction.text import TfidfVectorizer\n",
        "from sklearn.naive_bayes import MultinomialNB"
      ]
    },
    {
      "cell_type": "code",
      "execution_count": null,
      "metadata": {
        "id": "mJmrfia0EmrX"
      },
      "outputs": [],
      "source": [
        "vectorizer = TfidfVectorizer()\n",
        "X_train = vectorizer.fit_transform(train_processed['text'])\n",
        "X_test = vectorizer.transform(test_processed['text'])\n",
        "y_train = train_data[\"label\"]\n",
        "y_test = test_data[\"label\"]"
      ]
    },
    {
      "cell_type": "code",
      "execution_count": null,
      "metadata": {
        "colab": {
          "base_uri": "https://localhost:8080/",
          "height": 74
        },
        "id": "A1PbC-TqEmtU",
        "outputId": "3968ebcc-2e5a-4f62-d0b1-87f7aa3618f1"
      },
      "outputs": [
        {
          "data": {
            "text/html": [
              "<style>#sk-container-id-1 {color: black;background-color: white;}#sk-container-id-1 pre{padding: 0;}#sk-container-id-1 div.sk-toggleable {background-color: white;}#sk-container-id-1 label.sk-toggleable__label {cursor: pointer;display: block;width: 100%;margin-bottom: 0;padding: 0.3em;box-sizing: border-box;text-align: center;}#sk-container-id-1 label.sk-toggleable__label-arrow:before {content: \"▸\";float: left;margin-right: 0.25em;color: #696969;}#sk-container-id-1 label.sk-toggleable__label-arrow:hover:before {color: black;}#sk-container-id-1 div.sk-estimator:hover label.sk-toggleable__label-arrow:before {color: black;}#sk-container-id-1 div.sk-toggleable__content {max-height: 0;max-width: 0;overflow: hidden;text-align: left;background-color: #f0f8ff;}#sk-container-id-1 div.sk-toggleable__content pre {margin: 0.2em;color: black;border-radius: 0.25em;background-color: #f0f8ff;}#sk-container-id-1 input.sk-toggleable__control:checked~div.sk-toggleable__content {max-height: 200px;max-width: 100%;overflow: auto;}#sk-container-id-1 input.sk-toggleable__control:checked~label.sk-toggleable__label-arrow:before {content: \"▾\";}#sk-container-id-1 div.sk-estimator input.sk-toggleable__control:checked~label.sk-toggleable__label {background-color: #d4ebff;}#sk-container-id-1 div.sk-label input.sk-toggleable__control:checked~label.sk-toggleable__label {background-color: #d4ebff;}#sk-container-id-1 input.sk-hidden--visually {border: 0;clip: rect(1px 1px 1px 1px);clip: rect(1px, 1px, 1px, 1px);height: 1px;margin: -1px;overflow: hidden;padding: 0;position: absolute;width: 1px;}#sk-container-id-1 div.sk-estimator {font-family: monospace;background-color: #f0f8ff;border: 1px dotted black;border-radius: 0.25em;box-sizing: border-box;margin-bottom: 0.5em;}#sk-container-id-1 div.sk-estimator:hover {background-color: #d4ebff;}#sk-container-id-1 div.sk-parallel-item::after {content: \"\";width: 100%;border-bottom: 1px solid gray;flex-grow: 1;}#sk-container-id-1 div.sk-label:hover label.sk-toggleable__label {background-color: #d4ebff;}#sk-container-id-1 div.sk-serial::before {content: \"\";position: absolute;border-left: 1px solid gray;box-sizing: border-box;top: 0;bottom: 0;left: 50%;z-index: 0;}#sk-container-id-1 div.sk-serial {display: flex;flex-direction: column;align-items: center;background-color: white;padding-right: 0.2em;padding-left: 0.2em;position: relative;}#sk-container-id-1 div.sk-item {position: relative;z-index: 1;}#sk-container-id-1 div.sk-parallel {display: flex;align-items: stretch;justify-content: center;background-color: white;position: relative;}#sk-container-id-1 div.sk-item::before, #sk-container-id-1 div.sk-parallel-item::before {content: \"\";position: absolute;border-left: 1px solid gray;box-sizing: border-box;top: 0;bottom: 0;left: 50%;z-index: -1;}#sk-container-id-1 div.sk-parallel-item {display: flex;flex-direction: column;z-index: 1;position: relative;background-color: white;}#sk-container-id-1 div.sk-parallel-item:first-child::after {align-self: flex-end;width: 50%;}#sk-container-id-1 div.sk-parallel-item:last-child::after {align-self: flex-start;width: 50%;}#sk-container-id-1 div.sk-parallel-item:only-child::after {width: 0;}#sk-container-id-1 div.sk-dashed-wrapped {border: 1px dashed gray;margin: 0 0.4em 0.5em 0.4em;box-sizing: border-box;padding-bottom: 0.4em;background-color: white;}#sk-container-id-1 div.sk-label label {font-family: monospace;font-weight: bold;display: inline-block;line-height: 1.2em;}#sk-container-id-1 div.sk-label-container {text-align: center;}#sk-container-id-1 div.sk-container {/* jupyter's `normalize.less` sets `[hidden] { display: none; }` but bootstrap.min.css set `[hidden] { display: none !important; }` so we also need the `!important` here to be able to override the default hidden behavior on the sphinx rendered scikit-learn.org. See: https://github.com/scikit-learn/scikit-learn/issues/21755 */display: inline-block !important;position: relative;}#sk-container-id-1 div.sk-text-repr-fallback {display: none;}</style><div id=\"sk-container-id-1\" class=\"sk-top-container\"><div class=\"sk-text-repr-fallback\"><pre>MultinomialNB()</pre><b>In a Jupyter environment, please rerun this cell to show the HTML representation or trust the notebook. <br />On GitHub, the HTML representation is unable to render, please try loading this page with nbviewer.org.</b></div><div class=\"sk-container\" hidden><div class=\"sk-item\"><div class=\"sk-estimator sk-toggleable\"><input class=\"sk-toggleable__control sk-hidden--visually\" id=\"sk-estimator-id-1\" type=\"checkbox\" checked><label for=\"sk-estimator-id-1\" class=\"sk-toggleable__label sk-toggleable__label-arrow\">MultinomialNB</label><div class=\"sk-toggleable__content\"><pre>MultinomialNB()</pre></div></div></div></div></div>"
            ],
            "text/plain": [
              "MultinomialNB()"
            ]
          },
          "execution_count": 13,
          "metadata": {},
          "output_type": "execute_result"
        }
      ],
      "source": [
        "naive_bayes_classifier = MultinomialNB()\n",
        "naive_bayes_classifier.fit(X_train, y_train)"
      ]
    },
    {
      "cell_type": "code",
      "execution_count": null,
      "metadata": {
        "colab": {
          "base_uri": "https://localhost:8080/"
        },
        "id": "0fRryDYsEmvr",
        "outputId": "57adf2b1-b7ba-4e8f-f5a3-5a0166fad0ca"
      },
      "outputs": [
        {
          "name": "stdout",
          "output_type": "stream",
          "text": [
            "Training\n",
            "Accuracy: 0.751625\n",
            "F1 Score: 0.5397293112126456\n"
          ]
        }
      ],
      "source": [
        "print(\"Training\")\n",
        "preds = naive_bayes_classifier.predict(X_train)\n",
        "evaluate(y_train,preds)"
      ]
    },
    {
      "cell_type": "code",
      "execution_count": null,
      "metadata": {
        "colab": {
          "base_uri": "https://localhost:8080/"
        },
        "id": "ngDRZ9rgE3f3",
        "outputId": "24089657-164b-4be5-ca73-15156184833b"
      },
      "outputs": [
        {
          "name": "stdout",
          "output_type": "stream",
          "text": [
            "Testing\n",
            "Accuracy: 0.6975\n",
            "F1 Score: 0.4543463059936814\n"
          ]
        }
      ],
      "source": [
        "print(\"Testing\")\n",
        "preds = naive_bayes_classifier.predict(X_test)\n",
        "evaluate(y_test,preds)"
      ]
    },
    {
      "cell_type": "markdown",
      "metadata": {
        "id": "nbJKDS2yE8KE"
      },
      "source": [
        "## SVC"
      ]
    },
    {
      "cell_type": "code",
      "execution_count": null,
      "metadata": {
        "id": "rIUnI22nFEhs"
      },
      "outputs": [],
      "source": [
        "from sklearn.svm import SVC"
      ]
    },
    {
      "cell_type": "code",
      "execution_count": null,
      "metadata": {
        "id": "dbVnRDmaerhf"
      },
      "outputs": [],
      "source": [
        "vectorizer = TfidfVectorizer()\n",
        "X_train = vectorizer.fit_transform(train_processed['text'])\n",
        "X_test = vectorizer.transform(test_processed['text'])\n",
        "y_train = train_data[\"label\"]\n",
        "y_test = test_data[\"label\"]"
      ]
    },
    {
      "cell_type": "code",
      "execution_count": null,
      "metadata": {
        "colab": {
          "base_uri": "https://localhost:8080/",
          "height": 74
        },
        "id": "5X3kVCTwE3nX",
        "outputId": "e3262f6c-7c2d-49bc-e89e-f65df232234c"
      },
      "outputs": [
        {
          "data": {
            "text/html": [
              "<style>#sk-container-id-2 {color: black;background-color: white;}#sk-container-id-2 pre{padding: 0;}#sk-container-id-2 div.sk-toggleable {background-color: white;}#sk-container-id-2 label.sk-toggleable__label {cursor: pointer;display: block;width: 100%;margin-bottom: 0;padding: 0.3em;box-sizing: border-box;text-align: center;}#sk-container-id-2 label.sk-toggleable__label-arrow:before {content: \"▸\";float: left;margin-right: 0.25em;color: #696969;}#sk-container-id-2 label.sk-toggleable__label-arrow:hover:before {color: black;}#sk-container-id-2 div.sk-estimator:hover label.sk-toggleable__label-arrow:before {color: black;}#sk-container-id-2 div.sk-toggleable__content {max-height: 0;max-width: 0;overflow: hidden;text-align: left;background-color: #f0f8ff;}#sk-container-id-2 div.sk-toggleable__content pre {margin: 0.2em;color: black;border-radius: 0.25em;background-color: #f0f8ff;}#sk-container-id-2 input.sk-toggleable__control:checked~div.sk-toggleable__content {max-height: 200px;max-width: 100%;overflow: auto;}#sk-container-id-2 input.sk-toggleable__control:checked~label.sk-toggleable__label-arrow:before {content: \"▾\";}#sk-container-id-2 div.sk-estimator input.sk-toggleable__control:checked~label.sk-toggleable__label {background-color: #d4ebff;}#sk-container-id-2 div.sk-label input.sk-toggleable__control:checked~label.sk-toggleable__label {background-color: #d4ebff;}#sk-container-id-2 input.sk-hidden--visually {border: 0;clip: rect(1px 1px 1px 1px);clip: rect(1px, 1px, 1px, 1px);height: 1px;margin: -1px;overflow: hidden;padding: 0;position: absolute;width: 1px;}#sk-container-id-2 div.sk-estimator {font-family: monospace;background-color: #f0f8ff;border: 1px dotted black;border-radius: 0.25em;box-sizing: border-box;margin-bottom: 0.5em;}#sk-container-id-2 div.sk-estimator:hover {background-color: #d4ebff;}#sk-container-id-2 div.sk-parallel-item::after {content: \"\";width: 100%;border-bottom: 1px solid gray;flex-grow: 1;}#sk-container-id-2 div.sk-label:hover label.sk-toggleable__label {background-color: #d4ebff;}#sk-container-id-2 div.sk-serial::before {content: \"\";position: absolute;border-left: 1px solid gray;box-sizing: border-box;top: 0;bottom: 0;left: 50%;z-index: 0;}#sk-container-id-2 div.sk-serial {display: flex;flex-direction: column;align-items: center;background-color: white;padding-right: 0.2em;padding-left: 0.2em;position: relative;}#sk-container-id-2 div.sk-item {position: relative;z-index: 1;}#sk-container-id-2 div.sk-parallel {display: flex;align-items: stretch;justify-content: center;background-color: white;position: relative;}#sk-container-id-2 div.sk-item::before, #sk-container-id-2 div.sk-parallel-item::before {content: \"\";position: absolute;border-left: 1px solid gray;box-sizing: border-box;top: 0;bottom: 0;left: 50%;z-index: -1;}#sk-container-id-2 div.sk-parallel-item {display: flex;flex-direction: column;z-index: 1;position: relative;background-color: white;}#sk-container-id-2 div.sk-parallel-item:first-child::after {align-self: flex-end;width: 50%;}#sk-container-id-2 div.sk-parallel-item:last-child::after {align-self: flex-start;width: 50%;}#sk-container-id-2 div.sk-parallel-item:only-child::after {width: 0;}#sk-container-id-2 div.sk-dashed-wrapped {border: 1px dashed gray;margin: 0 0.4em 0.5em 0.4em;box-sizing: border-box;padding-bottom: 0.4em;background-color: white;}#sk-container-id-2 div.sk-label label {font-family: monospace;font-weight: bold;display: inline-block;line-height: 1.2em;}#sk-container-id-2 div.sk-label-container {text-align: center;}#sk-container-id-2 div.sk-container {/* jupyter's `normalize.less` sets `[hidden] { display: none; }` but bootstrap.min.css set `[hidden] { display: none !important; }` so we also need the `!important` here to be able to override the default hidden behavior on the sphinx rendered scikit-learn.org. See: https://github.com/scikit-learn/scikit-learn/issues/21755 */display: inline-block !important;position: relative;}#sk-container-id-2 div.sk-text-repr-fallback {display: none;}</style><div id=\"sk-container-id-2\" class=\"sk-top-container\"><div class=\"sk-text-repr-fallback\"><pre>SVC()</pre><b>In a Jupyter environment, please rerun this cell to show the HTML representation or trust the notebook. <br />On GitHub, the HTML representation is unable to render, please try loading this page with nbviewer.org.</b></div><div class=\"sk-container\" hidden><div class=\"sk-item\"><div class=\"sk-estimator sk-toggleable\"><input class=\"sk-toggleable__control sk-hidden--visually\" id=\"sk-estimator-id-2\" type=\"checkbox\" checked><label for=\"sk-estimator-id-2\" class=\"sk-toggleable__label sk-toggleable__label-arrow\">SVC</label><div class=\"sk-toggleable__content\"><pre>SVC()</pre></div></div></div></div></div>"
            ],
            "text/plain": [
              "SVC()"
            ]
          },
          "execution_count": 18,
          "metadata": {},
          "output_type": "execute_result"
        }
      ],
      "source": [
        "svm_classifier = SVC()\n",
        "svm_classifier.fit(X_train, y_train)"
      ]
    },
    {
      "cell_type": "code",
      "execution_count": null,
      "metadata": {
        "colab": {
          "base_uri": "https://localhost:8080/"
        },
        "id": "H-LcSjIyE3qf",
        "outputId": "cfc8912f-3ca8-4e90-c317-0b85eff2e0f6"
      },
      "outputs": [
        {
          "name": "stdout",
          "output_type": "stream",
          "text": [
            "Training\n",
            "Accuracy: 0.9870625\n",
            "F1 Score: 0.982174960757522\n"
          ]
        }
      ],
      "source": [
        "print(\"Training\")\n",
        "preds = svm_classifier.predict(X_train)\n",
        "evaluate(y_train,preds)"
      ]
    },
    {
      "cell_type": "code",
      "execution_count": null,
      "metadata": {
        "colab": {
          "base_uri": "https://localhost:8080/"
        },
        "id": "3yzUHV1hFBhQ",
        "outputId": "a7ca55af-5926-4bd9-9261-dd7a0463f8bb"
      },
      "outputs": [
        {
          "name": "stdout",
          "output_type": "stream",
          "text": [
            "Testing\n",
            "Accuracy: 0.844\n",
            "F1 Score: 0.7768580983150559\n"
          ]
        }
      ],
      "source": [
        "print(\"Testing\")\n",
        "preds = svm_classifier.predict(X_test)\n",
        "evaluate(y_test,preds)"
      ]
    },
    {
      "cell_type": "markdown",
      "metadata": {
        "id": "0Ylxpn_dFLv-"
      },
      "source": [
        "## LSTM\n",
        "One of the disadvantages of the above approachs is that they dont really make use of the sequential nature of text. To incorporate sequential nature, I can use Long Short Term Memory Models (LSTM), which is a modification of the Recurrent Neural Network. It differs from RNN in that it can model long range dependencies, making it particularly useful for sentiment analysis.\n",
        "To implement the LSTM model, I used the following steps:\n",
        "1. Preprocessing: To make the text readable in a sequential format for the LSTM, I did the following steps:\n",
        "- Tokenisation\n",
        "- Padding: To ensure that the input to the model is of the same length, all sequences I re padded by 0s at the beginning to make their length equal to maximum length\n",
        "2. Model definition: I used a simple LSTM architecture model:\n",
        "- Input: A sequence of tokens of length max_length\n",
        "- Embedding Layer: An embedding layer transforms the discrete tokens to a vectorized format\n",
        "- Bidirectional LSTM Layer: The output of the embeddings is fed to a bidirectional LSTM layer with 50 nodes. The advntage of having a \"bidirectional\" LSTM here is that it can capture past as I ll as future context in a sentence\n",
        "- Dropout: There is a dropout to prevent overfitting\n",
        "- Output layer: The output of the above layer is fed to an output layer with 6 nodes, each corresponding to an emotion. A softmax activation function is used to convert it to probabilities.\n",
        "3. Loss: I used the categorical cross-entropy loss, which is standard for a multi-class classification problem."
      ]
    },
    {
      "cell_type": "code",
      "execution_count": null,
      "metadata": {
        "id": "58KMdvSxFKgR"
      },
      "outputs": [],
      "source": [
        "from tensorflow.keras.preprocessing.text import Tokenizer\n",
        "from tensorflow.keras.preprocessing.sequence import pad_sequences\n",
        "import tensorflow.keras.utils as ku\n",
        "from tensorflow.keras.layers import Embedding, LSTM, Dense, Dropout, Bidirectional\n",
        "from tensorflow.keras.models import Sequential\n",
        "from tensorflow.keras.optimizers import Adam\n",
        "from tensorflow.keras.regularizers import Regularizer"
      ]
    },
    {
      "cell_type": "code",
      "execution_count": null,
      "metadata": {
        "id": "J-Xg5q9lFN4s"
      },
      "outputs": [],
      "source": [
        "tokenizer=Tokenizer();\n",
        "tokenizer.fit_on_texts(train_processed['text'])"
      ]
    },
    {
      "cell_type": "code",
      "execution_count": null,
      "metadata": {
        "id": "q3DVrAkyFN7x"
      },
      "outputs": [],
      "source": [
        "total_words = len(tokenizer.word_index) + 1\n",
        "input=[]\n",
        "train_sequences=[]\n",
        "for text in train_processed['text']:\n",
        "    input.append(text)\n",
        "for text in input:\n",
        "    train_sequences.append(tokenizer.texts_to_sequences([text])[0])"
      ]
    },
    {
      "cell_type": "code",
      "execution_count": null,
      "metadata": {
        "id": "6L33tO4AFN-X"
      },
      "outputs": [],
      "source": [
        "mx=0\n",
        "for sentence in train_sequences:\n",
        "    if len(sentence)>mx:\n",
        "        mx=len(sentence)\n",
        "train_sequences = pad_sequences(train_sequences, maxlen=mx, padding='pre')"
      ]
    },
    {
      "cell_type": "code",
      "execution_count": null,
      "metadata": {
        "id": "yboiWU-PFOBA"
      },
      "outputs": [],
      "source": [
        "train_labels =ku.to_categorical(train_processed['label'], num_classes=6)"
      ]
    },
    {
      "cell_type": "code",
      "execution_count": null,
      "metadata": {
        "colab": {
          "base_uri": "https://localhost:8080/"
        },
        "id": "9FWfsbTLFVAJ",
        "outputId": "90bf51e3-c4ca-4c42-dc44-22b02c6e9335"
      },
      "outputs": [
        {
          "name": "stdout",
          "output_type": "stream",
          "text": [
            "Model: \"sequential\"\n",
            "_________________________________________________________________\n",
            " Layer (type)                Output Shape              Param #   \n",
            "=================================================================\n",
            " embedding (Embedding)       (None, 39, 50)            594100    \n",
            "                                                                 \n",
            " lstm (LSTM)                 (None, 50)                20200     \n",
            "                                                                 \n",
            " dropout (Dropout)           (None, 50)                0         \n",
            "                                                                 \n",
            " dense (Dense)               (None, 6)                 306       \n",
            "                                                                 \n",
            "=================================================================\n",
            "Total params: 614606 (2.34 MB)\n",
            "Trainable params: 614606 (2.34 MB)\n",
            "Non-trainable params: 0 (0.00 Byte)\n",
            "_________________________________________________________________\n",
            "None\n"
          ]
        }
      ],
      "source": [
        "model = Sequential()\n",
        "model.add(Embedding(total_words, 50, input_length=mx))\n",
        "model.add(LSTM(50))\n",
        "model.add(Dropout(0.2))\n",
        "model.add(Dense(6, activation='softmax'))\n",
        "model.compile(loss='categorical_crossentropy', optimizer='adam', metrics='accuracy')\n",
        "print(model.summary())"
      ]
    },
    {
      "cell_type": "code",
      "execution_count": null,
      "metadata": {
        "colab": {
          "base_uri": "https://localhost:8080/"
        },
        "id": "PeTH9iqpFVC-",
        "outputId": "7cba9d0a-54c9-418a-8c79-a0d3a44378a3"
      },
      "outputs": [
        {
          "name": "stdout",
          "output_type": "stream",
          "text": [
            "Epoch 1/50\n",
            "500/500 [==============================] - 27s 44ms/step - loss: 1.1800 - accuracy: 0.5572\n",
            "Epoch 2/50\n",
            "500/500 [==============================] - 4s 9ms/step - loss: 0.3781 - accuracy: 0.8780\n",
            "Epoch 3/50\n",
            "500/500 [==============================] - 4s 7ms/step - loss: 0.1783 - accuracy: 0.9417\n",
            "Epoch 4/50\n",
            "500/500 [==============================] - 5s 9ms/step - loss: 0.1129 - accuracy: 0.9623\n",
            "Epoch 5/50\n",
            "500/500 [==============================] - 3s 7ms/step - loss: 0.0839 - accuracy: 0.9725\n",
            "Epoch 6/50\n",
            "500/500 [==============================] - 3s 6ms/step - loss: 0.0660 - accuracy: 0.9784\n",
            "Epoch 7/50\n",
            "500/500 [==============================] - 4s 7ms/step - loss: 0.0515 - accuracy: 0.9822\n",
            "Epoch 8/50\n",
            "500/500 [==============================] - 4s 8ms/step - loss: 0.0538 - accuracy: 0.9814\n",
            "Epoch 9/50\n",
            "500/500 [==============================] - 3s 5ms/step - loss: 0.0430 - accuracy: 0.9852\n",
            "Epoch 10/50\n",
            "500/500 [==============================] - 3s 5ms/step - loss: 0.0348 - accuracy: 0.9867\n",
            "Epoch 11/50\n",
            "500/500 [==============================] - 3s 6ms/step - loss: 0.0332 - accuracy: 0.9874\n",
            "Epoch 12/50\n",
            "500/500 [==============================] - 4s 8ms/step - loss: 0.0311 - accuracy: 0.9889\n",
            "Epoch 13/50\n",
            "500/500 [==============================] - 3s 6ms/step - loss: 0.0318 - accuracy: 0.9888\n",
            "Epoch 14/50\n",
            "500/500 [==============================] - 3s 6ms/step - loss: 0.0241 - accuracy: 0.9911\n",
            "Epoch 15/50\n",
            "500/500 [==============================] - 3s 6ms/step - loss: 0.0208 - accuracy: 0.9923\n",
            "Epoch 16/50\n",
            "500/500 [==============================] - 4s 9ms/step - loss: 0.0222 - accuracy: 0.9919\n",
            "Epoch 17/50\n",
            "500/500 [==============================] - 3s 6ms/step - loss: 0.0210 - accuracy: 0.9923\n",
            "Epoch 18/50\n",
            "500/500 [==============================] - 3s 6ms/step - loss: 0.0194 - accuracy: 0.9921\n",
            "Epoch 19/50\n",
            "500/500 [==============================] - 3s 5ms/step - loss: 0.0217 - accuracy: 0.9921\n",
            "Epoch 20/50\n",
            "500/500 [==============================] - 3s 6ms/step - loss: 0.0201 - accuracy: 0.9926\n",
            "Epoch 21/50\n",
            "500/500 [==============================] - 4s 8ms/step - loss: 0.0205 - accuracy: 0.9928\n",
            "Epoch 22/50\n",
            "500/500 [==============================] - 3s 6ms/step - loss: 0.0164 - accuracy: 0.9937\n",
            "Epoch 23/50\n",
            "500/500 [==============================] - 3s 6ms/step - loss: 0.0135 - accuracy: 0.9946\n",
            "Epoch 24/50\n",
            "500/500 [==============================] - 3s 5ms/step - loss: 0.0120 - accuracy: 0.9946\n",
            "Epoch 25/50\n",
            "500/500 [==============================] - 4s 7ms/step - loss: 0.0112 - accuracy: 0.9953\n",
            "Epoch 26/50\n",
            "500/500 [==============================] - 3s 6ms/step - loss: 0.0155 - accuracy: 0.9942\n",
            "Epoch 27/50\n",
            "500/500 [==============================] - 3s 5ms/step - loss: 0.0165 - accuracy: 0.9929\n",
            "Epoch 28/50\n",
            "500/500 [==============================] - 3s 6ms/step - loss: 0.0118 - accuracy: 0.9944\n",
            "Epoch 29/50\n",
            "500/500 [==============================] - 3s 7ms/step - loss: 0.0111 - accuracy: 0.9949\n",
            "Epoch 30/50\n",
            "500/500 [==============================] - 4s 9ms/step - loss: 0.0108 - accuracy: 0.9949\n",
            "Epoch 31/50\n",
            "500/500 [==============================] - 5s 9ms/step - loss: 0.0126 - accuracy: 0.9948\n",
            "Epoch 32/50\n",
            "500/500 [==============================] - 4s 8ms/step - loss: 0.0125 - accuracy: 0.9946\n",
            "Epoch 33/50\n",
            "500/500 [==============================] - 5s 10ms/step - loss: 0.0136 - accuracy: 0.9948\n",
            "Epoch 34/50\n",
            "500/500 [==============================] - 4s 8ms/step - loss: 0.0111 - accuracy: 0.9951\n",
            "Epoch 35/50\n",
            "500/500 [==============================] - 4s 8ms/step - loss: 0.0102 - accuracy: 0.9957\n",
            "Epoch 36/50\n",
            "500/500 [==============================] - 5s 9ms/step - loss: 0.0094 - accuracy: 0.9953\n",
            "Epoch 37/50\n",
            "500/500 [==============================] - 4s 8ms/step - loss: 0.0078 - accuracy: 0.9964\n",
            "Epoch 38/50\n",
            "500/500 [==============================] - 3s 7ms/step - loss: 0.0107 - accuracy: 0.9954\n",
            "Epoch 39/50\n",
            "500/500 [==============================] - 4s 8ms/step - loss: 0.0120 - accuracy: 0.9947\n",
            "Epoch 40/50\n",
            "500/500 [==============================] - 5s 10ms/step - loss: 0.0087 - accuracy: 0.9958\n",
            "Epoch 41/50\n",
            "500/500 [==============================] - 4s 8ms/step - loss: 0.0082 - accuracy: 0.9963\n",
            "Epoch 42/50\n",
            "500/500 [==============================] - 4s 7ms/step - loss: 0.0071 - accuracy: 0.9962\n",
            "Epoch 43/50\n",
            "500/500 [==============================] - 4s 8ms/step - loss: 0.0080 - accuracy: 0.9960\n",
            "Epoch 44/50\n",
            "500/500 [==============================] - 5s 9ms/step - loss: 0.0072 - accuracy: 0.9960\n",
            "Epoch 45/50\n",
            "500/500 [==============================] - 4s 8ms/step - loss: 0.0093 - accuracy: 0.9952\n",
            "Epoch 46/50\n",
            "500/500 [==============================] - 3s 7ms/step - loss: 0.0084 - accuracy: 0.9964\n",
            "Epoch 47/50\n",
            "500/500 [==============================] - 3s 6ms/step - loss: 0.0078 - accuracy: 0.9960\n",
            "Epoch 48/50\n",
            "500/500 [==============================] - 3s 6ms/step - loss: 0.0066 - accuracy: 0.9964\n",
            "Epoch 49/50\n",
            "500/500 [==============================] - 3s 7ms/step - loss: 0.0067 - accuracy: 0.9964\n",
            "Epoch 50/50\n",
            "500/500 [==============================] - 4s 8ms/step - loss: 0.0075 - accuracy: 0.9966\n"
          ]
        }
      ],
      "source": [
        "history = model.fit(train_sequences, train_labels, epochs=50, verbose=1)"
      ]
    },
    {
      "cell_type": "code",
      "execution_count": null,
      "metadata": {
        "colab": {
          "base_uri": "https://localhost:8080/",
          "height": 887
        },
        "id": "ychrwsHXFVFU",
        "outputId": "38fe2825-1cad-485e-d728-92911f854971"
      },
      "outputs": [
        {
          "data": {
            "image/png": "iVBORw0KGgoAAAANSUhEUgAAAiMAAAGzCAYAAAD9pBdvAAAAOXRFWHRTb2Z0d2FyZQBNYXRwbG90bGliIHZlcnNpb24zLjcuMSwgaHR0cHM6Ly9tYXRwbG90bGliLm9yZy/bCgiHAAAACXBIWXMAAA9hAAAPYQGoP6dpAAAyzElEQVR4nO3de3wU9b3/8fcmZDcJ5MIlJAQCAVRQkCAg+UWr2BJJqVJR24NXLooohorSVqFyUTw11ioiSkE9Imr1SEFEUUQ5CFhaBOWmqCDItUACiCSYkASy8/tj2E022VzZncnl9Xw85pHJZGb3s2Nk3/l8vzPrMAzDEAAAgE1C7C4AAAA0bYQRAABgK8IIAACwFWEEAADYijACAABsRRgBAAC2IowAAABbEUYAAICtCCMAAMBWhBGgkRg5cqSSk5PrdOwjjzwih8MR2IIAoIYII0CQORyOGi2rV6+2u1QAsIWDz6YBguvvf/+7z/evvfaaVqxYoddff91n+9VXX634+Pg6P8/p06fldrvlcrlqfeyZM2d05swZhYeH1/n5AaCuCCOAxcaNG6fZs2eruv/1CgoKFBkZaVFVqAnDMFRYWKiIiAi7SwEaFYZpgHrgqquuUs+ePbVx40ZdeeWVioyM1J/+9CdJ0rvvvqtrrrlGiYmJcrlc6tq1qx577DGVlJT4PEb5OSN79+6Vw+HQU089pRdffFFdu3aVy+XSpZdeqs8//9znWH9zRhwOh8aNG6clS5aoZ8+ecrlc6tGjh5YvX16h/tWrV6tfv34KDw9X165d9cILL9R4Hso///lP/fa3v1XHjh3lcrmUlJSkBx54QKdOnaqw7/bt2/Vf//VfiouLU0REhLp166aHH37YZ5+DBw/qzjvv9J6vzp07a+zYsSouLq70tUrS/Pnz5XA4tHfvXu+25ORkXXvttfroo4/Ur18/RURE6IUXXpAkvfLKK/rFL36htm3byuVy6aKLLtKcOXP8vsYPP/xQAwYMUFRUlKKjo3XppZfqzTfflCRNmzZNYWFhOnr0aIXjxowZo9jYWBUWFlZ7HoGGrJndBQAw/fDDDxo8eLBuuukm3Xbbbd4hm/nz56tFixaaMGGCWrRooU8++URTp05VXl6e/vrXv1b7uG+++aZOnjypu+++Ww6HQ08++aRuuOEG7d69W2FhYVUeu3btWi1evFj33nuvoqKiNGvWLN14443av3+/WrduLUnavHmzfvnLX6pdu3Z69NFHVVJSounTpysuLq5Gr3vhwoUqKCjQ2LFj1bp1a23YsEHPPfec/vOf/2jhwoXe/b788ktdccUVCgsL05gxY5ScnKzvv/9eS5cu1Z///GdJ0qFDh9S/f3+dOHFCY8aMUffu3XXw4EEtWrRIBQUFcjqdNaqprB07dujmm2/W3XffrbvuukvdunWTJM2ZM0c9evTQr3/9azVr1kxLly7VvffeK7fbrczMTO/x8+fP1x133KEePXpo0qRJio2N1ebNm7V8+XLdcsstuv322zV9+nQtWLBA48aN8x5XXFysRYsW6cYbb2T4DI2fAcBSmZmZRvn/9QYMGGBIMubOnVth/4KCggrb7r77biMyMtIoLCz0bhsxYoTRqVMn7/d79uwxJBmtW7c2jh8/7t3+7rvvGpKMpUuXerdNmzatQk2SDKfTaezatcu7bevWrYYk47nnnvNuGzJkiBEZGWkcPHjQu23nzp1Gs2bNKjymP/5eX1ZWluFwOIx9+/Z5t1155ZVGVFSUzzbDMAy32+1dHz58uBESEmJ8/vnnFR7Ts5+/12oYhvHKK68Ykow9e/Z4t3Xq1MmQZCxfvrxGdWdkZBhdunTxfn/ixAkjKirKSE1NNU6dOlVp3WlpaUZqaqrPzxcvXmxIMlatWlXheYDGhmEaoJ5wuVwaNWpUhe1l5yecPHlSx44d0xVXXKGCggJt37692scdNmyYWrZs6f3+iiuukCTt3r272mPT09PVtWtX7/e9evVSdHS099iSkhL93//9n4YOHarExETvfuedd54GDx5c7eNLvq8vPz9fx44d02WXXSbDMLR582ZJ0tGjR/Xpp5/qjjvuUMeOHX2O9wy5uN1uLVmyREOGDFG/fv0qPE9dL13u3LmzMjIyqqw7NzdXx44d04ABA7R7927l5uZKklasWKGTJ09q4sSJFbobZesZPny41q9fr++//9677Y033lBSUpIGDBhQp7qBhoQwAtQT7du39zuM8PXXX+v6669XTEyMoqOjFRcXp9tuu02SvG96VSn/5u0JJj/++GOtj/Uc7zn2yJEjOnXqlM4777wK+/nb5s/+/fs1cuRItWrVSi1atFBcXJz3Ddjz+jzhp2fPnpU+ztGjR5WXl1flPnXRuXNnv9v/9a9/KT09Xc2bN1dsbKzi4uK883w8dXvCRXU1DRs2TC6XS2+88Yb3+Pfff1+33nor939Bk8CcEaCe8HeFxokTJzRgwABFR0dr+vTp6tq1q8LDw7Vp0yY99NBDcrvd1T5uaGio3+1GDS6kO5dja6KkpERXX321jh8/roceekjdu3dX8+bNdfDgQY0cObJGr6+2KntzLz8h2MPff5fvv/9eAwcOVPfu3TVjxgwlJSXJ6XRq2bJleuaZZ2pdd8uWLXXttdfqjTfe0NSpU7Vo0SIVFRV5QyfQ2BFGgHps9erV+uGHH7R48WJdeeWV3u179uyxsapSbdu2VXh4uHbt2lXhZ/62lffVV1/pu+++06uvvqrhw4d7t69YscJnvy5dukiStm3bVuljxcXFKTo6usp9pNLO0IkTJxQbG+vdvm/fvmrr9Vi6dKmKior03nvv+XSPVq1a5bOfZ4hr27Zt1XaKhg8fruuuu06ff/653njjDV1yySXq0aNHjWsCGjKGaYB6zNOZKNuJKC4u1t/+9je7SvIRGhqq9PR0LVmyRIcOHfJu37Vrlz788MMaHS/5vj7DMPTss8/67BcXF6crr7xS8+bN0/79+31+5jk2JCREQ4cO1dKlS/XFF19UeC7Pfp6A8Omnn3p/lp+fr1dffbXaequqOzc3V6+88orPfoMGDVJUVJSysrIqXJ5bvrs0ePBgtWnTRn/5y1+0Zs0auiJoUuiMAPXYZZddppYtW2rEiBG677775HA49PrrrwdsmCQQHnnkEX388ce6/PLLNXbsWJWUlOj5559Xz549tWXLliqP7d69u7p27ao//OEPOnjwoKKjo/X222/7nc8ya9Ys/exnP1OfPn00ZswYde7cWXv37tUHH3zgfZ7HH39cH3/8sQYMGKAxY8bowgsv1OHDh7Vw4UKtXbtWsbGxGjRokDp27Kg777xTf/zjHxUaGqp58+YpLi6uQtCpzKBBg+R0OjVkyBDdfffd+umnn/TSSy+pbdu2Onz4sHe/6OhoPfPMMxo9erQuvfRS3XLLLWrZsqW2bt2qgoICnwAUFhamm266Sc8//7xCQ0N1880316gWoDGgMwLUY61bt9b777+vdu3aafLkyXrqqad09dVX68knn7S7NK++ffvqww8/VMuWLTVlyhS9/PLLmj59ugYOHFjt/THCwsK0dOlS9e7dW1lZWXr00Ud1/vnn67XXXquwb0pKij777DNdeeWVmjNnju677z69/fbb+vWvf+3dp3379lq/fr1+85vf6I033tB9992n1157TVdddZX3brZhYWF655131LVrV02ZMkWzZs3S6NGjfe7xUZ1u3bpp0aJFcjgc+sMf/qC5c+dqzJgxGj9+fIV977zzTr333nuKjo7WY489poceekibNm3ye7WRZ6hq4MCBateuXY3rARo6bgcPICiGDh2qr7/+Wjt37rS7lAZj69at6t27t1577TXdfvvtdpcDWIbOCIBzVv7W7Tt37tSyZct01VVX2VNQA/XSSy+pRYsWuuGGG+wuBbAUc0YAnLMuXbpo5MiR6tKli/bt26c5c+bI6XTqwQcftLu0BmHp0qX65ptv9OKLL2rcuHFq3ry53SUBlmKYBsA5GzVqlFatWqXs7Gy5XC6lpaXp8ccfV58+fewurUFITk5WTk6OMjIy9PrrrysqKsrukgBLEUYAAICtmDMCAABsRRgBAAC2ahATWN1utw4dOqSoqCg+NAoAgAbCMAydPHlSiYmJCgmpvP/RIMLIoUOHlJSUZHcZAACgDg4cOKAOHTpU+vMGEUY8M8sPHDig6Ohom6sBAAA1kZeXp6SkpGqvEGsQYcQzNBMdHU0YAQCggaluigUTWAEAgK0IIwAAwFaEEQAAYCvCCAAAsBVhBAAA2IowAgAAbEUYAQAAtqp1GPn00081ZMgQJSYmyuFwaMmSJdUes3r1avXp00cul0vnnXee5s+fX4dSAQBAY1TrMJKfn6+UlBTNnj27Rvvv2bNH11xzjX7+859ry5Ytuv/++zV69Gh99NFHtS4WAAA0PrW+A+vgwYM1ePDgGu8/d+5cde7cWU8//bQk6cILL9TatWv1zDPPKCMjo7ZPDwAAGpmgzxlZt26d0tPTfbZlZGRo3bp1lR5TVFSkvLw8nwUAADROQQ8j2dnZio+P99kWHx+vvLw8nTp1yu8xWVlZiomJ8S58Yi8AAI1XvfygvEmTJmnChAne7z2f+gcACD7DkH78UcrJMZcjR6Tjx6XoaKlNG98lMjI4NZSUSAUF5pKfby6edc/XwkLJ4ShdQkIqfh8SIjVrJoWFSU6n+dXfekgN/jQPD5diY6WICPPxa8IwpBMnzPOYnW0ux4+bzxkebi4REaXrnsXplE6fNl9jVYvbXf3zu93SmTPmOT1zpvLl97+XOnWq2esKtKCHkYSEBOXk5Phsy8nJUXR0tCIiIvwe43K55HK5gl0agBoqLjb/IauKYUinTpn/8Fa1uN1S27ZSfLy5lF1v0aLm/8jXlufNreybmWe9uNis3/MPt2e97PeSFBpqvmmFhvqul93WrFnVS2io+XglJebidvt+9awXF0tFReZSdr3s9/n50smTpUteXsXvT5+u+EZXfnE4zMBx5Ehp+DhzpmbnNSLCN5y0bGm+YVe2xMSY9XvemCtbcnOD8EsQIM2aVf76HA7f4JGdbb7ehuCWWxpxGElLS9OyZct8tq1YsUJpaWnBfmoA5RQWSj/8IB075rv8+KP519qPP1Zc//FH8w3bChERZjhJSJDat5c6dKi4JCZKZf9WKSiQ9u+X9u2r+PXAAfNNLT/ffPNG7cTElAbGVq2kn34q/Z05etQMOqdOmef5wIHg1OBwmN2X5s0rfg0PN/cpGyDLh0lPN+D0aTMUnD7tf90TOCtjGOb/P57H85yHmoqNNX+vExLMc1ld16OoyLd7Eh5u/t6X/z40tPrnrklIbtbM/H/LLrUOIz/99JN27drl/X7Pnj3asmWLWrVqpY4dO2rSpEk6ePCgXnvtNUnSPffco+eff14PPvig7rjjDn3yySf6xz/+oQ8++CBwrwKoBU/b9PBhc8nPr/4vx2bNzH+wKvtr1fMzT1u4qr+cy7aTy7aVy24rKjL/4a9qKSysuuV65oz5RlE2fPz0U/DPb/Pmvn8plv9LWfL9C9wzFJCfb9a7b5+5VKVtWykuzjyuNm8Iku+bm+eNzen03+ovuy7572B41ssuVf03KSmp/vckJMSsyeUyl8rWIyOlqChz+CQqquJ6VJS5f1GReW4re+MrKTHPZ9lOVdu2vqGvPMPwDSeegOKvG5abW7r+44/m0Ei7dqVvzv6W1q3NTpmnc1MfGIb5e1r29ZRfzpyp+Fri40uDE/xzGEZ1edDX6tWr9fOf/7zC9hEjRmj+/PkaOXKk9u7dq9WrV/sc88ADD+ibb75Rhw4dNGXKFI0cObLGz5mXl6eYmBjl5uYqOjq6NuWiCSopkb77TtqyRdqzpzR0HD4sHTpktk0LC+2u0j6hob5t9datzb/UWrY0l7Lrnu9jY803kOqEh9dsP3/y80uHCg4flg4elP7zn4qLv/92UVFme7lTJ6ljx9KvHTua9ZcNH/XpzQ1o7Gr6/l3rMGIHwggqU1Qkbdsmbd5cumzdWrNhhZYtzb/OWrQwH6eyVml5TqfvX6eev1bDwkrbxFX95exvPkLZdbfbfMwWLapePG/8VbVdnc6KEw5jYhrum7FhmENI//mPGVratjWDR0N+TUBjVtP373p5NQ2ahjNnzL9+9+71XQ4dMt90yg9vlP3eMKTt26Wvv/Y/0S4yUkpJkS64wBwHbdeu9KunPVzJ/GkfnomEp0+XhhDe9OzjcJidnNat7a4EQCARRhAQhmF2IyobR/WMsR45Ys4H2LvXnPBW3RUaNdGqldSnj3TJJaXL+efXbGJXdUJCSueNAACCgzCCGvG0x8t3McoudZkc6XSa4/rJyaVLhw5mkKjq0kfDkDp3NoNHUhLdCgBoyAgj8MswzLkY774rLV0qffNNzcJGaKg5FyMmxv81+K1a+QaPhISa3WwIANB4EUbgVVIi/fvf0pIl5rJ7d8V92rXzDRNll8RE82oFuhQAgNogjDRC+fnSxx+bwcJz++LKFqdTWrXKDB9Ll/res8Hlkq6+Who6VPrZz8yrFpg7AQAINMJII3H0qBkmliyRVqyo+300WraUrr3WDCCDBpmXkAIAEEyEkQbs++/N8PHuu9K//uX7gUmdO0u//KU5H6P8HRA9i2cOSMeOZvjwdEDqetMqAADqgjDSwBQUSC+8IM2bZ04wLatPHzNQXHeddPHF1c/dOHPGDCTcMAoAYCfCSAPx00/SnDnSU0+Z9+qQzCtXrrrKDB/XXWd2OGrD88mTAADYiTBSz508Kc2eLT39dOnk0s6dpYcekn77W/NSWQAAGjLCSD2Vmys9/7w0Y4Z5szFJ6tpVmjxZuvVW5nUAABoPwkg9c+KENGuW9Mwz5rpkfr7K5MnSzTebQysAADQmvLXVIxs3Sr/+tflBcZLUvbs0ZYo0bFhgPmcFAID6iBtx1xOLF0tXXGEGkfPPl956y7xa5pZbCCIAgMaNzojNDEN68klp4kTz+4wMacEC83JbAACaAjojNioulkaPLg0imZnS++8TRAAATQudEZscPy7deKO0erV5l9SZM6Xf/c7uqgAAsB5hxAbffWd+/svOnVJUlDksM3iw3VUBAGAPwojFVq+WbrhB+vFH81Nw339f6tnT7qoAALAPc0Ys9Mor0tVXm0Hk//0/af16gggAAIQRi/zzn9Idd5gfTnfTTdInn0jx8XZXBQCA/RimsUBJSenk1OHDpfnz+ZRcAAA86IxY4KWXpK1bzU/IffppgggAAGURRoLs+HHzc2Uk6bHHpDZt7K0HAID6hjASZNOmST/8YE5Uveceu6sBAKD+IYwE0VdfSX/7m7n+7LN84i4AAP4QRoLEMKT77pPcbuk3v5F+8Qu7KwIAoH4ijATJokXmDc7Cw6WnnrK7GgAA6i/CSBAUFEi//725PnGieadVAADgH2EkCJ58UjpwQOrYUfrjH+2uBgCA+o0wEmB790p/+Yu5/vTTUmSkreUAAFDvEUYC7A9/kAoLpZ//XLrxRrurAQCg/iOMBNDKldLbb0uhoealvNxpFQCA6hFGAuT0aWn8eHN97Fjp4ovtrQcAgIaCMBIgc+ZIX38ttW4tPfqo3dUAANBwEEYC4NgxaepUc/3Pf5ZatbK3HgAAGhLCSAAsWiTl5ppDM6NH210NAAANC2EkADZtMr9ee605eRUAANQcYSQAtmwxv/bubWcVAAA0TISRc3TmjPnpvBJhBACAuiCMnKPvvjNvcta8uXTeeXZXAwBAw0MYOUebN5tfU1KkEM4mAAC1xtvnOWK+CAAA54Ywco48YeSSS2wtAwCABoswcg4Mo3SYhs4IAAB1Qxg5BwcPSj/8YN5bpGdPu6sBAKBhIoycA88QzYUXSuHhtpYCAECDRRg5BwzRAABw7ggj54AraQAAOHeEkXPAlTQAAJw7wkgd5eZKu3eb63RGAACoO8JIHW3dan7t2FFq1creWgAAaMgII3XEfBEAAAKDMFJHXEkDAEBgEEbqiMmrAAAEBmGkDoqLpa+/NtfpjAAAcG4II3XwzTfS6dNSbKzUqZPd1QAA0LARRuqg7ORVh8POSgAAaPgII3XAlTQAAAQOYaQOuJIGAIDAIYzUkmFwJQ0AAIFEGKmlvXulvDzJ6ZS6d7e7GgAAGj7CSC15hmh69DADCQAAODeEkVpiiAYAgMCqUxiZPXu2kpOTFR4ertTUVG3YsKHSfU+fPq3p06era9euCg8PV0pKipYvX17ngu3GlTQAAARWrcPIggULNGHCBE2bNk2bNm1SSkqKMjIydOTIEb/7T548WS+88IKee+45ffPNN7rnnnt0/fXXa7NnvKOB4UoaAAACy2EYhlGbA1JTU3XppZfq+eeflyS53W4lJSXpd7/7nSZOnFhh/8TERD388MPKzMz0brvxxhsVERGhv//97zV6zry8PMXExCg3N1fR0dG1KTegjh2T4uLM9dxcycZSAACo92r6/l2rzkhxcbE2btyo9PT00gcICVF6errWrVvn95iioiKFh4f7bIuIiNDatWsrfZ6ioiLl5eX5LPXB1q3m165dCSIAAARKrcLIsWPHVFJSovj4eJ/t8fHxys7O9ntMRkaGZsyYoZ07d8rtdmvFihVavHixDh8+XOnzZGVlKSYmxrskJSXVpsygYYgGAIDAC/rVNM8++6zOP/98de/eXU6nU+PGjdOoUaMUElL5U0+aNEm5ubne5cCBA8Eus0a4kgYAgMCrVRhp06aNQkNDlZOT47M9JydHCQkJfo+Ji4vTkiVLlJ+fr3379mn79u1q0aKFunTpUunzuFwuRUdH+yz1AVfSAAAQeLUKI06nU3379tXKlSu929xut1auXKm0tLQqjw0PD1f79u115swZvf3227ruuuvqVrFNTp2Stm831wkjAAAETrPaHjBhwgSNGDFC/fr1U//+/TVz5kzl5+dr1KhRkqThw4erffv2ysrKkiStX79eBw8eVO/evXXw4EE98sgjcrvdevDBBwP7SoJs2zappMS8miYx0e5qAABoPGodRoYNG6ajR49q6tSpys7OVu/evbV8+XLvpNb9+/f7zAcpLCzU5MmTtXv3brVo0UK/+tWv9Prrrys2NjZgL8IKZYdoHA47KwEAoHGp9X1G7FAf7jNy773SnDnSH/8oPfmkLSUAANCgBOU+I00ZV9IAABAchJEaKCmRvvzSXGfyKgAAgUUYqYHvv5fy86WICOmCC+yuBgCAxoUwUgOeO6/26iWFhtpbCwAAjQ1hpAa42RkAAMFDGKkBwggAAMFDGKkBzzANV9IAABB4hJFqZGdLOTlSSIh08cV2VwMAQONDGKmGZ4jmggukyEhbSwEAoFEijFSDIRoAAIKLMFKNAwfMr+efb28dAAA0VoSRahQUmF+bN7e3DgAAGivCSDU8YYT5IgAABAdhpBqnTplfIyLsrQMAgMaKMFINOiMAAAQXYaQahBEAAIKLMFINhmkAAAguwkg16IwAABBchJFq0BkBACC4CCPVoDMCAEBwEUaqQRgBACC4CCNVcLulwkJznWEaAACCgzBSBU8QkeiMAAAQLISRKngmr0p0RgAACBbCSBU880WcTik01N5aAABorAgjVWDyKgAAwUcYqQL3GAEAIPgII1WgMwIAQPARRqpAZwQAgOAjjFSBzggAAMFHGKkCYQQAgOAjjFSBYRoAAIKPMFIFOiMAAAQfYaQKdEYAAAg+wkgV6IwAABB8hJEqEEYAAAg+wkgVGKYBACD4CCNVoDMCAEDwEUaqQGcEAIDgI4xUgc4IAADBRxipAmEEAIDgI4xUgWEaAACCjzBSBTojAAAEH2GkCnRGAAAIPsJIFeiMAAAQfISRKhBGAAAIPsJIFRimAQAg+AgjVaAzAgBA8BFGKnHmjHT6tLlOZwQAgOAhjFTCM0Qj0RkBACCYCCOV8AzRSFJ4uH11AADQ2BFGKlF28qrDYW8tAAA0ZoSRSjB5FQAAaxBGKsFlvQAAWIMwUgk6IwAAWIMwUgnCCAAA1iCMVIJhGgAArEEYqQSdEQAArEEYqQSdEQAArEEYqQSdEQAArEEYqQRhBAAAaxBGKsEwDQAA1iCMVILOCAAA1iCMVMLTGSGMAAAQXISRSng6IwzTAAAQXISRSjBMAwCANeoURmbPnq3k5GSFh4crNTVVGzZsqHL/mTNnqlu3boqIiFBSUpIeeOABFRYW1qlgqzCBFQAAa9Q6jCxYsEATJkzQtGnTtGnTJqWkpCgjI0NHjhzxu/+bb76piRMnatq0afr222/18ssva8GCBfrTn/50zsUHE50RAACsUeswMmPGDN11110aNWqULrroIs2dO1eRkZGaN2+e3/3//e9/6/LLL9ctt9yi5ORkDRo0SDfffHO13RS7MYEVAABr1CqMFBcXa+PGjUpPTy99gJAQpaena926dX6Pueyyy7Rx40Zv+Ni9e7eWLVumX/3qV5U+T1FRkfLy8nwWqzGBFQAAazSrzc7Hjh1TSUmJ4uPjfbbHx8dr+/btfo+55ZZbdOzYMf3sZz+TYRg6c+aM7rnnniqHabKysvToo4/WprSAY5gGAABrBP1qmtWrV+vxxx/X3/72N23atEmLFy/WBx98oMcee6zSYyZNmqTc3FzvcuDAgWCXWQETWAEAsEatOiNt2rRRaGiocnJyfLbn5OQoISHB7zFTpkzR7bffrtGjR0uSLr74YuXn52vMmDF6+OGHFRJSMQ+5XC65XK7alBZwdEYAALBGrTojTqdTffv21cqVK73b3G63Vq5cqbS0NL/HFBQUVAgcoaGhkiTDMGpbr2WYwAoAgDVq1RmRpAkTJmjEiBHq16+f+vfvr5kzZyo/P1+jRo2SJA0fPlzt27dXVlaWJGnIkCGaMWOGLrnkEqWmpmrXrl2aMmWKhgwZ4g0l9Y1hMIEVAACr1DqMDBs2TEePHtXUqVOVnZ2t3r17a/ny5d5Jrfv37/fphEyePFkOh0OTJ0/WwYMHFRcXpyFDhujPf/5z4F5FgBUXS263uU5nBACA4HIY9Xms5Ky8vDzFxMQoNzdX0dHRQX++Eyekli3N9aIiyekM+lMCANDo1PT9m8+m8cMzRBMaKoWF2VsLAACNHWHEj7JX0jgc9tYCAEBjRxjxg3uMAABgHcKIH9xjBAAA6xBG/KAzAgCAdQgjftAZAQDAOoQRPwgjAABYhzDiB8M0AABYhzDiB50RAACsQxjxg84IAADWIYz4QWcEAADrEEb8IIwAAGAdwogfDNMAAGAdwogfdEYAALAOYcQPOiMAAFiHMOIHnREAAKxDGPGDMAIAgHUII34wTAMAgHUII37QGQEAwDqEET/ojAAAYB3CiB90RgAAsA5hxA/CCAAA1iGM+MEwDQAA1iGM+EFnBAAA6xBGynG7pcJCc53OCAAAwUcYKccTRCQ6IwAAWIEwUo5niEaiMwIAgBUII+V4Jq86nVJoqL21AADQFBBGymHyKgAA1iKMlMNlvQAAWIswUg6dEQAArEUYKYcwAgCAtQgj5TBMAwCAtQgj5dAZAQDAWoSRcuiMAABgLcJIOXRGAACwFmGkHMIIAADWIoyUwzANAADWIoyUQ2cEAABrEUbKoTMCAIC1CCPl0BkBAMBahJFyCCMAAFiLMFIOwzQAAFiLMFIOnREAAKxFGCmHzggAANYijJRDZwQAAGsRRsohjAAAYC3CSDkM0wAAYC3CSDl0RgAAsBZhpBw6IwAAWIswUg6dEQAArEUYKePMGen0aXOdMAIAgDUII2V4hmgkhmkAALAKYaQMzxCNJIWH21cHAABNCWGkjLKTVx0Oe2sBAKCpIIyUweRVAACsRxgpgzACAID1CCNlcI8RAACsRxgpg84IAADWI4yUQWcEAADrEUbKoDMCAID1CCNlEEYAALAeYaQMhmkAALAeYaQMOiMAAFiPMFKGJ4zQGQEAwDp1CiOzZ89WcnKywsPDlZqaqg0bNlS671VXXSWHw1Fhueaaa+pcdLB4hmnojAAAYJ1ah5EFCxZowoQJmjZtmjZt2qSUlBRlZGToyJEjfvdfvHixDh8+7F22bdum0NBQ/fa3vz3n4gONYRoAAKxX6zAyY8YM3XXXXRo1apQuuugizZ07V5GRkZo3b57f/Vu1aqWEhATvsmLFCkVGRtbLMMIEVgAArFerMFJcXKyNGzcqPT299AFCQpSenq5169bV6DFefvll3XTTTWrevHml+xQVFSkvL89nsQKdEQAArFerMHLs2DGVlJQoPj7eZ3t8fLyys7OrPX7Dhg3atm2bRo8eXeV+WVlZiomJ8S5JSUm1KbPOmMAKAID1LL2a5uWXX9bFF1+s/v37V7nfpEmTlJub610OHDhgSX1MYAUAwHrNarNzmzZtFBoaqpycHJ/tOTk5SkhIqPLY/Px8vfXWW5o+fXq1z+NyueRyuWpTWkAwTAMAgPVq1RlxOp3q27evVq5c6d3mdru1cuVKpaWlVXnswoULVVRUpNtuu61ulVqACawAAFivVp0RSZowYYJGjBihfv36qX///po5c6by8/M1atQoSdLw4cPVvn17ZWVl+Rz38ssva+jQoWrdunVgKg8COiMAAFiv1mFk2LBhOnr0qKZOnars7Gz17t1by5cv905q3b9/v0JCfBsuO3bs0Nq1a/Xxxx8HpuogIYwAAGA9h2EYht1FVCcvL08xMTHKzc1VdHR00J6nbVvp6FHpq6+knj2D9jQAADQJNX3/5rNpyqAzAgCA9QgjZxkGE1gBALADYeSs4mLJ7TbX6YwAAGAdwshZniEaiTACAICVCCNneYZoQkOlsDB7awEAoCkhjJzF5FUAAOxBGDmLyasAANiDMHIWnREAAOxBGDmLMAIAgD0II2cxTAMAgD0II2fRGQEAwB6EkbPojAAAYA/CyFl0RgAAsAdh5CzCCAAA9iCMnMUwDQAA9iCMnEVnBAAAexBGzqIzAgCAPQgjZ9EZAQDAHoSRswgjAADYgzByFsM0AADYgzByFp0RAADsQRg5i84IAAD2IIycRWcEAAB7EEbOIowAAGAPwshZDNMAAGAPwshZdEYAALAHYeQsOiMAANiDMHIWnREAAOxBGJHkdkuFheY6YQQAAGsRRlQaRCSGaQAAsBphRKVDNBJhBAAAqxFGVDp51emUQkPtrQUAgKaGMCImrwIAYCfCiAgjAADYiTAi7jECAICdCCOiMwIAgJ0II6IzAgCAnQgjojMCAICdCCMijAAAYCfCiBimAQDAToQR0RkBAMBOhBHRGQEAwE6EEdEZAQDAToQREUYAALATYUQM0wAAYCfCiOiMAABgJ8KISsMInREAAKxHGFHpMA2dEQAArEcYEcM0AADYiTAiJrACAGAnwojojAAAYCfCiJjACgCAnQgjYgIrAAB2IoyIYRoAAOxEGBETWAEAsFOTDyOnT5uLRGcEAAA7NPkw4umKSHRGAACwA2GkTBgJD7evDgAAmqomH0bKTl51OOytBQCApqjJhxEmrwIAYK8mH0a4rBcAAHsRRrj7KgAAtmryYYS7rwIAYK8mH0YYpgEAwF5NPowwgRUAAHs1+TBCZwQAAHvVKYzMnj1bycnJCg8PV2pqqjZs2FDl/idOnFBmZqbatWsnl8ulCy64QMuWLatTwYHGBFYAAOzVrLYHLFiwQBMmTNDcuXOVmpqqmTNnKiMjQzt27FDbtm0r7F9cXKyrr75abdu21aJFi9S+fXvt27dPsbGxgaj/nDGBFQAAe9U6jMyYMUN33XWXRo0aJUmaO3euPvjgA82bN08TJ06ssP+8efN0/Phx/fvf/1ZYWJgkKTk5+dyqDiCGaQAAsFethmmKi4u1ceNGpaenlz5ASIjS09O1bt06v8e89957SktLU2ZmpuLj49WzZ089/vjjKikpqfR5ioqKlJeX57MECxNYAQCwV63CyLFjx1RSUqL4+Hif7fHx8crOzvZ7zO7du7Vo0SKVlJRo2bJlmjJlip5++mn993//d6XPk5WVpZiYGO+SlJRUmzJrhc4IAAD2CvrVNG63W23bttWLL76ovn37atiwYXr44Yc1d+7cSo+ZNGmScnNzvcuBAweCVh8TWAEAsFet5oy0adNGoaGhysnJ8dmek5OjhIQEv8e0a9dOYWFhCg0N9W678MILlZ2dreLiYjmdzgrHuFwuuVyu2pRWZ0xgBQDAXrXqjDidTvXt21crV670bnO73Vq5cqXS0tL8HnP55Zdr165dcrvd3m3fffed2rVr5zeIWI1hGgAA7FXrYZoJEybopZde0quvvqpvv/1WY8eOVX5+vvfqmuHDh2vSpEne/ceOHavjx49r/Pjx+u677/TBBx/o8ccfV2ZmZuBexTlgAisAAPaq9aW9w4YN09GjRzV16lRlZ2erd+/eWr58uXdS6/79+xUSUppxkpKS9NFHH+mBBx5Qr1691L59e40fP14PPfRQ4F7FOaAzAgCAvRyGYRh2F1GdvLw8xcTEKDc3V9HR0QF97D59pM2bpWXLpMGDA/rQAAA0aTV9/27yn03DBFYAAOzV5MMIwzQAANiryYcRJrACAGCvJh9G6IwAAGCvJh1GDIM7sAIAYLcmHUaKi81AItEZAQDALk06jHi6IhJhBAAAuzTpMOKZvBoaKoWF2VsLAABNVZMOI0xeBQDAfoQREUYAALBTkw4j3GMEAAD7NekwQmcEAAD7NekwQmcEAAD7NekwQmcEAAD7EUZEGAEAwE5NOowwTAMAgP2adBihMwIAgP2adBihMwIAgP2adBihMwIAgP0IIyKMAABgpyYdRhimAQDAfk06jNAZAQDAfk06jNAZAQDAfk06jNAZAQDAfoQREUYAALBTkw4jDNMAAGC/ZnYXYKdRo6SrrpK6dbO7EgAAmq4mHUbGjLG7AgAA0KSHaQAAgP0IIwAAwFaEEQAAYCvCCAAAsBVhBAAA2IowAgAAbEUYAQAAtiKMAAAAWxFGAACArQgjAADAVoQRAABgK8IIAACwFWEEAADYqkF8aq9hGJKkvLw8mysBAAA15Xnf9ryPV6ZBhJGTJ09KkpKSkmyuBAAA1NbJkycVExNT6c8dRnVxpR5wu906dOiQoqKi5HA4Ava4eXl5SkpK0oEDBxQdHR2wx4V/nG9rcb6txfm2FufbWnU934Zh6OTJk0pMTFRISOUzQxpEZyQkJEQdOnQI2uNHR0fzy2whzre1ON/W4nxbi/Ntrbqc76o6Ih5MYAUAALYijAAAAFs16TDicrk0bdo0uVwuu0tpEjjf1uJ8W4vzbS3Ot7WCfb4bxARWAADQeDXpzggAALAfYQQAANiKMAIAAGxFGAEAALYijAAAAFs16TAye/ZsJScnKzw8XKmpqdqwYYPdJTUKn376qYYMGaLExEQ5HA4tWbLE5+eGYWjq1Klq166dIiIilJ6erp07d9pTbCOQlZWlSy+9VFFRUWrbtq2GDh2qHTt2+OxTWFiozMxMtW7dWi1atNCNN96onJwcmypu2ObMmaNevXp570SZlpamDz/80PtzznXwPPHEE3I4HLr//vu92zjfgfXII4/I4XD4LN27d/f+PFjnu8mGkQULFmjChAmaNm2aNm3apJSUFGVkZOjIkSN2l9bg5efnKyUlRbNnz/b78yeffFKzZs3S3LlztX79ejVv3lwZGRkqLCy0uNLGYc2aNcrMzNRnn32mFStW6PTp0xo0aJDy8/O9+zzwwANaunSpFi5cqDVr1ujQoUO64YYbbKy64erQoYOeeOIJbdy4UV988YV+8Ytf6LrrrtPXX38tiXMdLJ9//rleeOEF9erVy2c75zvwevToocOHD3uXtWvXen8WtPNtNFH9+/c3MjMzvd+XlJQYiYmJRlZWlo1VNT6SjHfeecf7vdvtNhISEoy//vWv3m0nTpwwXC6X8b//+782VNj4HDlyxJBkrFmzxjAM8/yGhYUZCxcu9O7z7bffGpKMdevW2VVmo9KyZUvjf/7nfzjXQXLy5Enj/PPPN1asWGEMGDDAGD9+vGEY/G4Hw7Rp04yUlBS/Pwvm+W6SnZHi4mJt3LhR6enp3m0hISFKT0/XunXrbKys8duzZ4+ys7N9zn1MTIxSU1M59wGSm5srSWrVqpUkaePGjTp9+rTPOe/evbs6duzIOT9HJSUleuutt5Sfn6+0tDTOdZBkZmbqmmuu8TmvEr/bwbJz504lJiaqS5cuuvXWW7V//35JwT3fDeJTewPt2LFjKikpUXx8vM/2+Ph4bd++3aaqmobs7GxJ8nvuPT9D3bndbt1///26/PLL1bNnT0nmOXc6nYqNjfXZl3Ned1999ZXS0tJUWFioFi1a6J133tFFF12kLVu2cK4D7K233tKmTZv0+eefV/gZv9uBl5qaqvnz56tbt246fPiwHn30UV1xxRXatm1bUM93kwwjQGOVmZmpbdu2+YzxIvC6deumLVu2KDc3V4sWLdKIESO0Zs0au8tqdA4cOKDx48drxYoVCg8Pt7ucJmHw4MHe9V69eik1NVWdOnXSP/7xD0VERATteZvkME2bNm0UGhpaYQZwTk6OEhISbKqqafCcX8594I0bN07vv/++Vq1apQ4dOni3JyQkqLi4WCdOnPDZn3Ned06nU+edd5769u2rrKwspaSk6Nlnn+VcB9jGjRt15MgR9enTR82aNVOzZs20Zs0azZo1S82aNVN8fDznO8hiY2N1wQUXaNeuXUH9/W6SYcTpdKpv375auXKld5vb7dbKlSuVlpZmY2WNX+fOnZWQkOBz7vPy8rR+/XrOfR0ZhqFx48bpnXfe0SeffKLOnTv7/Lxv374KCwvzOec7duzQ/v37OecB4na7VVRUxLkOsIEDB+qrr77Sli1bvEu/fv106623etc538H1008/6fvvv1e7du2C+/t9TtNfG7C33nrLcLlcxvz5841vvvnGGDNmjBEbG2tkZ2fbXVqDd/LkSWPz5s3G5s2bDUnGjBkzjM2bNxv79u0zDMMwnnjiCSM2NtZ49913jS+//NK47rrrjM6dOxunTp2yufKGaezYsUZMTIyxevVq4/Dhw96loKDAu88999xjdOzY0fjkk0+ML774wkhLSzPS0tJsrLrhmjhxorFmzRpjz549xpdffmlMnDjRcDgcxscff2wYBuc62MpeTWMYnO9A+/3vf2+sXr3a2LNnj/Gvf/3LSE9PN9q0aWMcOXLEMIzgne8mG0YMwzCee+45o2PHjobT6TT69+9vfPbZZ3aX1CisWrXKkFRhGTFihGEY5uW9U6ZMMeLj4w2Xy2UMHDjQ2LFjh71FN2D+zrUk45VXXvHuc+rUKePee+81WrZsaURGRhrXX3+9cfjwYfuKbsDuuOMOo1OnTobT6TTi4uKMgQMHeoOIYXCug618GOF8B9awYcOMdu3aGU6n02jfvr0xbNgwY9euXd6fB+t8OwzDMM6ttwIAAFB3TXLOCAAAqD8IIwAAwFaEEQAAYCvCCAAAsBVhBAAA2IowAgAAbEUYAQAAtiKMAAAAWxFGAACArQgjAADAVoQRAABgq/8PyzfjY1wpZoIAAAAASUVORK5CYII=",
            "text/plain": [
              "<Figure size 640x480 with 1 Axes>"
            ]
          },
          "metadata": {},
          "output_type": "display_data"
        },
        {
          "data": {
            "image/png": "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",
            "text/plain": [
              "<Figure size 640x480 with 1 Axes>"
            ]
          },
          "metadata": {},
          "output_type": "display_data"
        }
      ],
      "source": [
        "acc = history.history['accuracy']\n",
        "loss = history.history['loss']\n",
        "epochs = range(len(acc))\n",
        "plt.plot(epochs, acc, 'b', label='Training accuracy')\n",
        "plt.title('Training accuracy')\n",
        "plt.figure()\n",
        "plt.plot(epochs, loss, 'b', label='Training Loss')\n",
        "plt.title('Training loss')\n",
        "plt.legend()\n",
        "plt.show()"
      ]
    },
    {
      "cell_type": "code",
      "execution_count": null,
      "metadata": {
        "colab": {
          "base_uri": "https://localhost:8080/"
        },
        "id": "RUHmV8ONFh0f",
        "outputId": "ccbf3b19-082d-4be8-858e-9debc0fe5366"
      },
      "outputs": [
        {
          "name": "stdout",
          "output_type": "stream",
          "text": [
            "Training\n",
            "500/500 [==============================] - 2s 2ms/step\n",
            "Accuracy: 0.997375\n",
            "F1 Score: 0.9955858192313682\n"
          ]
        }
      ],
      "source": [
        "print(\"Training\")\n",
        "pred_probs = model.predict(train_sequences)\n",
        "preds = np.argmax(pred_probs,axis=1)\n",
        "evaluate(train_data['label'],preds)"
      ]
    },
    {
      "cell_type": "code",
      "execution_count": null,
      "metadata": {
        "id": "yL6tQ0WxFj3s"
      },
      "outputs": [],
      "source": [
        "input=[]\n",
        "test_sequences=[]\n",
        "for text in test_processed['text']:\n",
        "    input.append(text)\n",
        "for text in input:\n",
        "    test_sequences.append(tokenizer.texts_to_sequences([text])[0])"
      ]
    },
    {
      "cell_type": "code",
      "execution_count": null,
      "metadata": {
        "id": "VtpASOLrFj98"
      },
      "outputs": [],
      "source": [
        "test_sequences = pad_sequences(test_sequences, maxlen=mx, padding='pre')"
      ]
    },
    {
      "cell_type": "code",
      "execution_count": null,
      "metadata": {
        "id": "pYgGzXEwFkAy"
      },
      "outputs": [],
      "source": [
        "test_labels = ku.to_categorical(test_processed['label'], num_classes=6)"
      ]
    },
    {
      "cell_type": "code",
      "execution_count": null,
      "metadata": {
        "colab": {
          "base_uri": "https://localhost:8080/"
        },
        "id": "tNQ7exY3FkDb",
        "outputId": "084fb367-87de-4505-db2c-260b51110272"
      },
      "outputs": [
        {
          "name": "stdout",
          "output_type": "stream",
          "text": [
            "Testing\n",
            "63/63 [==============================] - 0s 2ms/step\n",
            "Accuracy: 0.873\n",
            "F1 Score: 0.8295444897654343\n"
          ]
        }
      ],
      "source": [
        "print(\"Testing\")\n",
        "pred_probs = model.predict(test_sequences)\n",
        "preds = np.argmax(pred_probs,axis=1)\n",
        "evaluate(test_data['label'],preds)"
      ]
    },
    {
      "cell_type": "markdown",
      "metadata": {
        "id": "2Cw5l-BQFrvF"
      },
      "source": [
        "## Transfer Learning with BERT\n",
        "BERT (Bidirectional Encoder Representations from Transformers) is a transformer based model trained on a large corpus of data. Since it is trained on such large amount of data, it can be used for a lot of tasks involving text, including emotion detection. Here, I import the BERT model using tensorflow, and then add trainable neural network layers on top it for our particular task. Here are the steps:\n",
        "1. Tokenize using the BERT tokenizer\n",
        "2. Define Model architecture:\n",
        "- I first obtain the embeddings from the BERT model, which is a 768 dimensional vector\n",
        "- This vector is passed through a layer of neural network having 128 nodes with reLU activation\n",
        "- Then there is a dropout layer\n",
        "- Then it is passed to the output layer, which consists of 6 nodes, each corresponding to an emotion and the softmax activation is applied to get the final output\n",
        "3. Loss: I use the categorical cross entropy loss"
      ]
    },
    {
      "cell_type": "code",
      "execution_count": null,
      "metadata": {
        "id": "Vq2mSXgvFqiR"
      },
      "outputs": [],
      "source": [
        "import numpy as np\n",
        "import pandas as pd\n",
        "from sklearn.model_selection import train_test_split\n",
        "from tensorflow.keras.utils import to_categorical\n",
        "from transformers import AutoTokenizer,TFBertModel\n",
        "from transformers import BertTokenizer, TFBertModel, BertConfig,TFDistilBertModel,DistilBertTokenizer,DistilBertConfig\n",
        "from tensorflow.keras.optimizers import Adam\n",
        "from tensorflow.keras.callbacks import EarlyStopping\n",
        "from tensorflow.keras.initializers import TruncatedNormal\n",
        "from tensorflow.keras.losses import CategoricalCrossentropy\n",
        "from tensorflow.keras.metrics import CategoricalAccuracy\n",
        "from tensorflow.keras.utils import to_categorical\n",
        "from tensorflow.keras.layers import Input, Dense\n",
        "import tensorflow as tf"
      ]
    },
    {
      "cell_type": "code",
      "execution_count": null,
      "metadata": {
        "id": "GKnHrYv6IE-M"
      },
      "outputs": [],
      "source": [
        "max_len = 68\n",
        "train_processed['label'] = train_processed['label'].astype('category')"
      ]
    },
    {
      "cell_type": "code",
      "execution_count": null,
      "metadata": {
        "id": "x4nUpuClIFAj"
      },
      "outputs": [],
      "source": [
        "test_processed['label'] = test_processed['label'].astype('category')"
      ]
    },
    {
      "cell_type": "code",
      "execution_count": null,
      "metadata": {
        "colab": {
          "base_uri": "https://localhost:8080/"
        },
        "id": "9OoQyWfHIFC4",
        "outputId": "35a09564-8141-4c8a-dd9b-cc84f40c363f"
      },
      "outputs": [
        {
          "name": "stderr",
          "output_type": "stream",
          "text": [
            "Some weights of the PyTorch model were not used when initializing the TF 2.0 model TFBertModel: ['cls.predictions.transform.dense.bias', 'cls.predictions.transform.dense.weight', 'cls.predictions.transform.LayerNorm.bias', 'cls.predictions.transform.LayerNorm.weight', 'cls.seq_relationship.bias', 'cls.predictions.bias', 'cls.seq_relationship.weight']\n",
            "- This IS expected if you are initializing TFBertModel from a PyTorch model trained on another task or with another architecture (e.g. initializing a TFBertForSequenceClassification model from a BertForPreTraining model).\n",
            "- This IS NOT expected if you are initializing TFBertModel from a PyTorch model that you expect to be exactly identical (e.g. initializing a TFBertForSequenceClassification model from a BertForSequenceClassification model).\n",
            "All the weights of TFBertModel were initialized from the PyTorch model.\n",
            "If your task is similar to the task the model of the checkpoint was trained on, you can already use TFBertModel for predictions without further training.\n"
          ]
        }
      ],
      "source": [
        "tokenizer = AutoTokenizer.from_pretrained('bert-base-cased')\n",
        "bert = TFBertModel.from_pretrained('bert-base-cased')"
      ]
    },
    {
      "cell_type": "code",
      "execution_count": null,
      "metadata": {
        "id": "xvmPd1M2IFFO"
      },
      "outputs": [],
      "source": [
        "x_train = tokenizer(text=train_processed['text'].tolist(),\n",
        "    add_special_tokens=True,\n",
        "    max_length=max_len,\n",
        "    truncation=True,\n",
        "    padding=True,\n",
        "    return_tensors='tf',\n",
        "    return_token_type_ids = False,\n",
        "    return_attention_mask = True,\n",
        "    verbose = True)\n",
        "x_test = tokenizer(text=test_processed['text'].tolist(),\n",
        "    add_special_tokens=True,\n",
        "    max_length=max_len,\n",
        "    truncation=True,\n",
        "    padding=True,\n",
        "    return_tensors='tf',\n",
        "    return_token_type_ids = False,\n",
        "    return_attention_mask = True,\n",
        "    verbose = True)"
      ]
    },
    {
      "cell_type": "code",
      "execution_count": null,
      "metadata": {
        "id": "_V4FjH3GIFHl"
      },
      "outputs": [],
      "source": [
        "input_ids = Input(shape=(max_len,), dtype=tf.int32, name=\"input_ids\")\n",
        "input_mask = Input(shape=(max_len,), dtype=tf.int32, name=\"attention_mask\")\n",
        "embeddings = bert(input_ids,attention_mask = input_mask)[0]\n",
        "out = tf.keras.layers.GlobalMaxPool1D()(embeddings)\n",
        "out = Dense(128, activation='relu')(out)\n",
        "out = tf.keras.layers.Dropout(0.25)(out)\n",
        "y = Dense(6,activation = 'softmax')(out)\n",
        "model = tf.keras.Model(inputs=[input_ids, input_mask], outputs=y)\n",
        "model.layers[2].trainable = True"
      ]
    },
    {
      "cell_type": "code",
      "execution_count": null,
      "metadata": {
        "id": "I_zJKn4jIwDA"
      },
      "outputs": [],
      "source": [
        "optimizer = Adam(learning_rate=1e-04, # this learning rate is for bert model , taken from huggingface I bsite\n",
        "    epsilon=1e-08,\n",
        "    I ight_decay = 0.01,\n",
        "    clipnorm=1.0)\n",
        "loss =CategoricalCrossentropy()\n",
        "model.compile(optimizer = optimizer,loss = loss, metrics = 'accuracy')"
      ]
    },
    {
      "cell_type": "code",
      "execution_count": null,
      "metadata": {
        "colab": {
          "base_uri": "https://localhost:8080/"
        },
        "id": "koRi2CAoIwF5",
        "outputId": "e0cf8a74-4c1d-4520-ca77-f11fcaaf9970"
      },
      "outputs": [
        {
          "name": "stdout",
          "output_type": "stream",
          "text": [
            "Model: \"model\"\n",
            "__________________________________________________________________________________________________\n",
            " Layer (type)                Output Shape                 Param #   Connected to                  \n",
            "==================================================================================================\n",
            " input_ids (InputLayer)      [(None, 68)]                 0         []                            \n",
            "                                                                                                  \n",
            " attention_mask (InputLayer  [(None, 68)]                 0         []                            \n",
            " )                                                                                                \n",
            "                                                                                                  \n",
            " tf_bert_model (TFBertModel  TFBaseModelOutputWithPooli   1083102   ['input_ids[0][0]',           \n",
            " )                           ngAndCrossAttentions(last_   72         'attention_mask[0][0]']      \n",
            "                             hidden_state=(None, 68, 76                                           \n",
            "                             8),                                                                  \n",
            "                              pooler_output=(None, 768)                                           \n",
            "                             , past_key_values=None, hi                                           \n",
            "                             dden_states=None, attentio                                           \n",
            "                             ns=None, cross_attentions=                                           \n",
            "                             None)                                                                \n",
            "                                                                                                  \n",
            " global_max_pooling1d (Glob  (None, 768)                  0         ['tf_bert_model[0][0]']       \n",
            " alMaxPooling1D)                                                                                  \n",
            "                                                                                                  \n",
            " dense_1 (Dense)             (None, 128)                  98432     ['global_max_pooling1d[0][0]']\n",
            "                                                                                                  \n",
            " dropout_38 (Dropout)        (None, 128)                  0         ['dense_1[0][0]']             \n",
            "                                                                                                  \n",
            " dense_2 (Dense)             (None, 6)                    774       ['dropout_38[0][0]']          \n",
            "                                                                                                  \n",
            "==================================================================================================\n",
            "Total params: 108409478 (413.55 MB)\n",
            "Trainable params: 108409478 (413.55 MB)\n",
            "Non-trainable params: 0 (0.00 Byte)\n",
            "__________________________________________________________________________________________________\n"
          ]
        }
      ],
      "source": [
        "model.summary()"
      ]
    },
    {
      "cell_type": "code",
      "execution_count": null,
      "metadata": {
        "colab": {
          "base_uri": "https://localhost:8080/"
        },
        "id": "GA14rAPaIwIg",
        "outputId": "41db7c89-99d7-4ec6-abb3-99a852d7005c"
      },
      "outputs": [
        {
          "name": "stderr",
          "output_type": "stream",
          "text": [
            "WARNING:tensorflow:Gradients do not exist for variables ['tf_bert_model/bert/pooler/dense/kernel:0', 'tf_bert_model/bert/pooler/dense/bias:0'] when minimizing the loss. If you're using `model.compile()`, did you forget to provide a `loss` argument?\n",
            "WARNING:tensorflow:Gradients do not exist for variables ['tf_bert_model/bert/pooler/dense/kernel:0', 'tf_bert_model/bert/pooler/dense/bias:0'] when minimizing the loss. If you're using `model.compile()`, did you forget to provide a `loss` argument?\n",
            "WARNING:tensorflow:Gradients do not exist for variables ['tf_bert_model/bert/pooler/dense/kernel:0', 'tf_bert_model/bert/pooler/dense/bias:0'] when minimizing the loss. If you're using `model.compile()`, did you forget to provide a `loss` argument?\n",
            "WARNING:tensorflow:Gradients do not exist for variables ['tf_bert_model/bert/pooler/dense/kernel:0', 'tf_bert_model/bert/pooler/dense/bias:0'] when minimizing the loss. If you're using `model.compile()`, did you forget to provide a `loss` argument?\n"
          ]
        },
        {
          "name": "stdout",
          "output_type": "stream",
          "text": [
            "445/445 [==============================] - 294s 549ms/step - loss: 0.4842 - accuracy: 0.8331\n"
          ]
        }
      ],
      "source": [
        "train_history = model.fit(\n",
        "    x ={'input_ids':x_train['input_ids'],'attention_mask':x_train['attention_mask']} ,\n",
        "    y = to_categorical(train_data['label']),epochs=1,batch_size=36\n",
        ")"
      ]
    },
    {
      "cell_type": "code",
      "execution_count": null,
      "metadata": {
        "colab": {
          "base_uri": "https://localhost:8080/"
        },
        "id": "-YcixrSrLPUH",
        "outputId": "62bbfcaa-0a19-4f24-981d-df1dc739eb44"
      },
      "outputs": [
        {
          "name": "stdout",
          "output_type": "stream",
          "text": [
            "Training\n",
            "500/500 [==============================] - 78s 152ms/step\n",
            "Accuracy: 0.92875\n",
            "F1 Score: 0.8996680327676237\n"
          ]
        }
      ],
      "source": [
        "print(\"Training\")\n",
        "pred_prob = model.predict({'input_ids':x_train['input_ids'],'attention_mask':x_train['attention_mask']})\n",
        "preds = np.argmax(pred_prob, axis = 1)\n",
        "evaluate(train_data['label'],preds)"
      ]
    },
    {
      "cell_type": "code",
      "execution_count": null,
      "metadata": {
        "colab": {
          "base_uri": "https://localhost:8080/"
        },
        "id": "cc0fAWPhIwLG",
        "outputId": "bc4605e9-a071-4325-9ab0-fa9d6e9b7bf8"
      },
      "outputs": [
        {
          "name": "stdout",
          "output_type": "stream",
          "text": [
            "Testing\n",
            "63/63 [==============================] - 9s 99ms/step\n",
            "Accuracy: 0.9075\n",
            "F1 Score: 0.8669274631755749\n"
          ]
        }
      ],
      "source": [
        "print(\"Testing\")\n",
        "pred_prob = model.predict({'input_ids':x_test['input_ids'],'attention_mask':x_test['attention_mask']})\n",
        "preds = np.argmax(pred_prob, axis = 1)\n",
        "evaluate(test_data['label'],preds)"
      ]
    },
    {
      "cell_type": "markdown",
      "metadata": {
        "id": "FDSurb0gkElH"
      },
      "source": []
    },
    {
      "cell_type": "code",
      "execution_count": null,
      "metadata": {
        "id": "6VcQ6FJVIwNa"
      },
      "outputs": [],
      "source": []
    },
    {
      "cell_type": "markdown",
      "metadata": {
        "id": "Nr6K5Ze4Fvde"
      },
      "source": [
        "## Results\n",
        "The results for the various methods on the test dataset are summarized in the following table:\n",
        "<div align=\"center\">\n",
        "    \n",
        "| Method    | Macro F1-Score | Accuracy |\n",
        "| :-----------: | :-----------: | :-----------: |\n",
        "| Naive Bayes      |  0.45435      | 0.6975 |\n",
        "| Support Vector Machine | 0.7769       | 0.8440 |\n",
        "| LSTM  | 0.8295      | 0.873 |\n",
        "| Transfer Learning BERT   | 0.8670      | 0.9075 |\n",
        "    \n",
        "</div>\n",
        "A fine tuned transfer learning model works the best, while naive approaches like SVM and SVM dont do that I ll, which is expected"
      ]
    },
    {
      "cell_type": "markdown",
      "metadata": {
        "id": "TO7v503eGnQu"
      },
      "source": [
        "## Analysis\n",
        "I now analyze the best predictions from the BERT model"
      ]
    },
    {
      "cell_type": "code",
      "execution_count": null,
      "metadata": {
        "colab": {
          "base_uri": "https://localhost:8080/",
          "height": 472
        },
        "id": "3iTk3knqFqk2",
        "outputId": "ba03856f-aa82-4d11-b064-3405763d63a7"
      },
      "outputs": [
        {
          "data": {
            "image/png": "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",
            "text/plain": [
              "<Figure size 640x480 with 1 Axes>"
            ]
          },
          "metadata": {},
          "output_type": "display_data"
        }
      ],
      "source": [
        "accuracies = {}\n",
        "unique_classes = set(test_data['label'])\n",
        "for cls in unique_classes:\n",
        "    sub = np.array(test_data['label']) == cls\n",
        "    y_true = np.array(test_data['label'])[sub]\n",
        "    y_pred = preds[sub]\n",
        "    accuracies[decoding[cls]] = accuracy_score(y_true, y_pred)\n",
        "\n",
        "# Plot bar plot\n",
        "plt.bar(accuracies.keys(), accuracies.values())\n",
        "plt.xlabel('Class')\n",
        "plt.ylabel('Accuracy')\n",
        "plt.title('Accuracy by Class')\n",
        "plt.xticks(list(accuracies.keys()))\n",
        "plt.show()"
      ]
    },
    {
      "cell_type": "markdown",
      "metadata": {
        "id": "Q8up0fXLmLy7"
      },
      "source": [
        "The fact that anger has the highest accuracy suggests that it is easy to detect anger in a text, which I can relate to from our own observations.Surprise is a more subtle emotion and is more difficult to detect. Another reason why surprise may have loI r accuracy is that it has feI r number of datapoints"
      ]
    },
    {
      "cell_type": "code",
      "execution_count": null,
      "metadata": {
        "colab": {
          "base_uri": "https://localhost:8080/",
          "height": 430
        },
        "id": "1m3_6kOsFqnN",
        "outputId": "d325250d-d559-488d-d96b-3f1c6716725f"
      },
      "outputs": [
        {
          "data": {
            "image/png": "iVBORw0KGgoAAAANSUhEUgAAAgcAAAGdCAYAAACGtNCDAAAAOXRFWHRTb2Z0d2FyZQBNYXRwbG90bGliIHZlcnNpb24zLjcuMSwgaHR0cHM6Ly9tYXRwbG90bGliLm9yZy/bCgiHAAAACXBIWXMAAA9hAAAPYQGoP6dpAABt+ElEQVR4nO3dd1QU198G8GfpRYp0sCCKDRUbClhjxd5jiVHsUbGLJiSKsQVjjEYTSzRG1GhirD8r9i4ogthQBFRQ6UoRlT7vH7xusmgU1tkdkOeTM+fItH12AsuXe+/ckQmCIICIiIjo/2lIHYCIiIhKFxYHREREpIDFARERESlgcUBEREQKWBwQERGRAhYHREREpIDFARERESlgcUBEREQKWBwQERGRAi2pA7z26sQ6qSOUCmY9/aSOUCrk5udJHaFU0NRg/Q4AnMi1UAGvg1xezhOVnj835b5o59K2qC7audSl1BQHREREpUZBvtQJJMU/S4iIiEgBWw6IiIiKEgqkTiApFgdERERFFbA4ICIion8RynnLAcccEBERkQK2HBARERXFbgUiIiJSwG4FIiIion+w5YCIiKiocj4JEosDIiKiotitUDJ5eXlYsGABHj9+rIo8REREJLESFwdaWlr44YcfkJfHB+MQEdFHqqBAvKUMUmpAYvv27XH27FmxsxAREZUKglAg2lIWKVUcdO3aFV999RW8vb3x559/Yv/+/QoLERERKefJkyf4/PPPYW5uDn19fTRo0ABXr16VbxcEAb6+vrC1tYW+vj46duyIyMhIhXM8e/YMQ4cOhbGxMUxNTTF69GhkZmYWO4NSAxInTpwIAFi+fPkb22QyGfLzy/coTyIiKuMk6g5ITU1Fy5Yt0a5dOxw5cgSWlpaIjIxExYoV5fssXboUq1atwubNm+Hg4IC5c+fCw8MD4eHh0NPTAwAMHToU8fHxOH78OHJzczFy5EiMGzcO27dvL1YOmSAIgkreYQm9OrFO6gilgllPP6kjlAq5+RzTAgCaGpyKBCj8S4mAAl4HubycJyo9f/a9C6KdS7dWq2Lv+9VXX+HixYs4f/78W7cLggA7OzvMnDkT3t7eAID09HRYW1vD398fgwcPxp07d+Dk5ITg4GC4uLgAAAICAtCtWzc8fvwYdnZ2783xwZ88WVlZH3oKIiKi0qUgX7QlOzsbGRkZCkt2dvZbX3b//v1wcXHBp59+CisrKzRu3BgbNmyQb3/w4AESEhLQsWNH+ToTExO4uroiMDAQABAYGAhTU1N5YQAAHTt2hIaGBi5fvlyst69UcZCfn4+FCxeiUqVKqFChAu7fvw8AmDt3LjZu3KjMKYmIiD5Kfn5+MDExUVj8/N7eSnz//n2sXbsWNWvWxNGjRzFhwgRMmTIFmzdvBgAkJCQAAKytrRWOs7a2lm9LSEiAlZWVwnYtLS2YmZnJ93kfpYqDxYsXw9/fH0uXLoWOjo58ff369fHbb78pc0oiIqLSQygQbfHx8UF6errC4uPj89aXLSgoQJMmTfDdd9+hcePGGDduHMaOHYt169Tb9a5UcbBlyxasX78eQ4cOhaampnx9w4YNcffuXdHCERERSULEeQ50dXVhbGyssOjq6r71ZW1tbeHk5KSwrm7duoiNjQUA2NjYAAASExMV9klMTJRvs7GxQVJSksL2vLw8PHv2TL7P+yhVHDx58gSOjo5vrC8oKEBubq4ypyQiIir3WrZsiYiICIV19+7dg729PQDAwcEBNjY2OHnypHx7RkYGLl++DHd3dwCAu7s70tLSEBISIt/n1KlTKCgogKura7FyKHUro5OTE86fPy8P+9quXbvQuHFjZU5JRERUekg0edH06dPRokULfPfddxg4cCCuXLmC9evXY/369QAKpwuYNm0aFi1ahJo1a8pvZbSzs0OfPn0AFLY0dOnSRd4dkZubi0mTJmHw4MHFulMBULI48PX1haenJ548eYKCggLs2bMHERER2LJlCw4ePKjMKYmIiEoPieY5aNasGfbu3QsfHx8sWLAADg4O+OmnnzB06FD5PrNnz8aLFy8wbtw4pKWloVWrVggICJDPcQAA27Ztw6RJk9ChQwdoaGigf//+WLVqVbFzKD3Pwfnz57FgwQJcv34dmZmZaNKkCXx9fdG5c2dlTqeSeQ7WHgrEr4eDFNZVs66Ifb4jAACjf9qJkEjFB0gNaNUAc4YU3iKSlvkKX/sfQWRcCtJeZMGsgj4+ca6Byb1aooL+2/uLPpS65jlo2bI5pk//Ak2aNICtrTUGDhyLAweOvXXfVasWY+zYzzFr1nz88svvaskn1TwHrVu5YubMCWjSuAHs7GzQb8Ao7N9/VJIsgHTzHGhoaGDu3Bn4bEhfWFtbIT4+EVu27oSf30pJ8kg1z8HcOTMwd+4MhXUREVFo4PyJJHmknudgwnhPzJwxATY2lrhxIxxTp81F8NUwSbKofJ6DG+L93Os6e4h2LnVR+pHNrVu3xvHjx8XMohI1bM3x6+T+8q81NRU/bPu1rI+J3VvIv9bT+eeSaGjI8IlzDXj1bIGKFQzwKDkNfn+fQvpfWVgyspvqw6uQoaEBbt68gy1b/saOHev/c79evTzQvHljxMUV7/aXss7Q0AA3boRjk/9f2L2z/N6W6+09EePGDsOYMdMRfucemjRxxob1PyIjPQOr12ySOp5a3b59F126DpF/XV4fOvfpp72w7Id5mOj1Fa4EX8OUyWNw+NA2ONVvg+Tkp1LHE50glO+ZfpUuDsoKTQ0NWJgY/ud2PR3t/9xubKCHgW0ayr+2MzfGwNYNsfnE1bfuX5YcO3YGx46deec+dnbWWL58Pnr2HIa9e8vHL4SAo6cRcPS01DEk5+7WFAcOHsORgFMAgJiYxxg0sDdcmjWSNpgE8vLykZiYLHUMyU2fOha/bdyOzVv+BgBM9PoK3bp2wMgRg7H0h9USp1OBMvrAJLEoVRxUrFgRMpnsjfUymQx6enpwdHTEiBEjMHLkyA8O+KFik1PR6ev10NHShLODHab0bglbM2P59iPBd3H4yh2YGxuibYPqGNvVFfo62m89V1JaJk5ej0LTmpXVFV8yMpkMGzf+hBUrfsWdO5HvP4A+KoFBIRg9+jPUdHRAZNQDNGhQFy1aNMPsLxdIHU3tHB0d8PDBVWRlZ+NyUCjmzPXDo0dxUsdSK21tbTRp4owlS3+RrxMEASdPXYCbW1MJk5GqKD0gcfHixejatSuaN28OALhy5QoCAgLg5eWFBw8eYMKECcjLy8PYsWPfOD47O/uNqSMLcnKh+x+/lJXVoJoNFgzzQDXrikhJf4F1h4Mwavnf2DVnOAz1dNDVpTbszIxhaVIB954kY+X/LuBhYiqWj+upcJ6vfj+MMzeikZWbh7YNqmPe0E6i5iyNZs4s/P+3enX5aDEgRT/8sBrGRhVw48YZ5OfnQ1NTE77zluKvv/ZJHU2trgRfw5gx03Hv3n3Y2FphzjfTcerkHjRu0gGZmS+kjqc2FhZm0NLSQlJiisL6pKRk1KldQ6JUKibRgMTSQqni4MKFC1i0aBHGjx+vsP7XX3/FsWPHsHv3bjg7O2PVqlVvLQ78/Pwwf/58hXVfD+uOOcN7KBPnP7Wq5yD/d61KlqhfzQbd5m7EsdB76NuiPga0cpZvr1nJApYmhhi3ajceJaehiqWpfJt3/7b4opsbYpJSsep/F7Bs91l8M7iDqFlLk8aN68PLayRatOgudRSSyIABPTF4SF8M95yM8PB7aNjQCct++Bbx8Yn4449dUsdTm6P/6mK6eesOrly5hqjIIAwY0BP+/n9JmIxUrpx3Kyg1FPro0aMKD314rUOHDjh6tHCEZ7du3eTPXCjqbVNJzhqs+tGcxgZ6qGpVEY+S0966vUE1WwB4Y7uFiSEcbMzwiXMNzB3SETvP30ByevGfi13WtGzZHFZWFrh3LxDPn0fj+fNo2NtXwZIlc3D3rnhPKqPSy8/vGyz7YQ127tyP27fvYvv2PVj182+YPctL6miSSk/PQGTkfTjWqCZ1FLVKSXmGvLw8WFlbKKy3srJEwsc6HkPEBy+VRUoVB2ZmZjhw4MAb6w8cOAAzMzMAwIsXL2BkZPTW4986laTIXQpv8zIrB49T0mBh/PYBiHcfF043+a4BjK9vJcrJK5v/w4tj+/Y9aNbMA66uXeVLXFwCVqz4FT17Dpc6HqmBgb4+Coo0q+bn50OjnD9C2tDQANWrV0N8QtL7d/6I5ObmIjT0Btq3++fRwzKZDO3btUJQUMg7jqSySqluhblz52LChAk4ffq0fMxBcHAwDh8+LH84xPHjx9G2bVvxkiph+Z5zaNOgOmzNjJCc/gJrDwVCU0MDXVxq41FyGo5cvYtW9RxgYqiHyCcpWLb7LJo6VkKtSpYAgPO3HuDp85eob28NfV1tRMc/xU97z6NRdTtUMjeR9L19KENDA9T4118/1apVgbOzE1JT0/DoURyePUtT2D83NxeJicmIjHx7a9DHwtDQAI6O/3RHOVSrioYN6+HZs9RyNQjt0OET+PLLyXj06AnC79xDw4b1MXXKWGzevEPqaGq1ZMkcHDp0ArGxj2Fraw1f35nIz8/Hjh37pI6mditWbsCmjSsQEnoDwcHXMGXyWBga6sP/Y/2eKOfdCkoVB2PHjoWTkxN++eUX7NmzBwBQu3ZtnD17Fi1aFM4ZMHPmTPFSKikx7Tl8Nh1G2ossVKygj8Y17LDFezDMjAyQk5ePy3djse30NbzKzoV1RSN0aOSIsV3+mXdaT0cLey7exLLdZ5Gbl1e4T0NHjOzcTMJ3JY4mTZxx7Ng/P9RLl/oCALZu3Ylx47yliiU5l6YNcfLEP33qPy77FgCwecvfGD1mukSp1G/69Ln4dp43Vq5aDCtLC8THJ+K3jduwePFPUkdTq8qVbLF1yy8wN6+I5ORnuHTpClq36YWUlGdSR1O7nTv3w9LCDN/6esPGxhLXr99G9x6fIykp5f0Hl0XlfECi0jMkik0VMySWReqaIbG0k2qGxNJGqhkSS5tS8jElOalnSCxNVD1DYlaQeC0iem6DRDuXuig9CVJBQQGioqKQlJT0Rt9kmzZtPjgYERGRZNitUHJBQUH47LPPEBMT80ZFL5PJkJ//8Q7WIyKicqCcdysoVRyMHz8eLi4uOHToEGxtbd86WyIRERGVTUoVB5GRkdi1axccHR3FzkNERCS9ct5yoNRoJ1dXV0RFRYmdhYiIqFQQhHzRlrJIqZaDyZMnY+bMmUhISECDBg2gra04gZGzs/N/HElERESlnVLFQf/+/QEAo0aNemMbByQSEVGZV867FZQqDh48eCB2DiIiotKDtzKWnL29PQAgPDwcsbGxyMnJkW+TyWTy7URERGUSWw5K7v79++jbty9u3rwJmUwmn+vg9S2N7FYgIiIqu5S6W2Hq1KlwcHBAUlISDAwMcOvWLZw7dw4uLi44c+aMyBGJiIjUTCgQbymDlGo5CAwMxKlTp2BhYQENDQ1oamqiVatW8PPzw5QpU3Dt2jWxcxIREalPOe9WUKrlID8/H0ZGRgAACwsLxMUVPsrW3t4eERER4qUjIiIitVOq5aB+/fq4fv06HBwc4OrqiqVLl0JHRwfr169H9erVxc5IRESkXmW0O0AsShUHc+bMwYsXLwAACxYsQI8ePdC6dWuYm5tjxw7xHnNJREQkiXLeraBUceDh4SH/t6OjI+7evYtnz56hYsWKfAgTERFRGadUcfA2ZmZmYp2KiIhIWmw5ICIiIgXlfMyBUncrEBER0ceLLQdERERFsVuBiIiIFJTzbgUWB0REREWV85YDjjkgIiIiBWw5ICIiKordCkRERKSgnHcrlJriwLjbQqkjlAov485LHaFUcKzdR+oIpcKT50+ljkCliAZnoCU1KTXFARERUanBlgMiIiJSIAhSJ5AU71YgIiIiBWw5ICIiKordCkRERKSgnBcH7FYgIiIiBWw5ICIiKoqTIBEREZGCct6twOKAiIioKN7KSERERPQPthwQEREVxW4FIiIiUlDOiwN2KxAREZUS3377LWQymcJSp04d+fasrCx4eXnB3NwcFSpUQP/+/ZGYmKhwjtjYWHTv3h0GBgawsrLCrFmzkJeXV6IcbDkgIiIqSsJbGevVq4cTJ07Iv9bS+udX9fTp03Ho0CHs3LkTJiYmmDRpEvr164eLFy8CAPLz89G9e3fY2Njg0qVLiI+Px/Dhw6GtrY3vvvuu2BlYHBARERUhFEh3t4KWlhZsbGzeWJ+eno6NGzdi+/btaN++PQBg06ZNqFu3LoKCguDm5oZjx44hPDwcJ06cgLW1NRo1aoSFCxfiyy+/xLfffgsdHZ1iZWC3AhERkQplZ2cjIyNDYcnOzv7P/SMjI2FnZ4fq1atj6NChiI2NBQCEhIQgNzcXHTt2lO9bp04dVK1aFYGBgQCAwMBANGjQANbW1vJ9PDw8kJGRgdu3bxc7M4sDIiKiogoKRFv8/PxgYmKisPj5+b31ZV1dXeHv74+AgACsXbsWDx48QOvWrfH8+XMkJCRAR0cHpqamCsdYW1sjISEBAJCQkKBQGLze/npbcbFbgYiIqCgRxxz4+PhgxowZCut0dXXfum/Xrl3l/3Z2doarqyvs7e3x999/Q19fX7RM71OiloPc3FzUqFEDd+7cUVUeIiKij4quri6MjY0Vlv8qDooyNTVFrVq1EBUVBRsbG+Tk5CAtLU1hn8TERPkYBRsbmzfuXnj99dvGMfyXEhUH2trayMrKKskhREREZU+BIN7yATIzMxEdHQ1bW1s0bdoU2traOHnypHx7REQEYmNj4e7uDgBwd3fHzZs3kZSUJN/n+PHjMDY2hpOTU7Fft8RjDry8vPD999+X+J5JIiKiMkPEMQcl4e3tjbNnz+Lhw4e4dOkS+vbtC01NTQwZMgQmJiYYPXo0ZsyYgdOnTyMkJAQjR46Eu7s73NzcAACdO3eGk5MThg0bhuvXr+Po0aOYM2cOvLy8it1aASgx5iA4OBgnT57EsWPH0KBBAxgaGips37NnT0lPSUREVLpINEPi48ePMWTIEDx9+hSWlpZo1aoVgoKCYGlpCQBYsWIFNDQ00L9/f2RnZ8PDwwNr1qyRH6+pqYmDBw9iwoQJcHd3h6GhITw9PbFgwYIS5ZAJQskePTVy5Mh3bt+0aVOJArymrVNJqeM+Ni/jzksdoVRwrN1H6gilwpPnT6WOQKWIhkwmdYRSIyf7sUrP/3LleNHOZTB1nWjnUpcStxwo+8ufiIiozOAjm+m1WbO8kJvzBD8umy91FNElJqfgy/lL0bLrQDRt1xt9h03ArTv35NtXb/wDPYeMRbMOfdCiy6cYM9UHN27ffeu5cnJy0N/TC/VbdsXde9HqeguimzZ7AmKe3lBYTgb9T75dV1cHC5d+jbDIcwiPCcI6/+WwsDSTMLH6TRjviah7QcjMiMalCwfQzKWR1JEkUd6vw72IQORkP35jWblykdTRVEeiMQelhVLzHOzatQt///03YmNjkZOTo7AtNDRUlGDq5tK0IcaO+Rw3boRLHUV06RnPMWz8TDRv0hDrflyIiqYmiHn0BMZGFeT7VKtSCV/PmIjKdjbIzs7Blh17MW76Nzi8YyPMKpoqnO/HNb/DysIMEVH31fxOxBdxJwpD+42Vf52Xly//99zFs9G+U2tMHOWNjIznWPj91/h18wr07+YpRVS1+/TTXlj2wzxM9PoKV4KvYcrkMTh8aBuc6rdBcnL56e7gdQBatOwOTU1N+df16tVGwJG/sHv3IQlTkSqVuOVg1apVGDlyJKytrXHt2jU0b94c5ubmuH//vsLkDWWJoaEBNm/5BeMnzEZqaprUcUT3+7adsLGyxKJvZqCBU21UtrNBS9emqFrZTr5P987t4N6sMapUsoVjdXvMnjIWmS9e4l70A4VznQ8MxqUrofCeNEbdb0Ml8vLykJz0VL6kPksDABgZVcCgoX2xaM4yXDp/Bbeu34H35LlwcW2Mxi7O0oZWk+lTx+K3jduxecvfuHMnEhO9vsLLl68wcsRgqaOpFa8DkJLyDImJyfKlW7eOiIp+iHPnAqWOpjql5FZGqZS4OFizZg3Wr1+Pn3/+GTo6Opg9ezaOHz+OKVOmID09XRUZVe7nVd/hyOGTOHXq4xwMePpCEOrVqYkZcxajTffBGDDCC7v2H/nP/XNzc7Hzf0dgVMEQtR2ry9enPEvFt9+vhN9cb+jp6akjuso5VLfHldsncD7kMFau84NdpcJJQho0coKOjjYunA2S7xsd+RCPH8WhSTkoDrS1tdGkiTNO/utnQhAEnDx1AW5uTSVMpl68Dm/S1tbGZ0P6YbP/X1JHUS2hQLylDCpxt0JsbCxatGgBANDX18fz588BAMOGDYObmxt++eUXcROq2MCBvdC4cX24uXeXOorKPI5LwI59hzB8UD+MHT4It+7cg9+KddDW0kLvbp3k+525eBmz5i1BVlY2LM3NsP6nxahoagKg8ANxzuLlGNinO+rXrYUn8Yn/9XJlRljITcycNAf3ox7CytoS02aPx85D/ujcqh8srSyQnZ2DjIznCsekJD+FpbWFRInVx8LCDFpaWkhKTFFYn5SUjDq1a0iUSv14Hd7Uu5cHTE2NsWXrTqmjkAqVuDiwsbHBs2fPYG9vj6pVqyIoKAgNGzbEgwcPUNy7IrOzs994IpUgCJCp+TadypXtsPzHBejabcg7n5BV1hUUCKhXpyamjR8BAKhbyxGR92Pw977DCsVB8yYNsdt/NVLT0rHrQAC85/ph+4afYF7RFNt27ceLly8xZthAid6F+M6cvCD/993wSISF3MTF6wHo0dsDWVkf7/cD0YcYMXIwjh49jfiP4A+Edyqj3QFiKXG3Qvv27bF//34AhXMeTJ8+HZ06dcKgQYPQt2/fYp3jbU+oKih4/v4DRdakSQNYW1viyuUAvHoZg1cvY9C2bQtMmjQKr17GQEPj47iZw9LcDDWqVVVYV71aFcQnJiusM9DXQ9XKdmhYvy4W+kyHpqYm9hw4CgC4EnId12/dRZN2vdCwTXd0GzQKADBozBR8vXCZet6IimVkPMeD6BjYV6+C5KQU6OrqwNjYSGEfC0tzJBf5K/JjlJLyDHl5ebAq0kpiZWWJhCLfNx8zXgdFVatWQof2rfH7pj+ljqJyQkGBaEtZVOKWg/Xr16Pg/9+sl5cXzM3NcenSJfTq1QtffPFFsc7xtidUmZnXKWmUD3bq1AU0atxeYd1vG5YjIiIaPyxbLX+fZV1jZyc8jFWcMCQm9glsbazeeVxBQQFycnMBAD7TxmPyuOHybUnJT/HFjDlYNt8HDerVFj+0BAwM9WFfrQr2/H0QN8PCkZOTi5ZtXXHkwAkAQHXHaqhcxQ6hV29InFT1cnNzERp6A+3btcL+/YUFokwmQ/t2rbBmbfmZ64TXQZHn8EFISkrB4cMn378zlWklLg40NDQU/qIePHgwBg8u2ahdXV3dN+Z4VneXAgBkZr7A7dsRCutevHiJp09T31hflg0b1AfDvpiJ9Zv/QpcObXAzPAK79h/BvNlTAAAvX2Vh/ea/0K6VKywtzJCaloE/9xxAUspTeLRrDQBvFBIG///o0CqVbGFjZaneNySSb+bPxImjZ/DkUTysbSwx/auJyM/Px/7dR/D8eSZ2bNuLOQu9kZaajufPM7FgiQ9CroThWjkoDgBgxcoN2LRxBUJCbyA4+BqmTB4LQ0N9+G/eIXU0teJ1KCSTyTB8+ED88ccu5Ofnv/+Asq6cdysoNc/B+fPn8euvvyI6Ohq7du1CpUqVsHXrVjg4OKBVq1ZiZ6QP1KBubfzkNxcr1/ljnf92VLK1wZdTv0APj8JWE00NDTyIeYT9R04gNT0dpsbGqF+3Fjav+QGO1e0lTq86NnZW+HnD9zCtaIpnT1MRHBSKPh6f49nTVADAwm+WQigowDr/5dDR0cG50xcxZ9ZiiVOrz86d+2FpYYZvfb1hY2OJ69dvo3uPz5GU9PF3q/wbr0OhDh1aw96+Mvw3f+R3KbxWRu8yEEuJn62we/duDBs2DEOHDsXWrVsRHh6O6tWr45dffsHhw4dx+PBhpYLw2QqF+GyFQny2QiE+W4H+jc9W+Ieqn63wYsFQ0c5l6LtNtHOpS4lH3C1atAjr1q3Dhg0boK2tLV/fsmXLMjs7IhEREf2jxN0KERERaNOmzRvrTUxMkJaWJkYmIiIiaX0kA9KVVeKWAxsbG0RFRb2x/sKFC6hevfpbjiAiIipjOH1yyYwdOxZTp07F5cuXIZPJEBcXh23btsHb2xsTJkxQRUYiIiJSo2J1K9y4cQP169eHhoYGfHx8UFBQgA4dOuDly5do06YNdHV14e3tjcmTJ6s6LxERkeqV87sVilUcNG7cGPHx8bCyskL16tURHByMWbNmISoqCpmZmXByckKFChXefyIiIqKyoIx2B4ilWMWBqakpHjx4ACsrKzx8+BAFBQXQ0dGBk5OTqvMRERGRmhWrOOjfvz/atm0LW1tbyGQyuLi4QFNT86373r9/X9SARERE6lZWn4kglmIVB+vXr0e/fv0QFRWFKVOmYOzYsTAyMnr/gURERGURuxWKp0uXLgCAkJAQTJ06lcUBERHRR6rEkyBt2lT+nkRGRETlDFsOiIiISAFvZSQiIiIF5bzloMQzJBIREdHHjS0HRERERQjlvOWAxQEREVFR5bw4YLcCERERKWDLARERUVGcIZGIiIgUsFuBiIiI6B9sOSAiIiqqnLccsDggIiIqQhDKd3HAbgUiIiJSwJYDIiKiotitQERERApYHBAREdG/cfpkKlUMK7WROkKpMMCmmdQRSoWdz59KHaFUKN8f0/8oKOeD5Eh9WBwQEREVxZYDIiIiUlC+Z0/mrYxERESkiC0HRERERXBAIhERESkq58UBuxWIiIhIAVsOiIiIiirnAxJZHBARERVR3sccsFuBiIioFFqyZAlkMhmmTZsmX5eVlQUvLy+Ym5ujQoUK6N+/PxITExWOi42NRffu3WFgYAArKyvMmjULeXl5JXptFgdERERFFYi4KCE4OBi//vornJ2dFdZPnz4dBw4cwM6dO3H27FnExcWhX79+8u35+fno3r07cnJycOnSJWzevBn+/v7w9fUt0euzOCAiIipCKBBEW0oqMzMTQ4cOxYYNG1CxYkX5+vT0dGzcuBHLly9H+/bt0bRpU2zatAmXLl1CUFAQAODYsWMIDw/HH3/8gUaNGqFr165YuHAhVq9ejZycnGJnYHFARERUlIgtB9nZ2cjIyFBYsrOz//Olvby80L17d3Ts2FFhfUhICHJzcxXW16lTB1WrVkVgYCAAIDAwEA0aNIC1tbV8Hw8PD2RkZOD27dvFfvssDoiIiFTIz88PJiYmCoufn99b9/3rr78QGhr61u0JCQnQ0dGBqampwnpra2skJCTI9/l3YfB6++ttxcW7FYiIiIoQRLyV0cfHBzNmzFBYp6ur+8Z+jx49wtSpU3H8+HHo6emJF0AJbDkgIiIqSsRuBV1dXRgbGyssbysOQkJCkJSUhCZNmkBLSwtaWlo4e/YsVq1aBS0tLVhbWyMnJwdpaWkKxyUmJsLGxgYAYGNj88bdC6+/fr1PcbA4ICIiKgU6dOiAmzdvIiwsTL64uLhg6NCh8n9ra2vj5MmT8mMiIiIQGxsLd3d3AIC7uztu3ryJpKQk+T7Hjx+HsbExnJycip2F3QpERERFiNmtUFxGRkaoX7++wjpDQ0OYm5vL148ePRozZsyAmZkZjI2NMXnyZLi7u8PNzQ0A0LlzZzg5OWHYsGFYunQpEhISMGfOHHh5eb21teK/sDggIiIqqpROn7xixQpoaGigf//+yM7OhoeHB9asWSPfrqmpiYMHD2LChAlwd3eHoaEhPD09sWDBghK9jkwQhFIxR6S2TiWpI5QKMplM6gilwgCbZlJHKBV2xl+ROkKpUCo+pKhUyct5otLzp3i0Fe1cFkfPinYudWHLARERURFSdCuUJiUekHj//n1V5CAiIio1hALxlrKoxMWBo6Mj2rVrhz/++ANZWVmqyERERCQpFgclFBoaCmdnZ8yYMQM2Njb44osvcOUK+0WJiIg+FiUuDho1aoSVK1ciLi4Ov//+O+Lj49GqVSvUr18fy5cvR3JysipyEhERqY8gE28pg5SeBElLSwv9+vXDzp078f333yMqKgre3t6oUqUKhg8fjvj4eDFzqsQX44YjNOQ4nqbcxdOUuzh/bj88PNpJHUsSc+fMQE72Y4Xl5o0zUscSVZ3mTvDe+DVWX9mI7TF74dK5+X/uO2rxeGyP2Ysuo3rI19V1q4ftMXvfulR3dlTHW5DMrFleyM15gh+XzZc6iiQmjPdE1L0gZGZE49KFA2jm0kjqSJIoT9eB3QpKunr1KiZOnAhbW1ssX74c3t7eiI6OxvHjxxEXF4fevXuLmVMlHj+Jx9ff+MHVrSvc3Lvh9JmL2LP7dzg51ZI6miRu376LKlUby5dP2vWVOpKodA30EHPnITbNXf/O/Vw8XOHYuBaeJTxVWH8vJAITXEYqLKf+PI6k2ATcvxGlyuiScmnaEGPHfI4bN8KljiKJTz/thWU/zMPCRcvRzLULrt8Ix+FD22BpaS51NLXidShfSlwcLF++HA0aNECLFi0QFxeHLVu2ICYmBosWLYKDgwNat24Nf39/hIaGqiKvqA4dOo6AgFOIinqAyMj78PX9HpmZL+DavInU0SSRl5ePxMRk+fL0aarUkUR1/Uwodi7bjqtHL//nPhWtzeA5fwxWT12B/Nx8hW35uXlIT06TL5mpz9G0U3Oc3XlK1dElY2hogM1bfsH4CbORmpomdRxJTJ86Fr9t3I7NW/7GnTuRmOj1FV6+fIWRIwZLHU2tytt1EApkoi1lUYmLg7Vr1+Kzzz5DTEwM9u3bhx49ekBDQ/E0VlZW2Lhxo2gh1UFDQwMDB/aCoaEBgi6HSB1HEo6ODnj44Cru3r2Izf4/o0oVO6kjqZVMJsPEn6bh0K//w5PIR+/dv0mnZjCqWAFn//54i4OfV32HI4dP4tSp81JHkYS2tjaaNHHGyX+9f0EQcPLUBbi5NZUwmXqVx+tQ3rsVSjwJUmRk5Hv30dHRgaenp1KB1K1+/To4f24/9PR0kZn5AgM+HYM7d97/Hj82V4KvYcyY6bh37z5sbK0w55vpOHVyDxo36YDMzBdSx1OLnhP6Ij8vHwGbDhZr/3aDOuLGubA3uh8+FgMH9kLjxvXh5t5d6iiSsbAwg5aWFpISUxTWJyUlo07tGhKlUj9eh/JHqRkS09LSsHHjRty5cwcAUK9ePYwaNQomJibFOj47OxvZ2dkK6wRBkGTq4IiIaLg06wwTYyP0698dv2/8CR069i93BcLRo6fl/7556w6uXLmGqMggDBjQE/7+f0mYTD0c6ldHl5E98HX3mcXa38zGHM5tGmGl1zIVJ5NG5cp2WP7jAnTtNuSNn1Wi8kAoo3cZiKXE3QpXr15FjRo1sGLFCjx79gzPnj3D8uXLUaNGjWKPM/Dz84OJiYnCUlDwvMThxZCbm4vo6IcIvXYTc+YswY0b4Zg8aYwkWUqT9PQMREbeh2ONalJHUYvazZ1gbGGCnwM3YGv0LmyN3gXLKlb4fM4IrLzw6xv7tx3YHs9TMxF6PFiCtKrXpEkDWFtb4srlALx6GYNXL2PQtm0LTJo0Cq9exrzRlfixSkl5hry8PFhZWyist7KyREJi+bltuzxeB3YrlND06dPRq1cvbNiwAVpahYfn5eVhzJgxmDZtGs6dO/fec/j4+GDGjBkK68zM65Q0ikpoaGhAV1dH6hiSMzQ0QPXq1bBt+x6po6jFhT1ncevCDYV1X231xYU9Z3F258k39m/7aXuc33Ma+Xn5b2z7GJw6dQGNGrdXWPfbhuWIiIjGD8tWo6CgjH7ilVBubi5CQ2+gfbtW2L//KIDCsSnt27XCmrWbJE6nPrwO5U+Ji4OrV68qFAZA4ZwHs2fPhouLS7HOoaur+8ZzpaXoUli06CsEBJzGo0dPYGRUAYMH90Hbtu7o1v0ztWeR2pIlc3Do0AnExj6Gra01fH1nIj8/Hzt27JM6mmh0DfRgU81G/rVlFWvYO1VDZlomnsalIDNNsfUqPzcfacmpiL8fp7C+XssGsKpqgzN/nVBLbilkZr7A7dsRCutevHiJp09T31j/sVuxcgM2bVyBkNAbCA6+himTx8LQUB/+m3dIHU2tytt1KKt3GYilxMWBsbExYmNjUaeO4l/6jx49gpGRkWjB1MHK0gKbfl8JW1srpKc/x82bd9Ct+2c4ebL8jcyuXMkWW7f8AnPzikhOfoZLl66gdZteSEl5JnU00VR3roG5OxbJvx7mOwoAcHbnKfzq/XOxz/PJoI6IuHoHcdGqfWQslQ47d+6HpYUZvvX1ho2NJa5fv43uPT5HUlLK+w/+iJS36yCU8+eEywShZJdgypQp2Lt3L5YtW4YWLVoAAC5evIhZs2ahf//++Omnn5QKoq1TSanjPjZStKCURgNsmkkdoVTYGc/nlgBAOf+cprfIy1FtcR7TpKNo57IPLXutjCVuOVi2bBlkMhmGDx+OvLw8CIIAHR0dTJgwAUuWLFFFRiIiIlKjEhcHOjo6WLlyJfz8/BAdHQ0AqFGjBgwMDEQPR0REJAWOOSiGfv36wd/fH8bGxujXr987961QoQLq1auH8ePHF3veAyIiotKkvI85KFZxYGJiIu8Lf98v/OzsbKxbtw4XL17E/v37PzwhERERqVWxioNNmza99d//JTw8HM2acUAZERGVTexWUIHatWvj0qVLqjg1ERGRynH6ZBXQ1NREw4YNVXFqIiIiUjGVtBwQERGVZWX1mQhiYXFARERURAG7FYiIiIj+wZYDIiKiIsr7gEQWB0REREXwVkYiIiJSUN5nSOSYAyIiIlLAlgMiIqIi2K1ARERECngrIxEREdG/sOWAiIioCN7KSERERAp4twIRERHRv7DlgIiIqIjyPiCRxQEREVER5X3MAbsViIiISAFbDoiIiIoo7wMSWRwQEREVwTEHpYS+tq7UEUqFrLwcqSOUCjvjr0gdoVRYY9VO6gilwoSk01JHoHKGYw6IiIiI/qXUtBwQERGVFuxWICIiIgXlfDwiuxWIiIhIEVsOiIiIiijv3QpsOSAiIipCEGSiLSWxdu1aODs7w9jYGMbGxnB3d8eRI0fk27OysuDl5QVzc3NUqFAB/fv3R2JiosI5YmNj0b17dxgYGMDKygqzZs1CXl5eiXKwOCAiIiolKleujCVLliAkJARXr15F+/bt0bt3b9y+fRsAMH36dBw4cAA7d+7E2bNnERcXh379+smPz8/PR/fu3ZGTk4NLly5h8+bN8Pf3h6+vb4lyyAShdMwDZWxYXeoIpQLnOShUSr4tJcd5DgpxngMqKi/niUrPf95mgGjnap2w64OONzMzww8//IABAwbA0tIS27dvx4ABhfnu3r2LunXrIjAwEG5ubjhy5Ah69OiBuLg4WFtbAwDWrVuHL7/8EsnJydDR0SnWa7LlgIiIqAgBMtGW7OxsZGRkKCzZ2dnvzZCfn4+//voLL168gLu7O0JCQpCbm4uOHTvK96lTpw6qVq2KwMBAAEBgYCAaNGggLwwAwMPDAxkZGfLWh+JgcUBERKRCfn5+MDExUVj8/Pz+c/+bN2+iQoUK0NXVxfjx47F37144OTkhISEBOjo6MDU1Vdjf2toaCQkJAICEhASFwuD19tfbiot3KxARERVRIGLPpo+PD2bMmKGwTlf3vx8ZULt2bYSFhSE9PR27du2Cp6cnzp49K16gYmBxQEREVEQBxLuVUVdX953FQFE6OjpwdHQEADRt2hTBwcFYuXIlBg0ahJycHKSlpSm0HiQmJsLGxgYAYGNjgytXFJ9N8/puhtf7FAe7FYiIiIoQc8zBhyooKEB2djaaNm0KbW1tnDx5Ur4tIiICsbGxcHd3BwC4u7vj5s2bSEpKku9z/PhxGBsbw8nJqdivyZYDIiKiUsLHxwddu3ZF1apV8fz5c2zfvh1nzpzB0aNHYWJigtGjR2PGjBkwMzODsbExJk+eDHd3d7i5uQEAOnfuDCcnJwwbNgxLly5FQkIC5syZAy8vrxK1XrA4ICIiKqJAotdNSkrC8OHDER8fDxMTEzg7O+Po0aPo1KkTAGDFihXQ0NBA//79kZ2dDQ8PD6xZs0Z+vKamJg4ePIgJEybA3d0dhoaG8PT0xIIFC0qUg/MclDKc56BQKfm2lBznOSjEeQ6oKFXPc3DMerBo5+qc+Jdo51IXjjkgIiIiBexWICIiKkKqboXSgsUBERFREeW9OFC6WyEvLw8nTpzAr7/+iufPnwMA4uLikJmZKVo4IiIiUj+lWg5iYmLQpUsXxMbGIjs7G506dYKRkRG+//57ZGdnY926dWLnJCIiUhsx5icoy5RqOZg6dSpcXFyQmpoKfX19+fq+ffsqTM5ARERUFhXIxFvKIqVaDs6fP49Lly698ejHatWq4ckT1d5eQkRERKqlVHFQUFCA/Pz8N9Y/fvwYRkZGHxyKiIhISmI+W6EsUqpboXPnzvjpp5/kX8tkMmRmZmLevHno1q2bWNmIiIgkIYi4lEVKFQc//vgjLl68CCcnJ2RlZeGzzz6Tdyl8//33YmcUzQzvCThzbh+eJNxA9MMr2P7XOjjWdFDYR1dXBz8un4+HsSGIS7yJrdvWwNLKQqLE6mNnZwP/TasQH3cT6WlRCA05gSZNnKWOpXZfjBuO0JDjeJpyF09T7uL8uf3w8Pi4Zils6NUTfQ4ugOfdDfg8bDU6/TYNJtVt/3P/LltnYezjP2Dv0fSt23VNK2BI8CqMffwHdIwNVBVbEl/OnoTAS4eQ+jQCcY+vY/eujahVq4bUsSQzYbwnou4FITMjGpcuHEAzl0ZSR1KZAhGXskip4qBy5cq4fv06vv76a0yfPh2NGzfGkiVLcO3aNVhZWYmdUTStWjXH+vVb0aFdf/TuORza2trYt38LDAz+GVTp9/1cdOnWAcOHTUI3jyGwtbXCtu1r3nHWss/U1ARnTu9Fbm4uevYahoaN2mH2lwuQlpYudTS1e/wkHl9/4wdXt65wc++G02cuYs/u3+HkVEvqaKKxda+L25uPY3+vb3F4yPfQ0NZC1+1fQkv/zYey1B/T5b1TWbdZNgbP7sSqKq6k2rR2w9q1m9GydU906TYE2lraOHJou8JnRnnx6ae9sOyHeVi4aDmauXbB9RvhOHxoGywtzaWORiqg1LMVsrKyoKenJ2oQKZ6tYG5hhgcxV9Gl8yBcuhgMY2Mj3I8JxuiR0/G/fUcAADVrVUfItRPo8Ek/BAeHqTyTFM9WWLzIB+7uLmjfob/aX/u/lKZnKyQm3MJXXy3CJn/1z4+ujmcr6JkZYdiNtTjQfyESLkfI15s5VYXHZm/s6zYXn19bjWOjVyDmaIjCsXWHdUD1Xm64tmIvuv/9NTY7jUNOxkvRM5aWZytYWJghIe4m2rXvh/MXLksdR60uXTiA4KvXMXXaHACF3ckP7wdj9ZpNWPrDarXnUfWzFXbZDhXtXAPit4l2LnVRquXAysoKnp6eOH78OAoKymqjCWBiXDh4MjW18C/kRo3rQ0dHB2dOX5DvE3nvPmJjn6C5axNJMqpDjx6dEBJ6A39uX4fHj8Jw5XIARo36TOpYktPQ0MDAgb1gaGiAoMsh7z+gjHrdFZCd9kK+TlNPB+1/8cKlb/zxKvntLUimNe3QZFpfnJm6rlQVc6pkYmIMAHiWmiZtEDXT1tZGkybOOHnqvHydIAg4eeoC3Nze3t1U1nHMgRI2b96Mly9fonfv3qhUqRKmTZuGq1evFvv47OxsZGRkKCzq/nCRyWRYsnQuAi9dxZ3wewAAa2tLZGdnIz39ucK+yUkpsLK2VGs+dXJwqIovxg1DVNQD9OgxFL+u34oVyxdg2OcDpI4mifr16yD12T28yHyA1b8swYBPx+DOnUipY6mGTAb3bz9HwpUIpEY8lq92//ZzJIZEIuZY6FsP09DRQvvVXri8+E+8iHuqrrSSkslkWL5sPi5evILbtyPef8BHxMLCDFpaWkhKTFFYn5SUDJuP+LOxPFOqOOjbty927tyJxMREfPfddwgPD4ebmxtq1apVrGdG+/n5wcTERGHJyU1TJorSflyxAHWdamGk5xS1vm5ppKGhgWvXbmGu7/cIu34bGzduw8bft2Ps2GFSR5NEREQ0XJp1RsuWPfDr+i34feNPqFu3ptSxVKLlYk9UrF0Zp7z+aRau2qkJ7Fo6IXDe1v88rvlXg5AWGYeoPRfVEbNU+HnVd6hXrzY++3yi1FFIDTgg8QMYGRlh5MiROHbsGG7cuAFDQ0PMnz//vcf5+PggPT1dYdHRNv2QKCWy7Mdv0aVrO/To+hni4hLk6xMTk6GrqwsTE8W5GiytLJCUmKy2fOoWH5/0xl/Gd+9GokqVShIlklZubi6iox8i9NpNzJmzBDduhGPypDFSxxJdi0XDUbVjYxwa+B1exD+Tr7dr6QRjeyt4hq/H6IebMfrhZgBAx/VT0X3nN/J9HHq4yrd3+8sHADDsxlo0mdlP/W9GxVb+tAjdu3VEx86f4smTeKnjqF1KyjPk5eXBylrxzi0rK0skfKSfjZwh8QNkZWVh//792L59OwICAmBtbY1Zs2a99zhdXV3o6iqOjJbJ1HMFl/34LXr06ozuXT5DTMxjhW1h124hJycHbT9pif3/CwAAONZ0QNWqlXDl8tubVz8GgYFXUauW4oDQmjWrIzb28X8cUb5oaGhAV1fn/TuWIS0WDUe1Li44+OliPH+k+OF+ffUBRPx5RmHdgJNLEDT/D8QevwYAOD5uJbT0/rkmlg2ro+3ycTjQbyEyYpJUnl+dVv60CH16d0GHTp/i4cNHUseRRG5uLkJDb6B9u1bYv/8ogMLP7PbtWmHN2k0SpyNVUKo4OHr0KLZv3459+/ZBS0sLAwYMwLFjx9CmTRux84lq+YoFGDCwF4YMGofnmZnyKjgj/TmysrKRkfEcWzbvxHdLvkFqahqeZ2Tihx/n4XJQiFruVJDKylUbcO7sPnw5exJ27T6IZi6NMGb0UEyc+KXU0dRu0aKvEBBwGo8ePYGRUQUMHtwHbdu6o1v3j2eAZsvFI1CjjzuOjV6B3Mws6FuaAABynr9EflYuXiWnv3UQYuaTp/JC4nmRAkDPrLC1LS0qTiV3K0jl51XfYcjgPujXfxSeP8+E9f/3r6enP0dWVpbE6dRrxcoN2LRxBUJCbyA4+BqmTB4LQ0N9+G/eIXU0lSjvMyQqVRz07dsXPXr0wJYtW9CtWzdoa2uLnUslxoz7HABw5KjiLWnjv5iF7X/sBgD4fLkQQkEB/ti2Bjq6Ojh54jxmTJ+r9qzqFBJyHZ8OHINFC33wzTfT8PDhI8z0/hZ//rVX6mhqZ2VpgU2/r4StrRXS05/j5s076Nb9M5w8ef79B5cRTp4dAQA9d81RWH9m+q+I3PnxvE8xTBjvCQA4dXK3wvpRo6djy9a/pYgkmZ0798PSwgzf+nrDxsYS16/fRvcenyMpKeX9B5dBZfUuA7EoNc/B8+fPRX+GghTzHJRGUsxzUBqVl1vj3kcd8xyUBaVlngMqPVQ9z8Efdp+Ldq7P4/4Q7VzqolTLgZGREfLz87Fv3z7cuXMHAODk5ITevXtDU1NT1IBERETqVlYHEopFqeIgKioK3bp1w5MnT1C7dm0AhbcnVqlSBYcOHUKNGuV37nEiIir7yuotiGJR6lbGKVOmoEaNGnj06BFCQ0MRGhqK2NhYODg4YMoUzhtARERlW3mfIVGploOzZ88iKCgIZmZm8nXm5uZYsmQJWrZsKVo4IiIiUj+ligNdXV08f/78jfWZmZnQ0fm47gcnIqLyp7yPOVCqW6FHjx4YN24cLl++DEEQIAgCgoKCMH78ePTq1UvsjERERGrF6ZOVsGrVKtSoUQPu7u7Q09ODnp4eWrRoAUdHR/z0008iRyQiIiJ1UqpbwdTUFP/73/8QFRUlv5Wxbt26cHR0FDUcERGRFMrqX/xiKXZxMGPGjHduP336n0lKli9frnwiIiIiiQnlfMxBsYuDa9euFWs/dT1AiYiIiFSj2MXBv1sGiIiIPmbsViAiIiIF5b04UOpuBSIiIvp4seWAiIioiLI67bFYWBwQEREVUd5nSGRxQEREVATHHBARERH9C1sOiIiIiijvLQcsDoiIiIoo7wMS2a1ARERECthyQEREVATvViAiIiIF5X3MAbsViIiISAFbDoiIiIoo7wMSWRwQEREVUVDOy4NSUxzk5OdJHaFUEITy/Q35Gq9Cockp56SOUCpMs2sjdYRS4ZeEi1JHoHKi1BQHREREpUV5H5DI4oCIiKiI8t56ybsViIiIiigQcSkJPz8/NGvWDEZGRrCyskKfPn0QERGhsE9WVha8vLxgbm6OChUqoH///khMTFTYJzY2Ft27d4eBgQGsrKwwa9Ys5OUVv/uexQEREVEpcfbsWXh5eSEoKAjHjx9Hbm4uOnfujBcvXsj3mT59Og4cOICdO3fi7NmziIuLQ79+/eTb8/Pz0b17d+Tk5ODSpUvYvHkz/P394evrW+wcMkGJEXCvXr2CIAgwMDAAAMTExGDv3r1wcnJC586dS3o6AICeXlWljvvY5BfkSx2hVCjvTXqvaWloSh2hVJhk01LqCKUCByT+IysrVqXn9602VLRzLXi4Teljk5OTYWVlhbNnz6JNmzZIT0+HpaUltm/fjgEDBgAA7t69i7p16yIwMBBubm44cuQIevTogbi4OFhbWwMA1q1bhy+//BLJycnQ0dF57+sq1XLQu3dvbNmyBQCQlpYGV1dX/Pjjj+jduzfWrl2rzCmJiIhKjQIIoi3Z2dnIyMhQWLKzs4uVIz09HQBgZmYGAAgJCUFubi46duwo36dOnTqoWrUqAgMDAQCBgYFo0KCBvDAAAA8PD2RkZOD27dvFel2lioPQ0FC0bt0aALBr1y5YW1sjJiYGW7ZswapVq5Q5JRER0UfJz88PJiYmCoufn997jysoKMC0adPQsmVL1K9fHwCQkJAAHR0dmJqaKuxrbW2NhIQE+T7/Lgxeb3+9rTiUulvh5cuXMDIyAgAcO3YM/fr1g4aGBtzc3BATE6PMKYmIiEoNMbs2fXx8MGPGDIV1urq67z3Oy8sLt27dwoULF0RMUzxKtRw4Ojpi3759ePToEY4ePSofZ5CUlARjY2NRAxIREambmHcr6OrqwtjYWGF5X3EwadIkHDx4EKdPn0blypXl621sbJCTk4O0tDSF/RMTE2FjYyPfp+jdC6+/fr3P+yhVHPj6+sLb2xvVqlWDq6sr3N3dARS2IjRu3FiZUxIREZV7giBg0qRJ2Lt3L06dOgUHBweF7U2bNoW2tjZOnjwpXxcREYHY2Fj572J3d3fcvHkTSUlJ8n2OHz8OY2NjODk5FSuHUt0KAwYMQKtWrRAfH4+GDRvK13fo0AF9+/ZV5pRERESlhlTPVvDy8sL27dvxv//9D0ZGRvIxAiYmJtDX14eJiQlGjx6NGTNmwMzMDMbGxpg8eTLc3d3h5uYGAOjcuTOcnJwwbNgwLF26FAkJCZgzZw68vLyK1Z0BfMAMiTY2NvLmiYyMDJw6dQq1a9dGnTp1lD0lERFRqSDV7dSv7/j75JNPFNZv2rQJI0aMAACsWLECGhoa6N+/P7Kzs+Hh4YE1a9bI99XU1MTBgwcxYcIEuLu7w9DQEJ6enliwYEGxcyg1z8HAgQPRpk0bTJo0Ca9evULDhg3x8OFDCIKAv/76C/379y/pKTnPwf/jPAeFOM9BIc5zUIjzHBTiPAf/UPU8B7OrDRHtXEsf/inaudRFqTEH586dk9/KuHfvXgiCgLS0NKxatQqLFi0SNSAREZG6STV9cmmhVHGQnp4un5AhICAA/fv3h4GBAbp3747IyEhRAxIREambmJMglUVKFQdVqlRBYGAgXrx4gYCAAPmtjKmpqdDT0xM1IBERkboJIi5lkVIDEqdNm4ahQ4eiQoUKqFq1qnzgxLlz59CgQQMx8xEREZGaKVUcTJw4Ec2bN8ejR4/QqVMnaGgUNkBUr16dYw6IiKjMK6tjBcSi9K2MLi4ucHZ2xoMHD1CjRg1oaWmhe/fuYmYjIiKShFBmOwTEodSYg5cvX2L06NEwMDBAvXr1EBtbeEvJ5MmTsWTJElEDEhERkXopVRz4+Pjg+vXrOHPmjMIAxI4dO2LHjh2ihSMiIpJCeb+VUaluhX379mHHjh1wc3ODTCaTr69Xrx6io6NFC0dERCSFsnoLoliUajlITk6GlZXVG+tfvHihUCwQERFR2aNUceDi4oJDhw7Jv35dEPz222/yp0IRERGVVeV9ngOlioPvvvsOX3/9NSZMmIC8vDysXLkSnTt3xqZNm7B48WKxM4qqVavm2L37d9y/H4ysrFj07Nn5jX18fWfgwYOrSE29h8OHt6NGjWrqDyqhWbO8kJvzBD8umy91FMlMGO+JqHtByMyIxqULB9DMpZHUkVTqfT8XvXt3wcGDf+DJk+vIyoqFs3PxHvta2lVvXgejfvPG3MtrsOzhn6jX2UVhu46BLvrOH4E5gb/A7+5mzDr+A9yHdpRvr1jZAsse/vnWxbmbq7rfjmje9f2gpaWFRYt8cPXqMTx9ehf37wdj48YVsLW1ljCx+DhDohJatWqFsLAw5OXloUGDBjh27BisrKwQGBiIpk2bip1RVAYGBrh5MxzTps156/aZMydg4sSRmDzZB61b98KLFy9x8OAfxX7MZVnn0rQhxo75HDduhEsdRTKfftoLy36Yh4WLlqOZaxdcvxGOw4e2wdLSXOpoKvO+nwtDQwNcuhSMOXP81JxMtXQMdBF3JxZ7fX9/6/Zec4ahdtuG+HP6aiztOBPnfj+CPvNHwKlj4edcWtxTzG82XmE5unwnsjJf4e6ZMDW+E3G96/vBwEAfjRvXh5/fKri5dcPgweNQs2Z17Nq1UYKkpCpKz3NQo0YNbNiwQcwsanHs2BkcO3bmP7dPmjQaS5b8jIMHjwMARo+ejtjYEPTq1Rk7dx5QU0ppGBoaYPOWXzB+wmx87TNF6jiSmT51LH7buB2bt/wNAJjo9RW6de2AkSMGY+kPqyVOpxrv+7nYvn0PAMDevrKaEqnH3TPXcffM9f/cXq1pLVzdfQ7RQXcAAJf/PAX3zzqgasMaCD8RAqFAwPPkdIVj6ns0w/VDQch5ma3S7Kr0ru+HjIzn6N59qMK66dPn4uLFg6hSxQ6PHsWpIaHqldW7DMSiVMsBABQUFODevXu4cOECzp07p7CUVQ4OVWFra4VTpy7I12VkPEdwcBhcXUt3i4gYfl71HY4cPolTp85LHUUy2traaNLEGSf/dQ0EQcDJUxfg5vbxfw+Qooch91CvY1MYW1cEANRwd4KFgy3unb/x1v0r1XdApXrVcGXHaXXGlJyJiTEKCgqQlpYhdRTRCCL+VxYp1XIQFBSEzz77DDExMRAExTcuk8mQn58vSjh1s7a2BAAkJaUorE9MTJFv+1gNHNgLjRvXh5t7+Z7l0sLCDFpaWkhKVPweSEpKRp3aNSRKRVLZ+60/PvUbC9/La5CfmwehQMBOnw24f+XuW/d3HdQOiZGPERNafp5Oq6uri0WLfPD33//D8+eZUscRTXlvOVCqOBg/frz8jgVbW9sS376YnZ2N7GzFJjdBEHgbpEQqV7bD8h8XoGu3IW/8fyEqz1p5eqBqI0f8PvoHpD5JQfXmddB3wUhkJKYi8uIthX21dLXRuHcLnFi1V6K06qelpYVt29ZAJgMmT/5G6jgkIqWKg8jISOzatQuOjo5Kvaifnx/mz1ccCa+paQwtLROlzieWxMRkAICVlQUSEpLk662tLXD9+sc7QK9JkwawtrbElcsB8nVaWlpo3doNEyeOgGEFBxQUlI86OiXlGfLy8mBlbaGw3srKEgn///1B5YOWrja6zhqMzV8sx53T1wAA8XdjYedkj7bjerxRHDh3c4W2ni6u7im7Xasl8bowqFq1Erp0GfxRtRoAfLaCUmMOXF1dERUVpfSL+vj4ID09XWHR1DRW+nxiefAgFvHxSWjXrqV8nZFRBTRr1giXL4dImEy1Tp26gEaN28OlWWf5cvVqGP78cy9cmnUuN4UBAOTm5iI09Abat2slXyeTydC+XSsEBX283wP0Jk1tLWjpaEEQFL//CwoK3trK6TqoHcJPhODFs+fqiiiZ14WBo6MDunX7DM+epUkdSXScPlkJkydPxsyZM5GQkIAGDRpAW1tbYbuzs/M7j9fV1X3j1kB1dSkYGhoozFtQrVoVODs7ITU1DY8exeGXXzbiq6+mICrqIR4+jMW8ed6Ij0/C/v3H1JJPCpmZL3D7doTCuhcvXuLp09Q31pcHK1ZuwKaNKxASegPBwdcwZfJYGBrqw3/zx/vckPf9XFSsaIIqVSrJ72WvVatw/EViYrK8xa0s0jHQhUU1G/nXZlUsYedkj5dpmUiLe4rooHD08BmK3KwcpD5OQXW3unDp1wb7F21VOI+5vTUcmtfBxpFL1f0WVOJd3w/x8Un48891aNy4Pvr2HQlNTU35mKxnz9KQm5srUWoSk0woOqKwGDQ03mxwkMlk8nEDygxI1NOrWuJjlNGmjRuOHfv7jfVbt+7E2LEzARROgjRq1GcwNTXGpUtXMWXKN4iKeqCWfPkFpWMw54njO3H9ejhmes+T5PWlbtCbOGEEZs6YABsbS1y/fhvTpvviSvA1tefQ0tBUy+u87+di2LAB2LBh+RvbFy1agUWLVqg83ySblu/fSQk13Opiwl++b6wP3nUWO7zXwcjSBN1mD0at1s4wMK2A1CfJCNp+Cuc2HlbYv+usQWjSpxW+azXljUHaYvol4aLKzv1v7/p+WLRoBSIiLr31uM6dB+LcuSBVxwMAZGXFqvT8w+z7iXaurTF7RDuXuihVHMTExLxzu729fYmDqKs4KO1KS3EgNamLg9JCXcVBaaeq4qCsUVdxUBaoujj4XMTi4I8yWBwo1a2gzC9/IiIiKhuKXRzs37+/2Cft1auXUmGIiIhKg7L6TASxFLs46NOnj8LXr8cY/Pvr18rqJEhEREQAb2Us9q2MBQUF8uXYsWNo1KgRjhw5grS0NKSlpeHw4cNo0qQJAgIC3n8yIiIiKrWUGnMwbdo0rFu3Dq1a/XMvuIeHBwwMDDBu3DjcuXNHtIBERETqVlbnJxCLUsVBdHQ0TE1N31hvYmKChw8ffmAkIiIiaZX3MQdKzZDYrFkzzJgxA4mJifJ1iYmJmDVrFpo3by5aOCIiIimU96cyKlUc/P7774iPj0fVqlXh6OgIR0dHVK1aFU+ePMHGjRvFzkhERERqpFS3gqOjI27cuIHjx4/j7t3CR5fWrVsXHTt25JMViYiozOOYAyXJZDJ07twZnTt3FjMPERGR5FQ5DXZZoHRx8OLFC5w9exaxsbHIyclR2DZlypQPDkZERETSUKo4uHbtGrp164aXL1/ixYsXMDMzQ0pKCgwMDGBlZcXigIiIyjTeraCE6dOno2fPnkhNTYW+vj6CgoIQExODpk2bYtmyZWJnJCIiUqsCEZeySKniICwsDDNnzoSGhgY0NTWRnZ2NKlWqYOnSpfj666/FzkhERERqpFRxoK2tDQ2NwkOtrKwQG1v46EwTExM8evRIvHREREQSKO/zHCg15qBx48YIDg5GzZo10bZtW/j6+iIlJQVbt25F/fr1xc5IRESkVhxzoITvvvsOtra2AIDFixejYsWKmDBhAlJSUvDrr7+KGpCIiIjUS6mWg3r16snvAbWyssK6deuwd+9eODk5oVGjRmLmIyIiUrvyPs+BUi0HvXv3xpYtWwAAaWlpcHNzw/Lly9GnTx+sXbtW1IBERETqxrsVlBAaGorWrVsDAHbt2gVra2vExMRgy5YtWLVqlagBiYiI1K28D0hUqjh4+fIljIyMAADHjh1Dv379oKGhATc3N8TExIgakIiIiNRLqeLA0dER+/btw6NHj3D06FH58xWSkpJgbGwsakAiIiJ1K4Ag2lIWKVUc+Pr6wtvbG9WqVYOrqyvc3d0BFLYiNG7cWNSARERE6iYIgmhLWaTU3QoDBgxAq1atEB8fj4YNG8rXd+jQAX379hUtHBEREamf0k9ltLGxgY2NjcK65s2bf3AgIiIiqZXV7gCxKNWtQERE9DGT6m6Fc+fOoWfPnrCzs4NMJsO+ffsUcwkCfH19YWtrC319fXTs2BGRkZEK+zx79gxDhw6FsbExTE1NMXr0aGRmZpYoh9ItB2LLK8iXOgJRqcOfi0KrEy9JHaFUsDY0lToCqdiLFy/QsGFDjBo1Cv369Xtj+9KlS7Fq1Sps3rwZDg4OmDt3Ljw8PBAeHg49PT0AwNChQxEfH4/jx48jNzcXI0eOxLhx47B9+/Zi55AJpWS0hJZOJakjEFEppa1Zav6OkZSVgYnUEUqNmKc3VHr+NpU6iHauc09OKnWcTCbD3r170adPHwCFrQZ2dnaYOXMmvL29AQDp6emwtraGv78/Bg8ejDt37sDJyQnBwcFwcXEBAAQEBKBbt254/Pgx7OzsivXa7FYgIiIqQhBxyc7ORkZGhsKSnZ1d4kwPHjxAQkICOnbsKF9nYmICV1dXBAYGAgACAwNhamoqLwwAoGPHjtDQ0MDly5eL/VosDoiIiFTIz88PJiYmCoufn1+Jz5OQkAAAsLa2VlhvbW0t35aQkAArKyuF7VpaWjAzM5PvUxxsqyMiIipCzLsVfHx8MGPGDIV1urq6op1fFT64OMjKypIPgiAiIvoYiFkc6OrqilIMvJ4+IDExEba2tvL1iYmJ8ici29jYICkpSeG4vLw8PHv27I3pB95FqW6FgoICLFy4EJUqVUKFChVw//59AMDcuXOxceNGZU5JRERUapTGGRIdHBxgY2ODkyf/GeCYkZGBy5cvy2cqdnd3R1paGkJCQuT7nDp1CgUFBXB1dS32aylVHCxatAj+/v5YunQpdHR05Ovr16+P3377TZlTEhERlXuZmZkICwtDWFgYgMJBiGFhYYiNjYVMJsO0adOwaNEi7N+/Hzdv3sTw4cNhZ2cnv6Ohbt266NKlC8aOHYsrV67g4sWLmDRpEgYPHlzsOxUAJbsVtmzZgvXr16NDhw4YP368fH3Dhg1x9+5dZU5JRERUakg1Q+LVq1fRrl07+devxyp4enrC398fs2fPxosXLzBu3DikpaWhVatWCAgIUOje37ZtGyZNmoQOHTpAQ0MD/fv3x6pVq0qUQ6l5DvT19XH37l3Y29vDyMgI169fR/Xq1REeHo7mzZuXeCYmgPMcENF/4zwHhTjPwT9UPc9BM7s2op0rOO6caOdSF6W6FZycnHD+/Pk31u/atYtPZSQiIirjlCrHfX194enpiSdPnqCgoAB79uxBREQEtmzZgoMHD4qdkYiISK1KyeTBklGq5aB37944cOAATpw4AUNDQ/j6+uLOnTs4cOAAOnXqJHZGIiIitSqAINpSFindkde6dWscP35czCxERERUCijVcvDo0SM8fvxY/vWVK1cwbdo0rF+/XrRgREREUimN8xyok1LFwWeffYbTp08DgPwhEFeuXME333yDBQsWiBqQiIhI3cp7t4JSxcGtW7fQvHlzAMDff/+NBg0a4NKlS9i2bRv8/f3FzEdERERqptSYg9zcXPk80SdOnECvXr0AAHXq1EF8fLx46YiIiCQglNG/+MWiVMtBvXr1sG7dOpw/fx7Hjx9Hly5dAABxcXEwNzcXNSAREZG6FQiCaEtZpFRx8P333+PXX3/FJ598giFDhqBhw4YAgP3798u7G4iIiMoqQcT/yiKluhU++eQTpKSkICMjAxUrVpSvHzduHAwMDEQLR0REROqn9DwHmpqaCoUBAFSrVu1D8xAREUmurHYHiKXYxUGTJk1w8uRJVKxYEY0bN4ZMJvvPfUNDQ0UJR0REJIWy2h0glmIXB71795bfofD6udFERET08Sl2cTBv3jwAQH5+Ptq1awdnZ2eYmpqqKhcREZFkynu3QonvVtDU1ETnzp2Rmpqqijxq17qVK/bt9UfswxDk5TxBr14eUkeSxJezJyHw0iGkPo1A3OPr2L1rI2rVqiF1LMlMGO+JqHtByMyIxqULB9DMpZHUkSRR3q5Dy5bNsWvXRty/fwWvXsWgZ8/OCtu/+WYawsJOIiXlDuLibuDQoW1o1qyRNGFVaNrsCYh5ekNhORn0P/l2XV0dLFz6NcIizyE8Jgjr/JfDwtJMwsTiK+93Kyh1K2P9+vVx//59sbNIwtDQADduhGPy1G+kjiKpNq3dsHbtZrRs3RNdug2BtpY2jhzaDgMDfamjqd2nn/bCsh/mYeGi5Wjm2gXXb4Tj8KFtsLQsX3N4lMfrYGhogJs372DatLlv3R4V9QDTp/vCxaUzOnToj5iYxzhwYCssLD6uX4wAEHEnCi5128mXAd085dvmLp6NDh5tMXGUNwb2GglrG0v8unmFhGlJbDJBiadCBAQEwMfHBwsXLkTTpk1haGiosN3Y2LjEQbR0KpX4GLHl5TxBvwGjsH//UamjSM7CwgwJcTfRrn0/nL9wWeo4anXpwgEEX72OqdPmAABkMhke3g/G6jWbsPSH1RKnU5/SdB20NZW+sUppr17FYODAsThw4Nh/7mNkVAFJSbfRtetnOHPmosozWRmYqPw1gMKWg87d2qHbJwPf2GZkVAGh985i6rivcPhA4ZN5a9SshlNB+9HH43Ncu3pDLRljnqr2dWpYNBHtXNEpZW+QvlItB926dcP169fRq1cvVK5cGRUrVkTFihVhamr6xu2NVDaZmBQWeM9S06QNomba2tpo0sQZJ0+dl68TBAEnT12Am1tTCZOpF6/D+2lra2P06M+QlpaOmzfDpY4jOofq9rhy+wTOhxzGynV+sKtkAwBo0MgJOjrauHA2SL5vdORDPH4UhyYuzlLFFV1571ZQqhx//URGZWVnZyM7O1thnSAI77w9ktRHJpNh+bL5uHjxCm7fjpA6jlpZWJhBS0sLSYkpCuuTkpJRp3b5GYPB6/DfunZtjy1bfoGBgT4SEpLQo8fnePr04xiD9VpYyE3MnDQH96MewsraEtNmj8fOQ/7o3KofLK0skJ2dg4yM5wrHpCQ/haW1hUSJSWxKFQdt27b9oBf18/PD/PnzFdbJNCpAplny7ggS38+rvkO9erXRtl1fqaMQlTpnzwbC1bUrLCzMMHLkEPzxxxq0adMbyclPpY4mmjMnL8j/fTc8EmEhN3HxegB69PZAVlb2O478eAhCgdQRJKVUtwIApKamYtmyZRg9ejRGjx6NH3/8Ec+ePSvWsT4+PkhPT1dYZBpGykYhEa38aRG6d+uIjp0/xZMn5e8Jmykpz5CXlwerIn8BWVlZIiExWaJU6sfr8N9evnyF+/djcOXKNUyYMBt5eXnw9BwkdSyVysh4jgfRMbCvXgXJSSnQ1dWBsbHiZ7aFpTmSi7Q0lWUFEERbyiKlioNz586hWrVqWLVqFVJTU5GamopVq1bBwcEB586de+/xurq6MDY2VljYpSC9lT8tQp/eXdDJYyAePnwkdRxJ5ObmIjT0Btq3ayVfJ5PJ0L5dKwQFhUiYTL14HYpPQ0MDuro6UsdQKQNDfdhXq4KkxBTcDAtHTk4uWrZ1lW+v7lgNlavYIVRNgxHVQRAE0ZaySKluBS8vLwwaNAhr166FpqYmgMLJkSZOnAgvLy/cvHlT1JCqZGhoAEdHB/nXDtWqomHDenj2LBWPHsVJmEy9fl71HYYM7oN+/Ufh+fNMWFtbAgDS058jKytL4nTqtWLlBmzauAIhoTcQHHwNUyaPhaGhPvw375A6mlqVx+tgaGiAGjWqyb+uVq0KnJ2dkJqahqdPU/Hll5Nw6NAJJCQkwdy8Ir74whN2dtbYs+eQdKFV4Jv5M3Hi6Bk8eRQPaxtLTP9qIvLz87F/9xE8f56JHdv2Ys5Cb6SlpuP580wsWOKDkCthartTgVRPqVsZ9fX1ERYWhtq1ayusj4iIQKNGjfDq1asSB5HqVsa2bdxx8sSuN9Zv3vI3Ro+ZLkEiaeTlPHnr+lGjp2PL1r/VnEZ6EyeMwMwZE2BjY4nr129j2nRfXAm+JnUstSst10FdtzK2bu2GY8feLH62bt2JyZO/webNq9CsWSOYm1fEs2dpuHr1Or7//meEhKjnl6K6bmX8ecP3cG3RFKYVTfHsaSqCg0Lxw+KfEfvwMYDCSZDmLPRGr35doaOjg3OnL2LOrMVITlLfuAtV38pY2ay+aOd6/OyWaOdSF6WKg5YtW2LWrFlvPGNh3759WLJkCYKCgt5+4DuUhnkOiKh0kmKeg9JIXcVBWaDq4qBSxXqinetJ6m3RzqUuSv3ETZkyBVOnTkVUVBTc3NwAAEFBQVi9ejWWLFmCGzf++Z/m7Pzx3PdKRERUHijVcqCh8e5xjDKZTD5vQX5+frHOyZYDIvovbDkoxJaDf6i65cDW1Em0c8Wnlb1JspT6iXvw4IHYOYiIiEqNsjqzoVhKXBzk5uZi/vz5mDt3LhwcHN5/ABEREZUpJZ7nQFtbG7t371ZFFiIiolKhvM9zoNQkSH369MG+fftEjkJERFQ6lPcZEpUac1CzZk0sWLAAFy9efOsjm6dMmSJKOCIiIlI/pe5WeNdYA5lMhvv375c4CO9WIKL/wrsVCvFuhX+o+m4FC+Naop0rJeOeaOdSF96tQEREVERBGR0rIBaW40REREWU1YGEYlGqOBg1atQ7t//+++9KhSEiIiLpKVUcpKamKnydm5uLW7duIS0tDe3btxclGBERkVTK6l0GYlGqONi7d+8b6woKCjBhwgTUqFHjg0MRERFJqbx3Kyg1z8FbT6ShgRkzZmDFihVinZKIiIgkIOqAxOjoaOTl5Yl5SiIiIrXj3QpKmDFjhsLXgiAgPj4ehw4dgqenpyjBiIiIpMIHLynh2rVrCl9raGjA0tISP/7443vvZCAiIqLSTani4NChQxAEQT5t8sOHD7Fv3z7Y29tDS4tTJxARUdlW3rsVlH7w0tatWwEAaWlpcHNzw48//og+ffpg7dq1ogYkIiJSNz6VUQmhoaFo3bo1AGDXrl2wtrZGTEwMtmzZglWrVokakIiIiNRLqT6Aly9fwsjICABw7Ngx9OvXDxoaGnBzc0NMTIyoAYmIiNStvA9IVKrlwNHREfv27cOjR49w9OhRdO7cGQCQlJQEY2NjUQMSERGpm5TdCqtXr0a1atWgp6cHV1dXXLlyRQXv8N2UKg58fX3h7e2NatWqwdXVFe7u7gAKWxEaN24sakAiIiJ1k6o42LFjB2bMmIF58+YhNDQUDRs2hIeHB5KSklT0Tt9OJig5WiIhIQHx8fFo2LAhNDQKa4wrV67A2NgYderUKfH5tHQqKRODiMoBbU3eBQUAVgYmUkcoNWKe3lDp+bVF/J2Um/Ok2Pu6urqiWbNm+OWXXwAUPpqgSpUqmDx5Mr766ivRMr2P0j9xNjY2sLGxUVjXvHnzDw5EREQkNTFHHGRnZyM7O1thna6uLnR1dRXW5eTkICQkBD4+PvJ1Ghoa6NixIwIDA0VMVAwCCYIgCFlZWcK8efOErKwsqaNIitehEK9DIV6HQrwOhXgdlDNv3jwBhfWGfJk3b94b+z158kQAIFy6dElh/axZs4TmzZurKW0hpbsVPjYZGRkwMTFBenp6uR5UyetQiNehEK9DIV6HQrwOyiluy0FcXBwqVaqES5cuycfyAcDs2bNx9uxZXL58WS15AZEfvERERESK3lYIvI2FhQU0NTWRmJiosD4xMfGNbnxVE+2RzURERKQ8HR0dNG3aFCdPnpSvKygowMmTJxVaEtSBLQdERESlxIwZM+Dp6QkXFxc0b94cP/30E168eIGRI0eqNQeLg/+nq6uLefPmFavp52PG61CI16EQr0MhXodCvA6qN2jQICQnJ8PX1xcJCQlo1KgRAgICYG1trdYcHJBIRERECjjmgIiIiBSwOCAiIiIFLA6IiIhIAYuDj5wgCBg3bhzMzMwgk8kQFhYmdaRSYcSIEejTp4/UMdTuk08+wbRp06SOUarJZDLs27dP6hhl2rfffotGjRpJHYM+AO9W+MgFBATA398fZ86cQfXq1WFhYSF1pFJh5cqVSj1KlYjez9vbG5MnT5Y6Bn0AFgcqkpubC21tbaljIDo6Gra2tmjRooXKXiMnJwc6OjoqO78qmJjw6XZE/0XZn2lBEJCfn48KFSqgQoUKKkhG6lLmuxUCAgLQqlUrmJqawtzcHD169EB0dDQA4OHDh5DJZNizZw/atWsHAwMDNGzY8I2nW23YsAFVqlSBgYEB+vbti+XLl8PU1FRhn//9739o0qQJ9PT0UL16dcyfPx95eXny7TKZDGvXrkWvXr1gaGiIxYsXq/y9v8+IESMwefJkxMbGQiaToVq1aigoKICfnx8cHBygr6+Phg0bYteuXfJj8vPzMXr0aPn22rVrY+XKlW+ct0+fPli8eDHs7OxQu3Ztdb+1D/bvboXs7GxMmTIFVlZW0NPTQ6tWrRAcHAyg8MPO0dERy5YtUzg+LCwMMpkMUVFR6o4umtTUVAwfPhwVK1aEgYEBunbtisjISACFc+jr6+vjyJEjCsfs3bsXRkZGePnyJQDg0aNHGDhwIExNTWFmZobevXvj4cOHan0fu3btQoMGDaCvrw9zc3N07NgRL168QHBwMDp16gQLCwuYmJigbdu2CA0NVTg2MjISbdq0gZ6eHpycnHD8+HGF7cX9DLlw4QJat24NfX19VKlSBVOmTMGLFy/k29esWYOaNWtCT08P1tbWGDBgwHvzi3Ud3taV1KdPH4wYMUL+dbVq1bBw4UIMHz4cxsbGGDdunPy9//XXX2jRogX09PRQv359nD17Vn7cmTNnIJPJcOTIETRt2hS6urq4cOHCG90KZ86cQfPmzWFoaAhTU1O0bNkSMTEx8u3v+3wlCaj1MU8qsGvXLmH37t1CZGSkcO3aNaFnz55CgwYNhPz8fOHBgwcCAKFOnTrCwYMHhYiICGHAgAGCvb29kJubKwiCIFy4cEHQ0NAQfvjhByEiIkJYvXq1YGZmJpiYmMhf49y5c4KxsbHg7+8vREdHC8eOHROqVasmfPvtt/J9AAhWVlbC77//LkRHRwsxMTHqvhRvSEtLExYsWCBUrlxZiI+PF5KSkoRFixYJderUEQICAoTo6Ghh06ZNgq6urnDmzBlBEAQhJydH8PX1FYKDg4X79+8Lf/zxh2BgYCDs2LFDfl5PT0+hQoUKwrBhw4Rbt24Jt27dkuotKs3T01Po3bu3IAiCMGXKFMHOzk44fPiwcPv2bcHT01OoWLGi8PTpU0EQBGHx4sWCk5OTwvFTpkwR2rRpo+7YH6xt27bC1KlTBUEQhF69egl169YVzp07J4SFhQkeHh6Co6OjkJOTIwiCIAwYMED4/PPPFY7v37+/fF1OTo5Qt25dYdSoUcKNGzeE8PBw4bPPPhNq164tZGdnq+X9xMXFCVpaWsLy5cuFBw8eCDdu3BBWr14tPH/+XDh58qSwdetW4c6dO0J4eLgwevRowdraWsjIyBAEQRDy8/OF+vXrCx06dBDCwsKEs2fPCo0bNxYACHv37hUEQSjWZ0hUVJRgaGgorFixQrh3755w8eJFoXHjxsKIESMEQRCE4OBgQVNTU9i+fbvw8OFDITQ0VFi5cuV784t1Hf79//y13r17C56envKv7e3tBWNjY2HZsmVCVFSUEBUVJX/vlStXFnbt2iWEh4cLY8aMEYyMjISUlBRBEATh9OnTAgDB2dlZOHbsmBAVFSU8ffpUmDdvntCwYUNBEAQhNzdXMDExEby9vYWoqCghPDxc8Pf3l39GFufzldSvzBcHRSUnJwsAhJs3b8q/uX/77Tf59tu3bwsAhDt37giCIAiDBg0SunfvrnCOoUOHKhQHHTp0EL777juFfbZu3SrY2trKvwYgTJs2TQXv6MOsWLFCsLe3FwSh8HGrBgYGbzwOdPTo0cKQIUP+8xxeXl5C//795V97enoK1tbWavsFoAqvi4PMzExBW1tb2LZtm3xbTk6OYGdnJyxdulQQhMLHqGpqagqXL1+Wb7ewsBD8/f0lyf4hXv+iuHfvngBAuHjxonxbSkqKoK+vL/z999+CIAjC3r17hQoVKggvXrwQBEEQ0tPTBT09PeHIkSOCIBT+DNSuXVsoKCiQnyM7O1vQ19cXjh49qpb3ExISIgAQHj58+N598/PzBSMjI+HAgQOCIAjC0aNHBS0tLeHJkyfyfY4cOfLW4uBdnyGjR48Wxo0bp/Ba58+fFzQ0NIRXr14Ju3fvFoyNjeVFibL53+Vd5ylucdCnTx+FfV6/9yVLlsjX5ebmCpUrVxa+//57QRD+KQ727duncOy/i4OnT58KAOR/gBRVnM9XUr8y360QGRmJIUOGoHr16jA2Nka1atUAALGxsfJ9nJ2d5f+2tbUFACQlJQEAIiIi0Lx5c4VzFv36+vXrWLBggbwfrUKFChg7dizi4+PlzasA4OLiIup7E1tUVBRevnyJTp06KbyXLVu2yLtiAGD16tVo2rQpLC0tUaFCBaxfv17hegJAgwYNytw4g7eJjo5Gbm4uWrZsKV+nra2N5s2b486dOwAAOzs7dO/eHb///jsA4MCBA8jOzsann34qSWYx3LlzB1paWnB1dZWvMzc3R+3ateXvu1u3btDW1sb+/fsBALt374axsTE6duwIoPDnIioqCkZGRvLvJTMzM2RlZSl8P6lSw4YN0aFDBzRo0ACffvopNmzYgNTUVACFT7IbO3YsatasCRMTExgbGyMzM1P+vXznzh1UqVIFdnZ28vP918Nt3vUZcv36dfj7+yv8THl4eKCgoAAPHjxAp06dYG9vj+rVq2PYsGHYtm2b/HPjXfnFug7F9V+fX/++JlpaWnBxcZF/j7zvWAAwMzPDiBEj4OHhgZ49e2LlypWIj4+Xby/u5yupV5kvDnr27Ilnz55hw4YNuHz5svx51zk5OfJ9/j0wUCaTASh80lVxZWZmYv78+QgLC5MvN2/eRGRkJPT09OT7GRoafujbUanMzEwAwKFDhxTeS3h4uHzcwV9//QVvb2+MHj0ax44dQ1hYGEaOHKlwPYHS/17FNmbMGPz111949eoVNm3ahEGDBsHAwEDqWCqlo6ODAQMGYPv27QCA7du3Y9CgQdDSKhzHnJmZiaZNmyp8L4WFheHevXv47LPP1JJRU1MTx48fx5EjR+Dk5ISff/4ZtWvXxoMHD+Dp6YmwsDCsXLkSly5dQlhYGMzNzd/4Xi6Od32GZGZm4osvvlC4BtevX0dkZCRq1KgBIyMjhIaG4s8//4StrS18fX3RsGFDpKWlvTO/WNdBQ0PjjTtzcnNz3zjHh/xMv+/YTZs2ITAwEC1atMCOHTtQq1YtBAUFASj+5yupV5m+W+Hp06eIiIjAhg0b0Lp1awCFA4NKonbt2vLBZ68V/bpJkyaIiIiAo6PjhwWWmJOTE3R1dREbG4u2bdu+dZ+LFy+iRYsWmDhxonyduv4KlEKNGjWgo6ODixcvwt7eHkDhB2dwcLDCIK5u3brB0NAQa9euRUBAAM6dOydRYnHUrVsXeXl5uHz5svxOltc/T05OTvL9hg4dik6dOuH27ds4deoUFi1aJN/WpEkT7NixA1ZWVjA2Nlb7e3hNJpOhZcuWaNmyJXx9fWFvb4+9e/fi4sWLWLNmDbp16wagcPBkSkqK/Li6devi0aNHiI+Pl7cGvP6FVRJNmjRBeHj4Oz8ftLS00LFjR3Ts2BHz5s2DqakpTp06hX79+v1n/hkzZohyHSwtLRX+Us/Pz8etW7fQrl27Yp03KCgIbdq0AQDk5eUhJCQEkyZNKlE2AGjcuDEaN24MHx8fuLu7Y/v27XBzc/toPl8/NmW6OKhYsSLMzc2xfv162NraIjY2Fl999VWJzjF58mS0adMGy5cvR8+ePXHq1CkcOXJE/tcBAPj6+qJHjx6oWrUqBgwYAA0NDVy/fh23bt1S+LAs7YyMjODt7Y3p06ejoKAArVq1Qnp6Oi5evAhjY2N4enqiZs2a2LJlC44ePQoHBwds3boVwcHBcHBwkDq+ShgaGmLChAmYNWsWzMzMULVqVSxduhQvX77E6NGj5ftpampixIgR8PHxQc2aNdX+bHWx1axZE71798bYsWPx66+/wsjICF999RUqVaqE3r17y/dr06YNbGxsMHToUDg4OCh0QwwdOhQ//PADevfujQULFqBy5cqIiYnBnj17MHv2bFSuXFnl7+Py5cs4efIkOnfuDCsrK1y+fBnJycmoW7cuatasia1bt8LFxQUZGRmYNWsW9PX15cd27NgRtWrVgqenJ3744QdkZGTgm2++KXGGL7/8Em5ubpg0aRLGjBkDQ0NDhIeH4/jx4/jll19w8OBB3L9/H23atEHFihVx+PBhFBQUoHbt2u/ML9Z1MDQ0xIwZM3Do0CHUqFEDy5cvR1paWrHPvXr1atSsWRN169bFihUrkJqailGjRhX7+AcPHmD9+vXo1asX7OzsEBERgcjISAwfPhzAx/P5+tGRetDDhzp+/LhQt25dQVdXV3B2dhbOnDkjH1D0ekDNtWvX5PunpqYKAITTp0/L161fv16oVKmSoK+vL/Tp00dYtGiRYGNjo/A6AQEBQosWLQR9fX3B2NhYaN68ubB+/Xr5dvxrEFNp8u8BiYIgCAUFBcJPP/0k1K5dW9DW1hYsLS0FDw8P4ezZs4IgFA5aHDFihGBiYiKYmpoKEyZMEL766iv54CJBUBzpX1b9+z28evVKmDx5smBhYSHo6uoKLVu2FK5cufLGMdHR0QIA+UDFsujfg9OePXsmDBs2TDAxMRH09fUFDw8P4d69e28cM3v2bAGA4Ovr+8a2+Ph4Yfjw4fJrV716dWHs2LFCenq6qt+KIAiCEB4eLnh4eAiWlpaCrq6uUKtWLeHnn38WBEEQQkNDBRcXF0FPT0+oWbOmsHPnTsHe3l5YsWKF/PiIiAihVatWgo6OjlCrVi0hICDgrQMS3/cZcuXKFaFTp05ChQoVBENDQ8HZ2VlYvHixIAiFgxPbtm0rVKxYUdDX1xecnZ3ld/+8K79Y1yEnJ0eYMGGCYGZmJlhZWQl+fn5vHZD47+vy7/e+fft2oXnz5oKOjo7g5OQknDp1Sr7P6wGJqampCsf+e0BiQkKC0KdPH8HW1lbQ0dER7O3tBV9fXyE/P1++//s+X0n9+Mjmtxg7dizu3r2L8+fPSx2FVGTIkCHQ1NTEH3/8Uexjzp8/jw4dOuDRo0dqf7Y6kbo9fPgQDg4OuHbtGqdCLofK/IBEMSxbtkw+8vrnn3/G5s2b4enpKXUsUoG8vDyEh4cjMDAQ9erVK9Yx2dnZePz4Mb799lt8+umnLAyI6KPH4gDAlStX0KlTJzRo0ADr1q3DqlWrMGbMGKljkQrcunULLi4uqFevHsaPH1+sY/7880/Y29sjLS0NS5cuVXFCIiLpsVuBiIiIFLDlgIiIiBSwOCAiIiIFLA6IiIhIAYsDIiIiUsDigIiIiBSwOCAiIiIFLA6IiIhIAYsDIiIiUsDigIiIiBT8H8KUbikyDgSDAAAAAElFTkSuQmCC",
            "text/plain": [
              "<Figure size 640x480 with 2 Axes>"
            ]
          },
          "metadata": {},
          "output_type": "display_data"
        }
      ],
      "source": [
        "from sklearn.metrics import confusion_matrix\n",
        "import seaborn as sns\n",
        "cf_matrix = confusion_matrix(test_data['label'],preds)\n",
        "sns.heatmap(cf_matrix, annot=True,fmt=\".0f\",xticklabels = encoding.keys(),yticklabels = encoding.keys());"
      ]
    }
  ],
  "metadata": {
    "accelerator": "GPU",
    "colab": {
      "gpuType": "T4",
      "provenance": []
    },
    "kernelspec": {
      "display_name": "Python 3",
      "name": "python3"
    },
    "language_info": {
      "name": "python"
    },
    "nbformat": 4,
  "nbformat_minor": 0
}
